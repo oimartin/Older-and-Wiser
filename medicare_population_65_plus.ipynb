{
  "nbformat": 4,
  "nbformat_minor": 0,
  "metadata": {
    "colab": {
      "name": "Untitled0.ipynb",
      "provenance": [],
      "collapsed_sections": [
        "mvh-BaJihCAT",
        "MBdVLRwbo7XL",
        "7dump_ZRm-St",
        "9fUVCk0E3oE0",
        "dYxWbgNcoHXE",
        "wu-Qx8HmU9_s"
      ],
      "authorship_tag": "ABX9TyNrLnckt21rymJu+h5uXy+r",
      "include_colab_link": true
    },
    "kernelspec": {
      "name": "python3",
      "display_name": "Python 3"
    },
    "language_info": {
      "name": "python"
    }
  },
  "cells": [
    {
      "cell_type": "markdown",
      "metadata": {
        "id": "view-in-github",
        "colab_type": "text"
      },
      "source": [
        "<a href=\"https://colab.research.google.com/github/oimartin/Older-and-Wiser/blob/main/medicare_population_65_plus.ipynb\" target=\"_parent\"><img src=\"https://colab.research.google.com/assets/colab-badge.svg\" alt=\"Open In Colab\"/></a>"
      ]
    },
    {
      "cell_type": "markdown",
      "source": [
        "# Injest Data\n",
        "* Source - Centers for Medicare and Medicaid Services\n",
        "* https://data.cms.gov/summary-statistics-on-beneficiary-enrollment/medicare-and-medicaid-reports/medicare-newly-enrolled"
      ],
      "metadata": {
        "id": "ffbdsD4UnxfI"
      }
    },
    {
      "cell_type": "code",
      "source": [
        "# !pip install -U kaleido"
      ],
      "metadata": {
        "id": "c4-zDKzZHAzl",
        "outputId": "2743b845-7881-49cf-8f1b-a8359683e771",
        "colab": {
          "base_uri": "https://localhost:8080/"
        }
      },
      "execution_count": 96,
      "outputs": [
        {
          "output_type": "stream",
          "name": "stdout",
          "text": [
            "Looking in indexes: https://pypi.org/simple, https://us-python.pkg.dev/colab-wheels/public/simple/\n",
            "Requirement already satisfied: kaleido in /usr/local/lib/python3.7/dist-packages (0.2.1)\n"
          ]
        }
      ]
    },
    {
      "cell_type": "code",
      "execution_count": 101,
      "metadata": {
        "id": "P7ycp15tUPL4"
      },
      "outputs": [],
      "source": [
        "import pandas as pd\n",
        "import numpy as np\n",
        "import plotly.express as px\n",
        "import kaleido"
      ]
    },
    {
      "cell_type": "markdown",
      "source": [
        "# Area Data"
      ],
      "metadata": {
        "id": "xdP9OXn-2JcK"
      }
    },
    {
      "cell_type": "markdown",
      "source": [
        "## Filter"
      ],
      "metadata": {
        "id": "Nbkn4vrBInHM"
      }
    },
    {
      "cell_type": "code",
      "source": [
        "# load data\n",
        "total_area_20 = pd.read_csv('https://raw.githubusercontent.com/oimartin/Older-and-Wiser/main/data/2020_total_area_medicare_enrolled.csv')\n",
        "state_pop = pd.read_csv('https://raw.githubusercontent.com/oimartin/Older-and-Wiser/main/data/us_census_2020_population.csv')\n",
        "state_abbrev = pd.read_csv('https://raw.githubusercontent.com/jasonong/List-of-US-States/master/states.csv')"
      ],
      "metadata": {
        "id": "Dkjb5Azl2aMw"
      },
      "execution_count": 2,
      "outputs": []
    },
    {
      "cell_type": "code",
      "source": [
        "# function to modify Medicare area excel files\n",
        "\n",
        "def area_df(df):\n",
        "  df.drop(columns='Unnamed: 13', inplace=True)\n",
        "  df.iloc[:,1:] = df.iloc[:, 1:].replace('  ', np.nan, regex=True)\n",
        "  df.dropna(axis=0,inplace=True)\n",
        "  df.columns = df.iloc[0]\n",
        "\n",
        "  clean = df.iloc[1:,0:2]\n",
        "  clean.iloc[:,:] = clean.replace(',', '', regex=True)\n",
        "  clean.iloc[:,:] = clean.replace('*', 0)\n",
        "  clean.iloc[:,1] = clean.iloc[:,1].astype(int)\n",
        "  return clean"
      ],
      "metadata": {
        "id": "Lujdh4D8NXRv"
      },
      "execution_count": 3,
      "outputs": []
    },
    {
      "cell_type": "code",
      "source": [
        "# Check shape\n",
        "clean_area_20 = area_df(total_area_20)\n",
        "display(clean_area_20.shape)"
      ],
      "metadata": {
        "colab": {
          "base_uri": "https://localhost:8080/",
          "height": 34
        },
        "id": "omXdji2r2L8i",
        "outputId": "918f5a56-34d9-4c03-8c1a-1d6695965f49"
      },
      "execution_count": 4,
      "outputs": [
        {
          "output_type": "display_data",
          "data": {
            "text/plain": [
              "(60, 2)"
            ]
          },
          "metadata": {}
        }
      ]
    },
    {
      "cell_type": "code",
      "source": [
        "# function to modify US population excel file\n",
        "def pop_df(df):\n",
        "  df = df.iloc[:, 0:2].dropna(axis=0)\n",
        "  df.iloc[:,:] = df.replace(',', '', regex=True)\n",
        "  df['Total:'] = df['Total:'].astype(int)\n",
        "\n",
        "  return df"
      ],
      "metadata": {
        "id": "WS0Y5tCkjgJ-"
      },
      "execution_count": 5,
      "outputs": []
    },
    {
      "cell_type": "code",
      "source": [
        "# Clean and add state population to clean_area_20 df\n",
        "clean_pop = pop_df(state_pop)\n",
        "clean_area_20['State_Pop'] = 1\n",
        "clean_area_20.iloc[2:54,2] = clean_pop['Total:']\n",
        "clean_area_20['A.B_aged_state_pop_porp'] = clean_area_20.iloc[2:54,1] / clean_area_20.iloc[2:54,2]\n",
        "clean_area_20['AB_aged_medicare_aged_prorp'] = clean_area_20.iloc[:,1]/clean_area_20.iloc[0,1]"
      ],
      "metadata": {
        "id": "DgjqJo3tkrlu"
      },
      "execution_count": 6,
      "outputs": []
    },
    {
      "cell_type": "code",
      "source": [
        "clean_area_20.head()"
      ],
      "metadata": {
        "id": "oZxD4SgCCM-T",
        "outputId": "256a315b-ce50-417c-b29d-f95fee09ba39",
        "colab": {
          "base_uri": "https://localhost:8080/",
          "height": 250
        }
      },
      "execution_count": 7,
      "outputs": [
        {
          "output_type": "execute_result",
          "data": {
            "text/plain": [
              "2 Area of Residence  Part A and/or Part B Total  State_Pop  \\\n",
              "4         All Areas                     3793542          1   \n",
              "5     United States                     3739508          1   \n",
              "7           Alabama                       58719    5024279   \n",
              "8            Alaska                        8263     733391   \n",
              "9           Arizona                       78342    7151502   \n",
              "\n",
              "2  A.B_aged_state_pop_porp  AB_aged_medicare_aged_prorp  \n",
              "4                      NaN                     1.000000  \n",
              "5                      NaN                     0.985756  \n",
              "7                 0.011687                     0.015479  \n",
              "8                 0.011267                     0.002178  \n",
              "9                 0.010955                     0.020651  "
            ],
            "text/html": [
              "\n",
              "  <div id=\"df-c8ea847b-3654-4c16-8da1-ae4dd1b8ce2e\">\n",
              "    <div class=\"colab-df-container\">\n",
              "      <div>\n",
              "<style scoped>\n",
              "    .dataframe tbody tr th:only-of-type {\n",
              "        vertical-align: middle;\n",
              "    }\n",
              "\n",
              "    .dataframe tbody tr th {\n",
              "        vertical-align: top;\n",
              "    }\n",
              "\n",
              "    .dataframe thead th {\n",
              "        text-align: right;\n",
              "    }\n",
              "</style>\n",
              "<table border=\"1\" class=\"dataframe\">\n",
              "  <thead>\n",
              "    <tr style=\"text-align: right;\">\n",
              "      <th>2</th>\n",
              "      <th>Area of Residence</th>\n",
              "      <th>Part A and/or Part B Total</th>\n",
              "      <th>State_Pop</th>\n",
              "      <th>A.B_aged_state_pop_porp</th>\n",
              "      <th>AB_aged_medicare_aged_prorp</th>\n",
              "    </tr>\n",
              "  </thead>\n",
              "  <tbody>\n",
              "    <tr>\n",
              "      <th>4</th>\n",
              "      <td>All Areas</td>\n",
              "      <td>3793542</td>\n",
              "      <td>1</td>\n",
              "      <td>NaN</td>\n",
              "      <td>1.000000</td>\n",
              "    </tr>\n",
              "    <tr>\n",
              "      <th>5</th>\n",
              "      <td>United States</td>\n",
              "      <td>3739508</td>\n",
              "      <td>1</td>\n",
              "      <td>NaN</td>\n",
              "      <td>0.985756</td>\n",
              "    </tr>\n",
              "    <tr>\n",
              "      <th>7</th>\n",
              "      <td>Alabama</td>\n",
              "      <td>58719</td>\n",
              "      <td>5024279</td>\n",
              "      <td>0.011687</td>\n",
              "      <td>0.015479</td>\n",
              "    </tr>\n",
              "    <tr>\n",
              "      <th>8</th>\n",
              "      <td>Alaska</td>\n",
              "      <td>8263</td>\n",
              "      <td>733391</td>\n",
              "      <td>0.011267</td>\n",
              "      <td>0.002178</td>\n",
              "    </tr>\n",
              "    <tr>\n",
              "      <th>9</th>\n",
              "      <td>Arizona</td>\n",
              "      <td>78342</td>\n",
              "      <td>7151502</td>\n",
              "      <td>0.010955</td>\n",
              "      <td>0.020651</td>\n",
              "    </tr>\n",
              "  </tbody>\n",
              "</table>\n",
              "</div>\n",
              "      <button class=\"colab-df-convert\" onclick=\"convertToInteractive('df-c8ea847b-3654-4c16-8da1-ae4dd1b8ce2e')\"\n",
              "              title=\"Convert this dataframe to an interactive table.\"\n",
              "              style=\"display:none;\">\n",
              "        \n",
              "  <svg xmlns=\"http://www.w3.org/2000/svg\" height=\"24px\"viewBox=\"0 0 24 24\"\n",
              "       width=\"24px\">\n",
              "    <path d=\"M0 0h24v24H0V0z\" fill=\"none\"/>\n",
              "    <path d=\"M18.56 5.44l.94 2.06.94-2.06 2.06-.94-2.06-.94-.94-2.06-.94 2.06-2.06.94zm-11 1L8.5 8.5l.94-2.06 2.06-.94-2.06-.94L8.5 2.5l-.94 2.06-2.06.94zm10 10l.94 2.06.94-2.06 2.06-.94-2.06-.94-.94-2.06-.94 2.06-2.06.94z\"/><path d=\"M17.41 7.96l-1.37-1.37c-.4-.4-.92-.59-1.43-.59-.52 0-1.04.2-1.43.59L10.3 9.45l-7.72 7.72c-.78.78-.78 2.05 0 2.83L4 21.41c.39.39.9.59 1.41.59.51 0 1.02-.2 1.41-.59l7.78-7.78 2.81-2.81c.8-.78.8-2.07 0-2.86zM5.41 20L4 18.59l7.72-7.72 1.47 1.35L5.41 20z\"/>\n",
              "  </svg>\n",
              "      </button>\n",
              "      \n",
              "  <style>\n",
              "    .colab-df-container {\n",
              "      display:flex;\n",
              "      flex-wrap:wrap;\n",
              "      gap: 12px;\n",
              "    }\n",
              "\n",
              "    .colab-df-convert {\n",
              "      background-color: #E8F0FE;\n",
              "      border: none;\n",
              "      border-radius: 50%;\n",
              "      cursor: pointer;\n",
              "      display: none;\n",
              "      fill: #1967D2;\n",
              "      height: 32px;\n",
              "      padding: 0 0 0 0;\n",
              "      width: 32px;\n",
              "    }\n",
              "\n",
              "    .colab-df-convert:hover {\n",
              "      background-color: #E2EBFA;\n",
              "      box-shadow: 0px 1px 2px rgba(60, 64, 67, 0.3), 0px 1px 3px 1px rgba(60, 64, 67, 0.15);\n",
              "      fill: #174EA6;\n",
              "    }\n",
              "\n",
              "    [theme=dark] .colab-df-convert {\n",
              "      background-color: #3B4455;\n",
              "      fill: #D2E3FC;\n",
              "    }\n",
              "\n",
              "    [theme=dark] .colab-df-convert:hover {\n",
              "      background-color: #434B5C;\n",
              "      box-shadow: 0px 1px 3px 1px rgba(0, 0, 0, 0.15);\n",
              "      filter: drop-shadow(0px 1px 2px rgba(0, 0, 0, 0.3));\n",
              "      fill: #FFFFFF;\n",
              "    }\n",
              "  </style>\n",
              "\n",
              "      <script>\n",
              "        const buttonEl =\n",
              "          document.querySelector('#df-c8ea847b-3654-4c16-8da1-ae4dd1b8ce2e button.colab-df-convert');\n",
              "        buttonEl.style.display =\n",
              "          google.colab.kernel.accessAllowed ? 'block' : 'none';\n",
              "\n",
              "        async function convertToInteractive(key) {\n",
              "          const element = document.querySelector('#df-c8ea847b-3654-4c16-8da1-ae4dd1b8ce2e');\n",
              "          const dataTable =\n",
              "            await google.colab.kernel.invokeFunction('convertToInteractive',\n",
              "                                                     [key], {});\n",
              "          if (!dataTable) return;\n",
              "\n",
              "          const docLinkHtml = 'Like what you see? Visit the ' +\n",
              "            '<a target=\"_blank\" href=https://colab.research.google.com/notebooks/data_table.ipynb>data table notebook</a>'\n",
              "            + ' to learn more about interactive tables.';\n",
              "          element.innerHTML = '';\n",
              "          dataTable['output_type'] = 'display_data';\n",
              "          await google.colab.output.renderOutput(dataTable, element);\n",
              "          const docLink = document.createElement('div');\n",
              "          docLink.innerHTML = docLinkHtml;\n",
              "          element.appendChild(docLink);\n",
              "        }\n",
              "      </script>\n",
              "    </div>\n",
              "  </div>\n",
              "  "
            ]
          },
          "metadata": {},
          "execution_count": 7
        }
      ]
    },
    {
      "cell_type": "code",
      "source": [
        "# Create regions\n",
        "clean_area_20['Region'] = clean_area_20['Area of Residence']\n",
        "clean_area_20['Region'].replace(['Connecticut','Maine','Massachusetts',\n",
        "                                 'New Hampshire','Rhode Island', 'Vermont'],\n",
        "                                'New England',inplace=True)\n",
        "\n",
        "clean_area_20['Region'].replace(['New Jersey','New York','Pennsylvania'],\n",
        "                                'Middle Atlantic',inplace=True)\n",
        "\n",
        "clean_area_20['Region'].replace(['Indiana','Illinois', 'Michigan',\n",
        "                                 'Ohio', 'Wisconsin'],\n",
        "                                'East North Central',inplace=True)\n",
        "\n",
        "clean_area_20['Region'].replace(['Iowa', 'Nebraska', 'Kansas', 'North Dakota',\n",
        "                                 'Minnesota', 'South Dakota', 'Missouri'],\n",
        "                                'West North Central',inplace=True)\n",
        "\n",
        "clean_area_20['Region'].replace(['Delaware', 'District of Columbia', 'Florida',\n",
        "                                 'Georgia', 'Maryland', 'North Carolina',\n",
        "                                 'South Carolina', 'Virginia', 'West Virginia'],\n",
        "                                'South Atlantic',inplace=True)\n",
        "\n",
        "clean_area_20['Region'].replace(['Arkansas', 'Louisiana', 'Oklahoma', \n",
        "                                 'Texas'],\n",
        "                                'West South Central',inplace=True)\n",
        "\n",
        "clean_area_20['Region'].replace(['Alabama', 'Kentucky', 'Mississippi', \n",
        "                                 'Tennessee'],\n",
        "                                'East South Central',inplace=True)\n",
        "\n",
        "clean_area_20['Region'].replace(['Arizona', 'Colorado', 'Idaho','New Mexico',\n",
        "                                 'Montana', 'Utah', 'Nevada', 'Wyoming'],\n",
        "                                'Mountain',inplace=True)\n",
        "\n",
        "clean_area_20['Region'].replace(['Alaska', 'California', 'Hawaii', 'Oregon',\n",
        "                                 'Washington'],\n",
        "                                'Pacific',inplace=True)\n",
        "\n",
        "clean_area_20['Region'].replace(['Puerto Rico', 'Virgin Islands',\n",
        "                                 'American Samoa', 'Guam', 'Northern Mariana Islands'],\n",
        "                                'Territories',inplace=True)\n"
      ],
      "metadata": {
        "id": "fKHZ7_rzh06f"
      },
      "execution_count": 8,
      "outputs": []
    },
    {
      "cell_type": "code",
      "source": [
        "# Only select regions and not entire US\n",
        "regions = clean_area_20[(clean_area_20['Region'] != 'All Areas') &\n",
        "              (clean_area_20['Region'] != 'United States') &\n",
        "              (clean_area_20['Region'] != 'Unknown')].groupby('Region').sum().reset_index()"
      ],
      "metadata": {
        "id": "6eqZ7WRRlWrV"
      },
      "execution_count": 9,
      "outputs": []
    },
    {
      "cell_type": "code",
      "source": [
        "# Check regions df\n",
        "regions['Region'].replace({'Foreign Countries and Other Outyling Areas': 'Outside US'}, inplace=True)\n",
        "regions"
      ],
      "metadata": {
        "colab": {
          "base_uri": "https://localhost:8080/",
          "height": 438
        },
        "id": "g1-7zs91n3Yj",
        "outputId": "ae64c6c1-4b46-4f02-e953-9b2723ec1f3d"
      },
      "execution_count": 10,
      "outputs": [
        {
          "output_type": "execute_result",
          "data": {
            "text/plain": [
              "2               Region  Part A and/or Part B Total  State_Pop  \\\n",
              "0   East North Central                      560799   47368533   \n",
              "1   East South Central                      227063   19402234   \n",
              "2           Outside US                       20349          1   \n",
              "3      Middle Atlantic                      489856   42492943   \n",
              "4             Mountain                      270236   24919150   \n",
              "5          New England                      185837   15116205   \n",
              "6              Pacific                      567234   53669422   \n",
              "7       South Atlantic                      765417   66089734   \n",
              "8          Territories                       33684    3285878   \n",
              "9   West North Central                      255159   21616921   \n",
              "10  West South Central                      417907   40774139   \n",
              "\n",
              "2   A.B_aged_state_pop_porp  AB_aged_medicare_aged_prorp  \n",
              "0                  0.059580                     0.147830  \n",
              "1                  0.046933                     0.059855  \n",
              "2                  0.000000                     0.005364  \n",
              "3                  0.034662                     0.129129  \n",
              "4                  0.091681                     0.071236  \n",
              "5                  0.078653                     0.048988  \n",
              "6                  0.056851                     0.149526  \n",
              "7                  0.102240                     0.201768  \n",
              "8                  0.009289                     0.008879  \n",
              "9                  0.083567                     0.067261  \n",
              "10                 0.044648                     0.110163  "
            ],
            "text/html": [
              "\n",
              "  <div id=\"df-6ea9f787-921f-42ca-a6cf-84a60f52df31\">\n",
              "    <div class=\"colab-df-container\">\n",
              "      <div>\n",
              "<style scoped>\n",
              "    .dataframe tbody tr th:only-of-type {\n",
              "        vertical-align: middle;\n",
              "    }\n",
              "\n",
              "    .dataframe tbody tr th {\n",
              "        vertical-align: top;\n",
              "    }\n",
              "\n",
              "    .dataframe thead th {\n",
              "        text-align: right;\n",
              "    }\n",
              "</style>\n",
              "<table border=\"1\" class=\"dataframe\">\n",
              "  <thead>\n",
              "    <tr style=\"text-align: right;\">\n",
              "      <th>2</th>\n",
              "      <th>Region</th>\n",
              "      <th>Part A and/or Part B Total</th>\n",
              "      <th>State_Pop</th>\n",
              "      <th>A.B_aged_state_pop_porp</th>\n",
              "      <th>AB_aged_medicare_aged_prorp</th>\n",
              "    </tr>\n",
              "  </thead>\n",
              "  <tbody>\n",
              "    <tr>\n",
              "      <th>0</th>\n",
              "      <td>East North Central</td>\n",
              "      <td>560799</td>\n",
              "      <td>47368533</td>\n",
              "      <td>0.059580</td>\n",
              "      <td>0.147830</td>\n",
              "    </tr>\n",
              "    <tr>\n",
              "      <th>1</th>\n",
              "      <td>East South Central</td>\n",
              "      <td>227063</td>\n",
              "      <td>19402234</td>\n",
              "      <td>0.046933</td>\n",
              "      <td>0.059855</td>\n",
              "    </tr>\n",
              "    <tr>\n",
              "      <th>2</th>\n",
              "      <td>Outside US</td>\n",
              "      <td>20349</td>\n",
              "      <td>1</td>\n",
              "      <td>0.000000</td>\n",
              "      <td>0.005364</td>\n",
              "    </tr>\n",
              "    <tr>\n",
              "      <th>3</th>\n",
              "      <td>Middle Atlantic</td>\n",
              "      <td>489856</td>\n",
              "      <td>42492943</td>\n",
              "      <td>0.034662</td>\n",
              "      <td>0.129129</td>\n",
              "    </tr>\n",
              "    <tr>\n",
              "      <th>4</th>\n",
              "      <td>Mountain</td>\n",
              "      <td>270236</td>\n",
              "      <td>24919150</td>\n",
              "      <td>0.091681</td>\n",
              "      <td>0.071236</td>\n",
              "    </tr>\n",
              "    <tr>\n",
              "      <th>5</th>\n",
              "      <td>New England</td>\n",
              "      <td>185837</td>\n",
              "      <td>15116205</td>\n",
              "      <td>0.078653</td>\n",
              "      <td>0.048988</td>\n",
              "    </tr>\n",
              "    <tr>\n",
              "      <th>6</th>\n",
              "      <td>Pacific</td>\n",
              "      <td>567234</td>\n",
              "      <td>53669422</td>\n",
              "      <td>0.056851</td>\n",
              "      <td>0.149526</td>\n",
              "    </tr>\n",
              "    <tr>\n",
              "      <th>7</th>\n",
              "      <td>South Atlantic</td>\n",
              "      <td>765417</td>\n",
              "      <td>66089734</td>\n",
              "      <td>0.102240</td>\n",
              "      <td>0.201768</td>\n",
              "    </tr>\n",
              "    <tr>\n",
              "      <th>8</th>\n",
              "      <td>Territories</td>\n",
              "      <td>33684</td>\n",
              "      <td>3285878</td>\n",
              "      <td>0.009289</td>\n",
              "      <td>0.008879</td>\n",
              "    </tr>\n",
              "    <tr>\n",
              "      <th>9</th>\n",
              "      <td>West North Central</td>\n",
              "      <td>255159</td>\n",
              "      <td>21616921</td>\n",
              "      <td>0.083567</td>\n",
              "      <td>0.067261</td>\n",
              "    </tr>\n",
              "    <tr>\n",
              "      <th>10</th>\n",
              "      <td>West South Central</td>\n",
              "      <td>417907</td>\n",
              "      <td>40774139</td>\n",
              "      <td>0.044648</td>\n",
              "      <td>0.110163</td>\n",
              "    </tr>\n",
              "  </tbody>\n",
              "</table>\n",
              "</div>\n",
              "      <button class=\"colab-df-convert\" onclick=\"convertToInteractive('df-6ea9f787-921f-42ca-a6cf-84a60f52df31')\"\n",
              "              title=\"Convert this dataframe to an interactive table.\"\n",
              "              style=\"display:none;\">\n",
              "        \n",
              "  <svg xmlns=\"http://www.w3.org/2000/svg\" height=\"24px\"viewBox=\"0 0 24 24\"\n",
              "       width=\"24px\">\n",
              "    <path d=\"M0 0h24v24H0V0z\" fill=\"none\"/>\n",
              "    <path d=\"M18.56 5.44l.94 2.06.94-2.06 2.06-.94-2.06-.94-.94-2.06-.94 2.06-2.06.94zm-11 1L8.5 8.5l.94-2.06 2.06-.94-2.06-.94L8.5 2.5l-.94 2.06-2.06.94zm10 10l.94 2.06.94-2.06 2.06-.94-2.06-.94-.94-2.06-.94 2.06-2.06.94z\"/><path d=\"M17.41 7.96l-1.37-1.37c-.4-.4-.92-.59-1.43-.59-.52 0-1.04.2-1.43.59L10.3 9.45l-7.72 7.72c-.78.78-.78 2.05 0 2.83L4 21.41c.39.39.9.59 1.41.59.51 0 1.02-.2 1.41-.59l7.78-7.78 2.81-2.81c.8-.78.8-2.07 0-2.86zM5.41 20L4 18.59l7.72-7.72 1.47 1.35L5.41 20z\"/>\n",
              "  </svg>\n",
              "      </button>\n",
              "      \n",
              "  <style>\n",
              "    .colab-df-container {\n",
              "      display:flex;\n",
              "      flex-wrap:wrap;\n",
              "      gap: 12px;\n",
              "    }\n",
              "\n",
              "    .colab-df-convert {\n",
              "      background-color: #E8F0FE;\n",
              "      border: none;\n",
              "      border-radius: 50%;\n",
              "      cursor: pointer;\n",
              "      display: none;\n",
              "      fill: #1967D2;\n",
              "      height: 32px;\n",
              "      padding: 0 0 0 0;\n",
              "      width: 32px;\n",
              "    }\n",
              "\n",
              "    .colab-df-convert:hover {\n",
              "      background-color: #E2EBFA;\n",
              "      box-shadow: 0px 1px 2px rgba(60, 64, 67, 0.3), 0px 1px 3px 1px rgba(60, 64, 67, 0.15);\n",
              "      fill: #174EA6;\n",
              "    }\n",
              "\n",
              "    [theme=dark] .colab-df-convert {\n",
              "      background-color: #3B4455;\n",
              "      fill: #D2E3FC;\n",
              "    }\n",
              "\n",
              "    [theme=dark] .colab-df-convert:hover {\n",
              "      background-color: #434B5C;\n",
              "      box-shadow: 0px 1px 3px 1px rgba(0, 0, 0, 0.15);\n",
              "      filter: drop-shadow(0px 1px 2px rgba(0, 0, 0, 0.3));\n",
              "      fill: #FFFFFF;\n",
              "    }\n",
              "  </style>\n",
              "\n",
              "      <script>\n",
              "        const buttonEl =\n",
              "          document.querySelector('#df-6ea9f787-921f-42ca-a6cf-84a60f52df31 button.colab-df-convert');\n",
              "        buttonEl.style.display =\n",
              "          google.colab.kernel.accessAllowed ? 'block' : 'none';\n",
              "\n",
              "        async function convertToInteractive(key) {\n",
              "          const element = document.querySelector('#df-6ea9f787-921f-42ca-a6cf-84a60f52df31');\n",
              "          const dataTable =\n",
              "            await google.colab.kernel.invokeFunction('convertToInteractive',\n",
              "                                                     [key], {});\n",
              "          if (!dataTable) return;\n",
              "\n",
              "          const docLinkHtml = 'Like what you see? Visit the ' +\n",
              "            '<a target=\"_blank\" href=https://colab.research.google.com/notebooks/data_table.ipynb>data table notebook</a>'\n",
              "            + ' to learn more about interactive tables.';\n",
              "          element.innerHTML = '';\n",
              "          dataTable['output_type'] = 'display_data';\n",
              "          await google.colab.output.renderOutput(dataTable, element);\n",
              "          const docLink = document.createElement('div');\n",
              "          docLink.innerHTML = docLinkHtml;\n",
              "          element.appendChild(docLink);\n",
              "        }\n",
              "      </script>\n",
              "    </div>\n",
              "  </div>\n",
              "  "
            ]
          },
          "metadata": {},
          "execution_count": 10
        }
      ]
    },
    {
      "cell_type": "markdown",
      "source": [
        "## Regions"
      ],
      "metadata": {
        "id": "eXIBGLBzg92Q"
      }
    },
    {
      "cell_type": "markdown",
      "source": [
        "### Regions named"
      ],
      "metadata": {
        "id": "MBdVLRwbo7XL"
      }
    },
    {
      "cell_type": "markdown",
      "source": [
        "\n",
        "> Northeast\n",
        ">>New England\n",
        "1. Connecticut\n",
        "2. Maine\n",
        "3. Massachusetts\n",
        "4. New Hampshire\n",
        "5. Rhode Island\n",
        "6. Vermont\n",
        "\n",
        ">> Middle Atlantic\n",
        "7. New Jersey\n",
        "8. New York\n",
        "9. Pennsylvania\n",
        "\n",
        "> Midwest\n",
        ">>East North Central\n",
        "1. Indiana\n",
        "2. Illinois\n",
        "3. Michigan\n",
        "4. Ohio\n",
        "5. Wisconsin\n",
        "\n",
        ">>West North Central\n",
        "6. Iowa\n",
        "7. Nebraska\n",
        "8. Kansas\n",
        "9. North Dakota\n",
        "10. Minnesota\n",
        "11. South Dakota\n",
        "12. Missouri\n",
        "\n",
        "> South\n",
        ">> South Atlantic\n",
        "1. Delaware\n",
        "2. District of Columbia\n",
        "3. Florida\n",
        "5. Georgia\n",
        "6. Maryland\n",
        "8. North Carolina\n",
        "9. South Carolina\n",
        "10. Virginia\n",
        "11. West Virginia\n",
        "\n",
        ">> East South Central\n",
        "12. Alabama\n",
        "13. Kentucky\n",
        "14. Mississippi\n",
        "15. Tennessee\n",
        "\n",
        ">> West South Central\n",
        "16. Arkansas\n",
        "17. Louisiana\n",
        "18. Oklahoma\n",
        "19. Texas\n",
        "\n",
        ">West\n",
        ">> Mountain\n",
        "1. Arizona\n",
        "2. Colorado\n",
        "3. Idaho\n",
        "4. New Mexico\n",
        "5. Montana\n",
        "6. Utah\n",
        "7. Nevada\n",
        "8. Wyoming\n",
        "\n",
        ">> Pacific\n",
        "9. Alaska\n",
        "10. California\n",
        "11. Hawaii\n",
        "12. Oregon\n",
        "13. Washington\n",
        "\n",
        "\n"
      ],
      "metadata": {
        "id": "zW7sIsrsb4Za"
      }
    },
    {
      "cell_type": "markdown",
      "source": [
        "### Region Graphs"
      ],
      "metadata": {
        "id": "q_gJB2UppLYo"
      }
    },
    {
      "cell_type": "code",
      "source": [
        "fig = px.bar(regions.sort_values('Part A and/or Part B Total'), x=\"Region\",\n",
        "             y='Part A and/or Part B Total', color=\"A.B_aged_state_pop_porp\",\n",
        "             color_continuous_scale=['#ffefd6', '#db5022', '#44131a'])\n",
        "fig.update_layout(template=\"plotly_white\") \n",
        "fig.update_coloraxes(colorbar_orientation='h')\n",
        "fig.show()"
      ],
      "metadata": {
        "colab": {
          "base_uri": "https://localhost:8080/",
          "height": 542
        },
        "id": "oJ6nWC2Vrs6J",
        "outputId": "6d95df3b-540f-4ace-b677-7b3b21c28a68"
      },
      "execution_count": 11,
      "outputs": [
        {
          "output_type": "display_data",
          "data": {
            "text/html": [
              "<html>\n",
              "<head><meta charset=\"utf-8\" /></head>\n",
              "<body>\n",
              "    <div>            <script src=\"https://cdnjs.cloudflare.com/ajax/libs/mathjax/2.7.5/MathJax.js?config=TeX-AMS-MML_SVG\"></script><script type=\"text/javascript\">if (window.MathJax) {MathJax.Hub.Config({SVG: {font: \"STIX-Web\"}});}</script>                <script type=\"text/javascript\">window.PlotlyConfig = {MathJaxConfig: 'local'};</script>\n",
              "        <script src=\"https://cdn.plot.ly/plotly-2.8.3.min.js\"></script>                <div id=\"e9bb357a-9fb9-49fc-a3bf-86665e8e19b5\" class=\"plotly-graph-div\" style=\"height:525px; width:100%;\"></div>            <script type=\"text/javascript\">                                    window.PLOTLYENV=window.PLOTLYENV || {};                                    if (document.getElementById(\"e9bb357a-9fb9-49fc-a3bf-86665e8e19b5\")) {                    Plotly.newPlot(                        \"e9bb357a-9fb9-49fc-a3bf-86665e8e19b5\",                        [{\"alignmentgroup\":\"True\",\"hovertemplate\":\"Region=%{x}<br>Part A and/or Part B Total=%{y}<br>A.B_aged_state_pop_porp=%{marker.color}<extra></extra>\",\"legendgroup\":\"\",\"marker\":{\"color\":[0.0,0.009288548495773118,0.07865303980266554,0.04693260140462998,0.0835668550634449,0.09168123943700313,0.04464787609013453,0.03466225817897426,0.05958009683391396,0.056851437867244864,0.10224027464851831],\"coloraxis\":\"coloraxis\",\"pattern\":{\"shape\":\"\"}},\"name\":\"\",\"offsetgroup\":\"\",\"orientation\":\"v\",\"showlegend\":false,\"textposition\":\"auto\",\"x\":[\"Outside US\",\"Territories\",\"New England\",\"East South Central\",\"West North Central\",\"Mountain\",\"West South Central\",\"Middle Atlantic\",\"East North Central\",\"Pacific\",\"South Atlantic\"],\"xaxis\":\"x\",\"y\":[20349,33684,185837,227063,255159,270236,417907,489856,560799,567234,765417],\"yaxis\":\"y\",\"type\":\"bar\"}],                        {\"template\":{\"data\":{\"barpolar\":[{\"marker\":{\"line\":{\"color\":\"white\",\"width\":0.5},\"pattern\":{\"fillmode\":\"overlay\",\"size\":10,\"solidity\":0.2}},\"type\":\"barpolar\"}],\"bar\":[{\"error_x\":{\"color\":\"#2a3f5f\"},\"error_y\":{\"color\":\"#2a3f5f\"},\"marker\":{\"line\":{\"color\":\"white\",\"width\":0.5},\"pattern\":{\"fillmode\":\"overlay\",\"size\":10,\"solidity\":0.2}},\"type\":\"bar\"}],\"carpet\":[{\"aaxis\":{\"endlinecolor\":\"#2a3f5f\",\"gridcolor\":\"#C8D4E3\",\"linecolor\":\"#C8D4E3\",\"minorgridcolor\":\"#C8D4E3\",\"startlinecolor\":\"#2a3f5f\"},\"baxis\":{\"endlinecolor\":\"#2a3f5f\",\"gridcolor\":\"#C8D4E3\",\"linecolor\":\"#C8D4E3\",\"minorgridcolor\":\"#C8D4E3\",\"startlinecolor\":\"#2a3f5f\"},\"type\":\"carpet\"}],\"choropleth\":[{\"colorbar\":{\"outlinewidth\":0,\"ticks\":\"\"},\"type\":\"choropleth\"}],\"contourcarpet\":[{\"colorbar\":{\"outlinewidth\":0,\"ticks\":\"\"},\"type\":\"contourcarpet\"}],\"contour\":[{\"colorbar\":{\"outlinewidth\":0,\"ticks\":\"\"},\"colorscale\":[[0.0,\"#0d0887\"],[0.1111111111111111,\"#46039f\"],[0.2222222222222222,\"#7201a8\"],[0.3333333333333333,\"#9c179e\"],[0.4444444444444444,\"#bd3786\"],[0.5555555555555556,\"#d8576b\"],[0.6666666666666666,\"#ed7953\"],[0.7777777777777778,\"#fb9f3a\"],[0.8888888888888888,\"#fdca26\"],[1.0,\"#f0f921\"]],\"type\":\"contour\"}],\"heatmapgl\":[{\"colorbar\":{\"outlinewidth\":0,\"ticks\":\"\"},\"colorscale\":[[0.0,\"#0d0887\"],[0.1111111111111111,\"#46039f\"],[0.2222222222222222,\"#7201a8\"],[0.3333333333333333,\"#9c179e\"],[0.4444444444444444,\"#bd3786\"],[0.5555555555555556,\"#d8576b\"],[0.6666666666666666,\"#ed7953\"],[0.7777777777777778,\"#fb9f3a\"],[0.8888888888888888,\"#fdca26\"],[1.0,\"#f0f921\"]],\"type\":\"heatmapgl\"}],\"heatmap\":[{\"colorbar\":{\"outlinewidth\":0,\"ticks\":\"\"},\"colorscale\":[[0.0,\"#0d0887\"],[0.1111111111111111,\"#46039f\"],[0.2222222222222222,\"#7201a8\"],[0.3333333333333333,\"#9c179e\"],[0.4444444444444444,\"#bd3786\"],[0.5555555555555556,\"#d8576b\"],[0.6666666666666666,\"#ed7953\"],[0.7777777777777778,\"#fb9f3a\"],[0.8888888888888888,\"#fdca26\"],[1.0,\"#f0f921\"]],\"type\":\"heatmap\"}],\"histogram2dcontour\":[{\"colorbar\":{\"outlinewidth\":0,\"ticks\":\"\"},\"colorscale\":[[0.0,\"#0d0887\"],[0.1111111111111111,\"#46039f\"],[0.2222222222222222,\"#7201a8\"],[0.3333333333333333,\"#9c179e\"],[0.4444444444444444,\"#bd3786\"],[0.5555555555555556,\"#d8576b\"],[0.6666666666666666,\"#ed7953\"],[0.7777777777777778,\"#fb9f3a\"],[0.8888888888888888,\"#fdca26\"],[1.0,\"#f0f921\"]],\"type\":\"histogram2dcontour\"}],\"histogram2d\":[{\"colorbar\":{\"outlinewidth\":0,\"ticks\":\"\"},\"colorscale\":[[0.0,\"#0d0887\"],[0.1111111111111111,\"#46039f\"],[0.2222222222222222,\"#7201a8\"],[0.3333333333333333,\"#9c179e\"],[0.4444444444444444,\"#bd3786\"],[0.5555555555555556,\"#d8576b\"],[0.6666666666666666,\"#ed7953\"],[0.7777777777777778,\"#fb9f3a\"],[0.8888888888888888,\"#fdca26\"],[1.0,\"#f0f921\"]],\"type\":\"histogram2d\"}],\"histogram\":[{\"marker\":{\"pattern\":{\"fillmode\":\"overlay\",\"size\":10,\"solidity\":0.2}},\"type\":\"histogram\"}],\"mesh3d\":[{\"colorbar\":{\"outlinewidth\":0,\"ticks\":\"\"},\"type\":\"mesh3d\"}],\"parcoords\":[{\"line\":{\"colorbar\":{\"outlinewidth\":0,\"ticks\":\"\"}},\"type\":\"parcoords\"}],\"pie\":[{\"automargin\":true,\"type\":\"pie\"}],\"scatter3d\":[{\"line\":{\"colorbar\":{\"outlinewidth\":0,\"ticks\":\"\"}},\"marker\":{\"colorbar\":{\"outlinewidth\":0,\"ticks\":\"\"}},\"type\":\"scatter3d\"}],\"scattercarpet\":[{\"marker\":{\"colorbar\":{\"outlinewidth\":0,\"ticks\":\"\"}},\"type\":\"scattercarpet\"}],\"scattergeo\":[{\"marker\":{\"colorbar\":{\"outlinewidth\":0,\"ticks\":\"\"}},\"type\":\"scattergeo\"}],\"scattergl\":[{\"marker\":{\"colorbar\":{\"outlinewidth\":0,\"ticks\":\"\"}},\"type\":\"scattergl\"}],\"scattermapbox\":[{\"marker\":{\"colorbar\":{\"outlinewidth\":0,\"ticks\":\"\"}},\"type\":\"scattermapbox\"}],\"scatterpolargl\":[{\"marker\":{\"colorbar\":{\"outlinewidth\":0,\"ticks\":\"\"}},\"type\":\"scatterpolargl\"}],\"scatterpolar\":[{\"marker\":{\"colorbar\":{\"outlinewidth\":0,\"ticks\":\"\"}},\"type\":\"scatterpolar\"}],\"scatter\":[{\"marker\":{\"colorbar\":{\"outlinewidth\":0,\"ticks\":\"\"}},\"type\":\"scatter\"}],\"scatterternary\":[{\"marker\":{\"colorbar\":{\"outlinewidth\":0,\"ticks\":\"\"}},\"type\":\"scatterternary\"}],\"surface\":[{\"colorbar\":{\"outlinewidth\":0,\"ticks\":\"\"},\"colorscale\":[[0.0,\"#0d0887\"],[0.1111111111111111,\"#46039f\"],[0.2222222222222222,\"#7201a8\"],[0.3333333333333333,\"#9c179e\"],[0.4444444444444444,\"#bd3786\"],[0.5555555555555556,\"#d8576b\"],[0.6666666666666666,\"#ed7953\"],[0.7777777777777778,\"#fb9f3a\"],[0.8888888888888888,\"#fdca26\"],[1.0,\"#f0f921\"]],\"type\":\"surface\"}],\"table\":[{\"cells\":{\"fill\":{\"color\":\"#EBF0F8\"},\"line\":{\"color\":\"white\"}},\"header\":{\"fill\":{\"color\":\"#C8D4E3\"},\"line\":{\"color\":\"white\"}},\"type\":\"table\"}]},\"layout\":{\"annotationdefaults\":{\"arrowcolor\":\"#2a3f5f\",\"arrowhead\":0,\"arrowwidth\":1},\"autotypenumbers\":\"strict\",\"coloraxis\":{\"colorbar\":{\"outlinewidth\":0,\"ticks\":\"\"}},\"colorscale\":{\"diverging\":[[0,\"#8e0152\"],[0.1,\"#c51b7d\"],[0.2,\"#de77ae\"],[0.3,\"#f1b6da\"],[0.4,\"#fde0ef\"],[0.5,\"#f7f7f7\"],[0.6,\"#e6f5d0\"],[0.7,\"#b8e186\"],[0.8,\"#7fbc41\"],[0.9,\"#4d9221\"],[1,\"#276419\"]],\"sequential\":[[0.0,\"#0d0887\"],[0.1111111111111111,\"#46039f\"],[0.2222222222222222,\"#7201a8\"],[0.3333333333333333,\"#9c179e\"],[0.4444444444444444,\"#bd3786\"],[0.5555555555555556,\"#d8576b\"],[0.6666666666666666,\"#ed7953\"],[0.7777777777777778,\"#fb9f3a\"],[0.8888888888888888,\"#fdca26\"],[1.0,\"#f0f921\"]],\"sequentialminus\":[[0.0,\"#0d0887\"],[0.1111111111111111,\"#46039f\"],[0.2222222222222222,\"#7201a8\"],[0.3333333333333333,\"#9c179e\"],[0.4444444444444444,\"#bd3786\"],[0.5555555555555556,\"#d8576b\"],[0.6666666666666666,\"#ed7953\"],[0.7777777777777778,\"#fb9f3a\"],[0.8888888888888888,\"#fdca26\"],[1.0,\"#f0f921\"]]},\"colorway\":[\"#636efa\",\"#EF553B\",\"#00cc96\",\"#ab63fa\",\"#FFA15A\",\"#19d3f3\",\"#FF6692\",\"#B6E880\",\"#FF97FF\",\"#FECB52\"],\"font\":{\"color\":\"#2a3f5f\"},\"geo\":{\"bgcolor\":\"white\",\"lakecolor\":\"white\",\"landcolor\":\"white\",\"showlakes\":true,\"showland\":true,\"subunitcolor\":\"#C8D4E3\"},\"hoverlabel\":{\"align\":\"left\"},\"hovermode\":\"closest\",\"mapbox\":{\"style\":\"light\"},\"paper_bgcolor\":\"white\",\"plot_bgcolor\":\"white\",\"polar\":{\"angularaxis\":{\"gridcolor\":\"#EBF0F8\",\"linecolor\":\"#EBF0F8\",\"ticks\":\"\"},\"bgcolor\":\"white\",\"radialaxis\":{\"gridcolor\":\"#EBF0F8\",\"linecolor\":\"#EBF0F8\",\"ticks\":\"\"}},\"scene\":{\"xaxis\":{\"backgroundcolor\":\"white\",\"gridcolor\":\"#DFE8F3\",\"gridwidth\":2,\"linecolor\":\"#EBF0F8\",\"showbackground\":true,\"ticks\":\"\",\"zerolinecolor\":\"#EBF0F8\"},\"yaxis\":{\"backgroundcolor\":\"white\",\"gridcolor\":\"#DFE8F3\",\"gridwidth\":2,\"linecolor\":\"#EBF0F8\",\"showbackground\":true,\"ticks\":\"\",\"zerolinecolor\":\"#EBF0F8\"},\"zaxis\":{\"backgroundcolor\":\"white\",\"gridcolor\":\"#DFE8F3\",\"gridwidth\":2,\"linecolor\":\"#EBF0F8\",\"showbackground\":true,\"ticks\":\"\",\"zerolinecolor\":\"#EBF0F8\"}},\"shapedefaults\":{\"line\":{\"color\":\"#2a3f5f\"}},\"ternary\":{\"aaxis\":{\"gridcolor\":\"#DFE8F3\",\"linecolor\":\"#A2B1C6\",\"ticks\":\"\"},\"baxis\":{\"gridcolor\":\"#DFE8F3\",\"linecolor\":\"#A2B1C6\",\"ticks\":\"\"},\"bgcolor\":\"white\",\"caxis\":{\"gridcolor\":\"#DFE8F3\",\"linecolor\":\"#A2B1C6\",\"ticks\":\"\"}},\"title\":{\"x\":0.05},\"xaxis\":{\"automargin\":true,\"gridcolor\":\"#EBF0F8\",\"linecolor\":\"#EBF0F8\",\"ticks\":\"\",\"title\":{\"standoff\":15},\"zerolinecolor\":\"#EBF0F8\",\"zerolinewidth\":2},\"yaxis\":{\"automargin\":true,\"gridcolor\":\"#EBF0F8\",\"linecolor\":\"#EBF0F8\",\"ticks\":\"\",\"title\":{\"standoff\":15},\"zerolinecolor\":\"#EBF0F8\",\"zerolinewidth\":2}}},\"xaxis\":{\"anchor\":\"y\",\"domain\":[0.0,1.0],\"title\":{\"text\":\"Region\"}},\"yaxis\":{\"anchor\":\"x\",\"domain\":[0.0,1.0],\"title\":{\"text\":\"Part A and/or Part B Total\"}},\"coloraxis\":{\"colorbar\":{\"title\":{\"text\":\"A.B_aged_state_pop_porp\"},\"orientation\":\"h\"},\"colorscale\":[[0.0,\"#ffefd6\"],[0.5,\"#db5022\"],[1.0,\"#44131a\"]]},\"legend\":{\"tracegroupgap\":0},\"margin\":{\"t\":60},\"barmode\":\"relative\"},                        {\"responsive\": true}                    ).then(function(){\n",
              "                            \n",
              "var gd = document.getElementById('e9bb357a-9fb9-49fc-a3bf-86665e8e19b5');\n",
              "var x = new MutationObserver(function (mutations, observer) {{\n",
              "        var display = window.getComputedStyle(gd).display;\n",
              "        if (!display || display === 'none') {{\n",
              "            console.log([gd, 'removed!']);\n",
              "            Plotly.purge(gd);\n",
              "            observer.disconnect();\n",
              "        }}\n",
              "}});\n",
              "\n",
              "// Listen for the removal of the full notebook cells\n",
              "var notebookContainer = gd.closest('#notebook-container');\n",
              "if (notebookContainer) {{\n",
              "    x.observe(notebookContainer, {childList: true});\n",
              "}}\n",
              "\n",
              "// Listen for the clearing of the current output cell\n",
              "var outputEl = gd.closest('.output');\n",
              "if (outputEl) {{\n",
              "    x.observe(outputEl, {childList: true});\n",
              "}}\n",
              "\n",
              "                        })                };                            </script>        </div>\n",
              "</body>\n",
              "</html>"
            ]
          },
          "metadata": {}
        }
      ]
    },
    {
      "cell_type": "code",
      "source": [
        "states = clean_area_20[(clean_area_20['Region'] != 'All Areas') &\n",
        "              (clean_area_20['Region'] != 'United States') &\n",
        "              (clean_area_20['Region'] != 'Unknown')].copy()"
      ],
      "metadata": {
        "id": "fJheGCnafy8B"
      },
      "execution_count": 48,
      "outputs": []
    },
    {
      "cell_type": "code",
      "source": [
        "states['Region_porp'] = states['Region'].replace({'East North Central': regions.iloc[0,3],\n",
        "                                                  'East South Central': regions.iloc[1,3],\n",
        "                                                  'Foreign Countries and Other Outyling Areas':regions.iloc[2,3],\n",
        "                                                  'Middle Atlantic':regions.iloc[3,3],\n",
        "                                                  'Mountain':regions.iloc[4,3],\n",
        "                                                  'New England':regions.iloc[5,3],\n",
        "                                                  'Pacific':regions.iloc[6,3],\n",
        "                                                  'South Atlantic':regions.iloc[7,3],\n",
        "                                                  'Territories':regions.iloc[8,3],\n",
        "                                                  'West North Central':regions.iloc[9,3],\n",
        "                                                  'West South Central':regions.iloc[10,3]}).astype('float64')"
      ],
      "metadata": {
        "id": "qDUlMwfJlcQy"
      },
      "execution_count": 49,
      "outputs": []
    },
    {
      "cell_type": "code",
      "source": [
        "just_states = states.iloc[:-6, :].copy()\n",
        "just_states.reset_index(inplace=True)\n",
        "just_states.drop(columns='index',inplace=True)\n",
        "\n",
        "state_abbrev.sort_values(by='State', inplace=True)\n",
        "state_abbrev.reset_index(inplace=True)\n",
        "state_abbrev.drop(columns='index', inplace=True)\n",
        "\n",
        "just_states['Abbrev'] = state_abbrev['Abbreviation'].copy()"
      ],
      "metadata": {
        "id": "p2BJ9tU6Mxd9"
      },
      "execution_count": null,
      "outputs": []
    },
    {
      "cell_type": "code",
      "source": [
        "fig = px.choropleth(just_states,\n",
        "                    locations='Abbrev', \n",
        "                    locationmode=\"USA-states\", \n",
        "                    scope=\"usa\",\n",
        "                    color='Region_porp',\n",
        "                    color_continuous_scale=['#ffefd6', '#db5022', '#44131a'],\n",
        "                    range_color=(0,.1))\n",
        "fig.update_layout(margin = dict(t=10, l=10, r=10, b=10))\n",
        "\n",
        "fig.show()\n",
        "cholorpath_map = fig.to_image(format=\"png\")"
      ],
      "metadata": {
        "id": "gQi6w_cAc05u",
        "outputId": "d4f16f4f-8240-4f9c-ab91-d16d4f391507",
        "colab": {
          "base_uri": "https://localhost:8080/",
          "height": 941
        }
      },
      "execution_count": 103,
      "outputs": [
        {
          "output_type": "display_data",
          "data": {
            "text/html": [
              "<html>\n",
              "<head><meta charset=\"utf-8\" /></head>\n",
              "<body>\n",
              "    <div>            <script src=\"https://cdnjs.cloudflare.com/ajax/libs/mathjax/2.7.5/MathJax.js?config=TeX-AMS-MML_SVG\"></script><script type=\"text/javascript\">if (window.MathJax) {MathJax.Hub.Config({SVG: {font: \"STIX-Web\"}});}</script>                <script type=\"text/javascript\">window.PlotlyConfig = {MathJaxConfig: 'local'};</script>\n",
              "        <script src=\"https://cdn.plot.ly/plotly-2.8.3.min.js\"></script>                <div id=\"90c785dc-ec60-48b7-bdc1-ba811fb30f5a\" class=\"plotly-graph-div\" style=\"height:525px; width:100%;\"></div>            <script type=\"text/javascript\">                                    window.PLOTLYENV=window.PLOTLYENV || {};                                    if (document.getElementById(\"90c785dc-ec60-48b7-bdc1-ba811fb30f5a\")) {                    Plotly.newPlot(                        \"90c785dc-ec60-48b7-bdc1-ba811fb30f5a\",                        [{\"coloraxis\":\"coloraxis\",\"geo\":\"geo\",\"hovertemplate\":\"Abbrev=%{location}<br>Region_porp=%{z}<extra></extra>\",\"locationmode\":\"USA-states\",\"locations\":[\"AL\",\"AK\",\"AZ\",\"AR\",\"CA\",\"CO\",\"CT\",\"DE\",\"DC\",\"FL\",\"GA\",\"HI\",\"ID\",\"IL\",\"IN\",\"IA\",\"KS\",\"KY\",\"LA\",\"ME\",\"MD\",\"MA\",\"MI\",\"MN\",\"MS\",\"MO\",\"MT\",\"NE\",\"NV\",\"NH\",\"NJ\",\"NM\",\"NY\",\"NC\",\"ND\",\"OH\",\"OK\",\"OR\",\"PA\",\"RI\",\"SC\",\"SD\",\"TN\",\"TX\",\"UT\",\"VT\",\"VA\",\"WA\",\"WV\",\"WI\",\"WY\"],\"name\":\"\",\"z\":[0.04693260140462998,0.056851437867244864,0.09168123943700313,0.04464787609013453,0.056851437867244864,0.09168123943700313,0.07865303980266554,0.10224027464851831,0.10224027464851831,0.10224027464851831,0.10224027464851831,0.056851437867244864,0.09168123943700313,0.05958009683391396,0.05958009683391396,0.0835668550634449,0.0835668550634449,0.04693260140462998,0.04464787609013453,0.07865303980266554,0.10224027464851831,0.07865303980266554,0.05958009683391396,0.0835668550634449,0.04693260140462998,0.0835668550634449,0.09168123943700313,0.0835668550634449,0.09168123943700313,0.07865303980266554,0.03466225817897426,0.09168123943700313,0.03466225817897426,0.10224027464851831,0.0835668550634449,0.05958009683391396,0.04464787609013453,0.056851437867244864,0.03466225817897426,0.07865303980266554,0.10224027464851831,0.0835668550634449,0.04693260140462998,0.04464787609013453,0.09168123943700313,0.07865303980266554,0.10224027464851831,0.056851437867244864,0.10224027464851831,0.05958009683391396,0.09168123943700313],\"type\":\"choropleth\"}],                        {\"template\":{\"data\":{\"bar\":[{\"error_x\":{\"color\":\"#2a3f5f\"},\"error_y\":{\"color\":\"#2a3f5f\"},\"marker\":{\"line\":{\"color\":\"#E5ECF6\",\"width\":0.5},\"pattern\":{\"fillmode\":\"overlay\",\"size\":10,\"solidity\":0.2}},\"type\":\"bar\"}],\"barpolar\":[{\"marker\":{\"line\":{\"color\":\"#E5ECF6\",\"width\":0.5},\"pattern\":{\"fillmode\":\"overlay\",\"size\":10,\"solidity\":0.2}},\"type\":\"barpolar\"}],\"carpet\":[{\"aaxis\":{\"endlinecolor\":\"#2a3f5f\",\"gridcolor\":\"white\",\"linecolor\":\"white\",\"minorgridcolor\":\"white\",\"startlinecolor\":\"#2a3f5f\"},\"baxis\":{\"endlinecolor\":\"#2a3f5f\",\"gridcolor\":\"white\",\"linecolor\":\"white\",\"minorgridcolor\":\"white\",\"startlinecolor\":\"#2a3f5f\"},\"type\":\"carpet\"}],\"choropleth\":[{\"colorbar\":{\"outlinewidth\":0,\"ticks\":\"\"},\"type\":\"choropleth\"}],\"contour\":[{\"colorbar\":{\"outlinewidth\":0,\"ticks\":\"\"},\"colorscale\":[[0.0,\"#0d0887\"],[0.1111111111111111,\"#46039f\"],[0.2222222222222222,\"#7201a8\"],[0.3333333333333333,\"#9c179e\"],[0.4444444444444444,\"#bd3786\"],[0.5555555555555556,\"#d8576b\"],[0.6666666666666666,\"#ed7953\"],[0.7777777777777778,\"#fb9f3a\"],[0.8888888888888888,\"#fdca26\"],[1.0,\"#f0f921\"]],\"type\":\"contour\"}],\"contourcarpet\":[{\"colorbar\":{\"outlinewidth\":0,\"ticks\":\"\"},\"type\":\"contourcarpet\"}],\"heatmap\":[{\"colorbar\":{\"outlinewidth\":0,\"ticks\":\"\"},\"colorscale\":[[0.0,\"#0d0887\"],[0.1111111111111111,\"#46039f\"],[0.2222222222222222,\"#7201a8\"],[0.3333333333333333,\"#9c179e\"],[0.4444444444444444,\"#bd3786\"],[0.5555555555555556,\"#d8576b\"],[0.6666666666666666,\"#ed7953\"],[0.7777777777777778,\"#fb9f3a\"],[0.8888888888888888,\"#fdca26\"],[1.0,\"#f0f921\"]],\"type\":\"heatmap\"}],\"heatmapgl\":[{\"colorbar\":{\"outlinewidth\":0,\"ticks\":\"\"},\"colorscale\":[[0.0,\"#0d0887\"],[0.1111111111111111,\"#46039f\"],[0.2222222222222222,\"#7201a8\"],[0.3333333333333333,\"#9c179e\"],[0.4444444444444444,\"#bd3786\"],[0.5555555555555556,\"#d8576b\"],[0.6666666666666666,\"#ed7953\"],[0.7777777777777778,\"#fb9f3a\"],[0.8888888888888888,\"#fdca26\"],[1.0,\"#f0f921\"]],\"type\":\"heatmapgl\"}],\"histogram\":[{\"marker\":{\"pattern\":{\"fillmode\":\"overlay\",\"size\":10,\"solidity\":0.2}},\"type\":\"histogram\"}],\"histogram2d\":[{\"colorbar\":{\"outlinewidth\":0,\"ticks\":\"\"},\"colorscale\":[[0.0,\"#0d0887\"],[0.1111111111111111,\"#46039f\"],[0.2222222222222222,\"#7201a8\"],[0.3333333333333333,\"#9c179e\"],[0.4444444444444444,\"#bd3786\"],[0.5555555555555556,\"#d8576b\"],[0.6666666666666666,\"#ed7953\"],[0.7777777777777778,\"#fb9f3a\"],[0.8888888888888888,\"#fdca26\"],[1.0,\"#f0f921\"]],\"type\":\"histogram2d\"}],\"histogram2dcontour\":[{\"colorbar\":{\"outlinewidth\":0,\"ticks\":\"\"},\"colorscale\":[[0.0,\"#0d0887\"],[0.1111111111111111,\"#46039f\"],[0.2222222222222222,\"#7201a8\"],[0.3333333333333333,\"#9c179e\"],[0.4444444444444444,\"#bd3786\"],[0.5555555555555556,\"#d8576b\"],[0.6666666666666666,\"#ed7953\"],[0.7777777777777778,\"#fb9f3a\"],[0.8888888888888888,\"#fdca26\"],[1.0,\"#f0f921\"]],\"type\":\"histogram2dcontour\"}],\"mesh3d\":[{\"colorbar\":{\"outlinewidth\":0,\"ticks\":\"\"},\"type\":\"mesh3d\"}],\"parcoords\":[{\"line\":{\"colorbar\":{\"outlinewidth\":0,\"ticks\":\"\"}},\"type\":\"parcoords\"}],\"pie\":[{\"automargin\":true,\"type\":\"pie\"}],\"scatter\":[{\"marker\":{\"colorbar\":{\"outlinewidth\":0,\"ticks\":\"\"}},\"type\":\"scatter\"}],\"scatter3d\":[{\"line\":{\"colorbar\":{\"outlinewidth\":0,\"ticks\":\"\"}},\"marker\":{\"colorbar\":{\"outlinewidth\":0,\"ticks\":\"\"}},\"type\":\"scatter3d\"}],\"scattercarpet\":[{\"marker\":{\"colorbar\":{\"outlinewidth\":0,\"ticks\":\"\"}},\"type\":\"scattercarpet\"}],\"scattergeo\":[{\"marker\":{\"colorbar\":{\"outlinewidth\":0,\"ticks\":\"\"}},\"type\":\"scattergeo\"}],\"scattergl\":[{\"marker\":{\"colorbar\":{\"outlinewidth\":0,\"ticks\":\"\"}},\"type\":\"scattergl\"}],\"scattermapbox\":[{\"marker\":{\"colorbar\":{\"outlinewidth\":0,\"ticks\":\"\"}},\"type\":\"scattermapbox\"}],\"scatterpolar\":[{\"marker\":{\"colorbar\":{\"outlinewidth\":0,\"ticks\":\"\"}},\"type\":\"scatterpolar\"}],\"scatterpolargl\":[{\"marker\":{\"colorbar\":{\"outlinewidth\":0,\"ticks\":\"\"}},\"type\":\"scatterpolargl\"}],\"scatterternary\":[{\"marker\":{\"colorbar\":{\"outlinewidth\":0,\"ticks\":\"\"}},\"type\":\"scatterternary\"}],\"surface\":[{\"colorbar\":{\"outlinewidth\":0,\"ticks\":\"\"},\"colorscale\":[[0.0,\"#0d0887\"],[0.1111111111111111,\"#46039f\"],[0.2222222222222222,\"#7201a8\"],[0.3333333333333333,\"#9c179e\"],[0.4444444444444444,\"#bd3786\"],[0.5555555555555556,\"#d8576b\"],[0.6666666666666666,\"#ed7953\"],[0.7777777777777778,\"#fb9f3a\"],[0.8888888888888888,\"#fdca26\"],[1.0,\"#f0f921\"]],\"type\":\"surface\"}],\"table\":[{\"cells\":{\"fill\":{\"color\":\"#EBF0F8\"},\"line\":{\"color\":\"white\"}},\"header\":{\"fill\":{\"color\":\"#C8D4E3\"},\"line\":{\"color\":\"white\"}},\"type\":\"table\"}]},\"layout\":{\"annotationdefaults\":{\"arrowcolor\":\"#2a3f5f\",\"arrowhead\":0,\"arrowwidth\":1},\"autotypenumbers\":\"strict\",\"coloraxis\":{\"colorbar\":{\"outlinewidth\":0,\"ticks\":\"\"}},\"colorscale\":{\"diverging\":[[0,\"#8e0152\"],[0.1,\"#c51b7d\"],[0.2,\"#de77ae\"],[0.3,\"#f1b6da\"],[0.4,\"#fde0ef\"],[0.5,\"#f7f7f7\"],[0.6,\"#e6f5d0\"],[0.7,\"#b8e186\"],[0.8,\"#7fbc41\"],[0.9,\"#4d9221\"],[1,\"#276419\"]],\"sequential\":[[0.0,\"#0d0887\"],[0.1111111111111111,\"#46039f\"],[0.2222222222222222,\"#7201a8\"],[0.3333333333333333,\"#9c179e\"],[0.4444444444444444,\"#bd3786\"],[0.5555555555555556,\"#d8576b\"],[0.6666666666666666,\"#ed7953\"],[0.7777777777777778,\"#fb9f3a\"],[0.8888888888888888,\"#fdca26\"],[1.0,\"#f0f921\"]],\"sequentialminus\":[[0.0,\"#0d0887\"],[0.1111111111111111,\"#46039f\"],[0.2222222222222222,\"#7201a8\"],[0.3333333333333333,\"#9c179e\"],[0.4444444444444444,\"#bd3786\"],[0.5555555555555556,\"#d8576b\"],[0.6666666666666666,\"#ed7953\"],[0.7777777777777778,\"#fb9f3a\"],[0.8888888888888888,\"#fdca26\"],[1.0,\"#f0f921\"]]},\"colorway\":[\"#636efa\",\"#EF553B\",\"#00cc96\",\"#ab63fa\",\"#FFA15A\",\"#19d3f3\",\"#FF6692\",\"#B6E880\",\"#FF97FF\",\"#FECB52\"],\"font\":{\"color\":\"#2a3f5f\"},\"geo\":{\"bgcolor\":\"white\",\"lakecolor\":\"white\",\"landcolor\":\"#E5ECF6\",\"showlakes\":true,\"showland\":true,\"subunitcolor\":\"white\"},\"hoverlabel\":{\"align\":\"left\"},\"hovermode\":\"closest\",\"mapbox\":{\"style\":\"light\"},\"paper_bgcolor\":\"white\",\"plot_bgcolor\":\"#E5ECF6\",\"polar\":{\"angularaxis\":{\"gridcolor\":\"white\",\"linecolor\":\"white\",\"ticks\":\"\"},\"bgcolor\":\"#E5ECF6\",\"radialaxis\":{\"gridcolor\":\"white\",\"linecolor\":\"white\",\"ticks\":\"\"}},\"scene\":{\"xaxis\":{\"backgroundcolor\":\"#E5ECF6\",\"gridcolor\":\"white\",\"gridwidth\":2,\"linecolor\":\"white\",\"showbackground\":true,\"ticks\":\"\",\"zerolinecolor\":\"white\"},\"yaxis\":{\"backgroundcolor\":\"#E5ECF6\",\"gridcolor\":\"white\",\"gridwidth\":2,\"linecolor\":\"white\",\"showbackground\":true,\"ticks\":\"\",\"zerolinecolor\":\"white\"},\"zaxis\":{\"backgroundcolor\":\"#E5ECF6\",\"gridcolor\":\"white\",\"gridwidth\":2,\"linecolor\":\"white\",\"showbackground\":true,\"ticks\":\"\",\"zerolinecolor\":\"white\"}},\"shapedefaults\":{\"line\":{\"color\":\"#2a3f5f\"}},\"ternary\":{\"aaxis\":{\"gridcolor\":\"white\",\"linecolor\":\"white\",\"ticks\":\"\"},\"baxis\":{\"gridcolor\":\"white\",\"linecolor\":\"white\",\"ticks\":\"\"},\"bgcolor\":\"#E5ECF6\",\"caxis\":{\"gridcolor\":\"white\",\"linecolor\":\"white\",\"ticks\":\"\"}},\"title\":{\"x\":0.05},\"xaxis\":{\"automargin\":true,\"gridcolor\":\"white\",\"linecolor\":\"white\",\"ticks\":\"\",\"title\":{\"standoff\":15},\"zerolinecolor\":\"white\",\"zerolinewidth\":2},\"yaxis\":{\"automargin\":true,\"gridcolor\":\"white\",\"linecolor\":\"white\",\"ticks\":\"\",\"title\":{\"standoff\":15},\"zerolinecolor\":\"white\",\"zerolinewidth\":2}}},\"geo\":{\"domain\":{\"x\":[0.0,1.0],\"y\":[0.0,1.0]},\"center\":{},\"scope\":\"usa\"},\"coloraxis\":{\"colorbar\":{\"title\":{\"text\":\"Region_porp\"}},\"colorscale\":[[0.0,\"#ffefd6\"],[0.5,\"#db5022\"],[1.0,\"#44131a\"]],\"cmin\":0,\"cmax\":0.1},\"legend\":{\"tracegroupgap\":0},\"margin\":{\"t\":10,\"l\":10,\"r\":10,\"b\":10}},                        {\"responsive\": true}                    ).then(function(){\n",
              "                            \n",
              "var gd = document.getElementById('90c785dc-ec60-48b7-bdc1-ba811fb30f5a');\n",
              "var x = new MutationObserver(function (mutations, observer) {{\n",
              "        var display = window.getComputedStyle(gd).display;\n",
              "        if (!display || display === 'none') {{\n",
              "            console.log([gd, 'removed!']);\n",
              "            Plotly.purge(gd);\n",
              "            observer.disconnect();\n",
              "        }}\n",
              "}});\n",
              "\n",
              "// Listen for the removal of the full notebook cells\n",
              "var notebookContainer = gd.closest('#notebook-container');\n",
              "if (notebookContainer) {{\n",
              "    x.observe(notebookContainer, {childList: true});\n",
              "}}\n",
              "\n",
              "// Listen for the clearing of the current output cell\n",
              "var outputEl = gd.closest('.output');\n",
              "if (outputEl) {{\n",
              "    x.observe(outputEl, {childList: true});\n",
              "}}\n",
              "\n",
              "                        })                };                            </script>        </div>\n",
              "</body>\n",
              "</html>"
            ]
          },
          "metadata": {}
        },
        {
          "output_type": "error",
          "ename": "ValueError",
          "evalue": "ignored",
          "traceback": [
            "\u001b[0;31m---------------------------------------------------------------------------\u001b[0m",
            "\u001b[0;31mValueError\u001b[0m                                Traceback (most recent call last)",
            "\u001b[0;32m<ipython-input-103-6b93f2630553>\u001b[0m in \u001b[0;36m<module>\u001b[0;34m()\u001b[0m\n\u001b[1;32m      9\u001b[0m \u001b[0;34m\u001b[0m\u001b[0m\n\u001b[1;32m     10\u001b[0m \u001b[0mfig\u001b[0m\u001b[0;34m.\u001b[0m\u001b[0mshow\u001b[0m\u001b[0;34m(\u001b[0m\u001b[0;34m)\u001b[0m\u001b[0;34m\u001b[0m\u001b[0;34m\u001b[0m\u001b[0m\n\u001b[0;32m---> 11\u001b[0;31m \u001b[0mcholorpath_map\u001b[0m \u001b[0;34m=\u001b[0m \u001b[0mfig\u001b[0m\u001b[0;34m.\u001b[0m\u001b[0mto_image\u001b[0m\u001b[0;34m(\u001b[0m\u001b[0mformat\u001b[0m\u001b[0;34m=\u001b[0m\u001b[0;34m\"png\"\u001b[0m\u001b[0;34m)\u001b[0m\u001b[0;34m\u001b[0m\u001b[0;34m\u001b[0m\u001b[0m\n\u001b[0m",
            "\u001b[0;32m/usr/local/lib/python3.7/dist-packages/plotly/basedatatypes.py\u001b[0m in \u001b[0;36mto_image\u001b[0;34m(self, *args, **kwargs)\u001b[0m\n\u001b[1;32m   3764\u001b[0m         \u001b[0;32mimport\u001b[0m \u001b[0mplotly\u001b[0m\u001b[0;34m.\u001b[0m\u001b[0mio\u001b[0m \u001b[0;32mas\u001b[0m \u001b[0mpio\u001b[0m\u001b[0;34m\u001b[0m\u001b[0;34m\u001b[0m\u001b[0m\n\u001b[1;32m   3765\u001b[0m \u001b[0;34m\u001b[0m\u001b[0m\n\u001b[0;32m-> 3766\u001b[0;31m         \u001b[0;32mreturn\u001b[0m \u001b[0mpio\u001b[0m\u001b[0;34m.\u001b[0m\u001b[0mto_image\u001b[0m\u001b[0;34m(\u001b[0m\u001b[0mself\u001b[0m\u001b[0;34m,\u001b[0m \u001b[0;34m*\u001b[0m\u001b[0margs\u001b[0m\u001b[0;34m,\u001b[0m \u001b[0;34m**\u001b[0m\u001b[0mkwargs\u001b[0m\u001b[0;34m)\u001b[0m\u001b[0;34m\u001b[0m\u001b[0;34m\u001b[0m\u001b[0m\n\u001b[0m\u001b[1;32m   3767\u001b[0m \u001b[0;34m\u001b[0m\u001b[0m\n\u001b[1;32m   3768\u001b[0m     \u001b[0;32mdef\u001b[0m \u001b[0mwrite_image\u001b[0m\u001b[0;34m(\u001b[0m\u001b[0mself\u001b[0m\u001b[0;34m,\u001b[0m \u001b[0;34m*\u001b[0m\u001b[0margs\u001b[0m\u001b[0;34m,\u001b[0m \u001b[0;34m**\u001b[0m\u001b[0mkwargs\u001b[0m\u001b[0;34m)\u001b[0m\u001b[0;34m:\u001b[0m\u001b[0;34m\u001b[0m\u001b[0;34m\u001b[0m\u001b[0m\n",
            "\u001b[0;32m/usr/local/lib/python3.7/dist-packages/plotly/io/_kaleido.py\u001b[0m in \u001b[0;36mto_image\u001b[0;34m(fig, format, width, height, scale, validate, engine)\u001b[0m\n\u001b[1;32m    137\u001b[0m \u001b[0mwhich\u001b[0m \u001b[0mcan\u001b[0m \u001b[0mbe\u001b[0m \u001b[0minstalled\u001b[0m \u001b[0musing\u001b[0m \u001b[0mpip\u001b[0m\u001b[0;34m:\u001b[0m\u001b[0;34m\u001b[0m\u001b[0;34m\u001b[0m\u001b[0m\n\u001b[1;32m    138\u001b[0m     \u001b[0;31m$\u001b[0m \u001b[0mpip\u001b[0m \u001b[0minstall\u001b[0m \u001b[0;34m-\u001b[0m\u001b[0mU\u001b[0m \u001b[0mkaleido\u001b[0m\u001b[0;34m\u001b[0m\u001b[0;34m\u001b[0m\u001b[0m\n\u001b[0;32m--> 139\u001b[0;31m \"\"\"\n\u001b[0m\u001b[1;32m    140\u001b[0m         )\n\u001b[1;32m    141\u001b[0m \u001b[0;34m\u001b[0m\u001b[0m\n",
            "\u001b[0;31mValueError\u001b[0m: \nImage export using the \"kaleido\" engine requires the kaleido package,\nwhich can be installed using pip:\n    $ pip install -U kaleido\n"
          ]
        }
      ]
    },
    {
      "cell_type": "markdown",
      "source": [
        "# Demo data"
      ],
      "metadata": {
        "id": "7dump_ZRm-St"
      }
    },
    {
      "cell_type": "markdown",
      "source": [
        "## takein"
      ],
      "metadata": {
        "id": "9fUVCk0E3oE0"
      }
    },
    {
      "cell_type": "code",
      "source": [
        "total_demo_15 = pd.read_csv('https://raw.githubusercontent.com/oimartin/Older-and-Wiser/medicare/data/2015_total_demo_medicare_enrolled.csv')\n",
        "total_demo_16 = pd.read_csv('https://raw.githubusercontent.com/oimartin/Older-and-Wiser/medicare/data/2016_total_demo_medicare_enrolled.csv')\n",
        "total_demo_17 = pd.read_csv('https://raw.githubusercontent.com/oimartin/Older-and-Wiser/medicare/data/2017_total_demo_medicare_enrolled.csv')\n",
        "total_demo_18 = pd.read_csv('https://raw.githubusercontent.com/oimartin/Older-and-Wiser/medicare/data/2018_total_demo_medicare_enrolled.csv')\n",
        "total_demo_19 = pd.read_csv('https://raw.githubusercontent.com/oimartin/Older-and-Wiser/medicare/data/2019_total_demo_medicare_enrolled.csv')\n",
        "total_demo_20 = pd.read_csv('https://raw.githubusercontent.com/oimartin/Older-and-Wiser/medicare/data/2020_total_demo_medicare_enrolled.csv')"
      ],
      "metadata": {
        "id": "0PcJ-6WUUU7B"
      },
      "execution_count": null,
      "outputs": []
    },
    {
      "cell_type": "code",
      "source": [
        "display(total_demo_15.shape,\n",
        "        total_demo_16.shape,\n",
        "        total_demo_17.shape,\n",
        "        total_demo_18.shape,\n",
        "        total_demo_19.shape,\n",
        "        total_demo_20.shape)"
      ],
      "metadata": {
        "id": "sP0A7IshbSS4"
      },
      "execution_count": null,
      "outputs": []
    },
    {
      "cell_type": "code",
      "source": [
        "def demo_df(df, year):\n",
        "  df.drop(columns=['Unnamed: 5', 'Unnamed: 6', 'Unnamed: 7',\n",
        "                            'Unnamed: 8', 'Unnamed: 9'],inplace=True)\n",
        "  df.dropna(axis=0,inplace=True)\n",
        "  df.columns = df.iloc[0]\n",
        "  clean = df.iloc[1:, :]\n",
        "  cleaner = clean.replace(',', '', regex=True)\n",
        "  v_clean = cleaner[(clean['Demographic Characteristic'] != 'Age') &\n",
        "      (clean['Demographic Characteristic'] != 'Sex') &\n",
        "      (clean['Demographic Characteristic'] != 'Race')]\n",
        "  for column in list(v_clean.columns)[1:-1]:\n",
        "    v_clean[column] = v_clean[column].astype(int)\n",
        "  v_clean['Year'] = year\n",
        "\n",
        "  return v_clean"
      ],
      "metadata": {
        "id": "7M4izW0NdPg_"
      },
      "execution_count": null,
      "outputs": []
    },
    {
      "cell_type": "code",
      "source": [
        "clean_demo_15 = demo_df(total_demo_15, '2015')\n",
        "clean_demo_16 = demo_df(total_demo_16, '2016')\n",
        "clean_demo_17 = demo_df(total_demo_17, '2017')\n",
        "clean_demo_18 = demo_df(total_demo_18, '2018')\n",
        "clean_demo_19 = demo_df(total_demo_19, '2019')\n",
        "clean_demo_20 = demo_df(total_demo_20, '2020')"
      ],
      "metadata": {
        "id": "542BeMxTOCoz"
      },
      "execution_count": null,
      "outputs": []
    },
    {
      "cell_type": "code",
      "source": [
        "display(clean_demo_15.shape,\n",
        "        clean_demo_16.shape,\n",
        "        clean_demo_17.shape,\n",
        "        clean_demo_18.shape,\n",
        "        clean_demo_19.shape,\n",
        "        clean_demo_20.shape)"
      ],
      "metadata": {
        "id": "Iu71-CvLeLFa"
      },
      "execution_count": null,
      "outputs": []
    },
    {
      "cell_type": "markdown",
      "source": [
        "## Reorganize demo data"
      ],
      "metadata": {
        "id": "dYxWbgNcoHXE"
      }
    },
    {
      "cell_type": "code",
      "source": [
        "index_65_2015 = clean_demo_15[clean_demo_15['Demographic Characteristic'] == '65-74 Years'].iloc[0,1]"
      ],
      "metadata": {
        "id": "uCA-VSjGOaEZ"
      },
      "execution_count": null,
      "outputs": []
    },
    {
      "cell_type": "code",
      "source": [
        "def choose_65(df):\n",
        "  new_df = df[df['Demographic Characteristic'] == '65-74 Years']\n",
        "  return new_df"
      ],
      "metadata": {
        "id": "xojIgO2C0bRW"
      },
      "execution_count": null,
      "outputs": []
    },
    {
      "cell_type": "code",
      "source": [
        "d65_20 = choose_65(clean_demo_20)\n",
        "d65_19 = choose_65(clean_demo_19)\n",
        "d65_18 = choose_65(clean_demo_18)\n",
        "d65_17 = choose_65(clean_demo_17)\n",
        "d65_16 = choose_65(clean_demo_16)\n",
        "d65_15 = choose_65(clean_demo_15)\n",
        "\n",
        "d65_all = pd.concat([d65_15, d65_16, d65_17, d65_18, d65_19, d65_20])"
      ],
      "metadata": {
        "id": "XHl9JCqboPyN"
      },
      "execution_count": null,
      "outputs": []
    },
    {
      "cell_type": "code",
      "source": [
        "def choose_75_plus(df):\n",
        "  new_df = df[(df['Demographic Characteristic'] == '75-84 Years') |\n",
        "              (df['Demographic Characteristic'] == '85-94 Years') |\n",
        "              (df['Demographic Characteristic'] == '95 Years and Over')]\n",
        "  \n",
        "  return new_df"
      ],
      "metadata": {
        "id": "VZKoGcXntyso"
      },
      "execution_count": null,
      "outputs": []
    },
    {
      "cell_type": "code",
      "source": [
        "d75_plus_20 = choose_75_plus(clean_demo_20)\n",
        "d75_plus_19 = choose_75_plus(clean_demo_19)\n",
        "d75_plus_18 = choose_75_plus(clean_demo_18)\n",
        "d75_plus_17 = choose_75_plus(clean_demo_17)\n",
        "d75_plus_16 = choose_75_plus(clean_demo_16)\n",
        "d75_plus_15 = choose_75_plus(clean_demo_15)\n",
        "\n",
        "d75_plus_all = pd.concat([d75_plus_15, d75_plus_16,\n",
        "                          d75_plus_17, d75_plus_18,\n",
        "                          d75_plus_19, d75_plus_20])\n",
        "\n",
        "d75_plus_all"
      ],
      "metadata": {
        "id": "ywW-5mxQ1x7i"
      },
      "execution_count": null,
      "outputs": []
    },
    {
      "cell_type": "markdown",
      "source": [
        "## Graphs"
      ],
      "metadata": {
        "id": "p8JIkyqzU3fO"
      }
    },
    {
      "cell_type": "markdown",
      "source": [
        "### Bar graphs"
      ],
      "metadata": {
        "id": "DV7e5UBzU5tz"
      }
    },
    {
      "cell_type": "code",
      "source": [
        "fig = px.bar(d75_plus_all, x=\"Demographic Characteristic\", y=\"Part A and/or Part B\", color=\"Year\", barmode=\"group\")\n",
        "fig.show()"
      ],
      "metadata": {
        "id": "rP6Y9GYC2Cz0"
      },
      "execution_count": null,
      "outputs": []
    },
    {
      "cell_type": "code",
      "source": [
        "fig = px.bar(d65_all, x=\"Demographic Characteristic\", y=\"Part A and/or Part B\", color=\"Year\", barmode=\"group\")\n",
        "fig.show()"
      ],
      "metadata": {
        "id": "zxmd3o2Z7Cny"
      },
      "execution_count": null,
      "outputs": []
    },
    {
      "cell_type": "markdown",
      "source": [
        "#### Box Whisker Plot"
      ],
      "metadata": {
        "id": "wu-Qx8HmU9_s"
      }
    },
    {
      "cell_type": "code",
      "source": [
        "fig = px.box(d65_all, y=\"Demographic Characteristic\", x=\"Part A and/or Part B\",\n",
        "             orientation='h')\n",
        "fig.show()"
      ],
      "metadata": {
        "id": "QTLuTBvlVAu5"
      },
      "execution_count": null,
      "outputs": []
    },
    {
      "cell_type": "code",
      "source": [
        "sns.boxplot(data=d65_all, y='Demographic Characteristic', x=\"Part A and/or Part B\",\n",
        "            orient='h')"
      ],
      "metadata": {
        "id": "ilpmvlAnV9H6"
      },
      "execution_count": null,
      "outputs": []
    },
    {
      "cell_type": "code",
      "source": [
        "fig = px.box(d75_plus_all, y=\"Demographic Characteristic\", x=\"Part A and/or Part B\",\n",
        "             orientation='h', color='Demographic Characteristic')\n",
        "fig.show()"
      ],
      "metadata": {
        "id": "6105aEjLWTnX"
      },
      "execution_count": null,
      "outputs": []
    }
  ]
}