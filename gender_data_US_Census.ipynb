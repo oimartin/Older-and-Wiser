{
  "nbformat": 4,
  "nbformat_minor": 0,
  "metadata": {
    "colab": {
      "name": "gender_data_US_Census",
      "provenance": [],
      "authorship_tag": "ABX9TyO14l6lWc3kZ1PwRg0w+WbY",
      "include_colab_link": true
    },
    "kernelspec": {
      "name": "python3",
      "display_name": "Python 3"
    },
    "language_info": {
      "name": "python"
    }
  },
  "cells": [
    {
      "cell_type": "markdown",
      "metadata": {
        "id": "view-in-github",
        "colab_type": "text"
      },
      "source": [
        "<a href=\"https://colab.research.google.com/github/oimartin/Older-and-Wiser/blob/working_b/gender_data_US_Census.ipynb\" target=\"_parent\"><img src=\"https://colab.research.google.com/assets/colab-badge.svg\" alt=\"Open In Colab\"/></a>"
      ]
    },
    {
      "cell_type": "markdown",
      "source": [
        "# Digest Data"
      ],
      "metadata": {
        "id": "Q29gidMN8Rgu"
      }
    },
    {
      "cell_type": "code",
      "execution_count": null,
      "metadata": {
        "id": "5Pq6NcJUpGXf"
      },
      "outputs": [],
      "source": [
        "import pandas as pd\n",
        "import plotly.graph_objects as go\n",
        "import plotly.express as px\n",
        "import plotly.figure_factory as ff\n",
        "from plotly.subplots import make_subplots\n",
        "import plotly.io as pio"
      ]
    },
    {
      "cell_type": "code",
      "source": [
        "yr2009 = pd.read_csv('https://raw.githubusercontent.com/oimartin/Older-and-Wiser/main/data/2009gender_table1.csv')\n",
        "yr2010 = pd.read_csv('https://raw.githubusercontent.com/oimartin/Older-and-Wiser/main/data/2010gender_table1.csv')\n",
        "yr2011 = pd.read_csv('https://raw.githubusercontent.com/oimartin/Older-and-Wiser/main/data/2011gender_table1.csv')\n",
        "yr2012 = pd.read_csv('https://raw.githubusercontent.com/oimartin/Older-and-Wiser/main/data/2012gender_table1.csv')\n",
        "yr2013 = pd.read_csv('https://raw.githubusercontent.com/oimartin/Older-and-Wiser/main/data/2013gender_table1.csv')\n",
        "yr2014 = pd.read_csv('https://raw.githubusercontent.com/oimartin/Older-and-Wiser/main/data/2014gender_table1.csv')\n",
        "yr2015 = pd.read_csv('https://raw.githubusercontent.com/oimartin/Older-and-Wiser/main/data/2015gender_table1.csv')\n",
        "yr2016 = pd.read_csv('https://raw.githubusercontent.com/oimartin/Older-and-Wiser/main/data/2016gender_table1.csv')\n",
        "yr2017 = pd.read_csv('https://raw.githubusercontent.com/oimartin/Older-and-Wiser/main/data/2017gender_table1.csv')\n",
        "yr2018 = pd.read_csv('https://raw.githubusercontent.com/oimartin/Older-and-Wiser/main/data/2018gender_table1.csv')\n",
        "yr2019 = pd.read_csv('https://raw.githubusercontent.com/oimartin/Older-and-Wiser/main/data/2019gender_table1.csv')"
      ],
      "metadata": {
        "id": "TmHcY2FbpPio"
      },
      "execution_count": null,
      "outputs": []
    },
    {
      "cell_type": "code",
      "source": [
        "years = [yr2009, yr2010, yr2011, yr2012, yr2013, yr2014,\n",
        "         yr2015, yr2016, yr2017, yr2018, yr2019]\n",
        "\n",
        "yrs = ['2009', '2010', '2011', '2012', '2013', '2014',\n",
        "       '2015', '2016', '2017', '2018', '2019']\n",
        "for year in years:\n",
        "  display(year.shape)"
      ],
      "metadata": {
        "colab": {
          "base_uri": "https://localhost:8080/",
          "height": 208
        },
        "id": "ouCrfN_Mp4kr",
        "outputId": "685925e2-5dec-4d2a-9123-baf44a312244"
      },
      "execution_count": null,
      "outputs": [
        {
          "output_type": "display_data",
          "data": {
            "text/plain": [
              "(40, 8)"
            ]
          },
          "metadata": {}
        },
        {
          "output_type": "display_data",
          "data": {
            "text/plain": [
              "(40, 8)"
            ]
          },
          "metadata": {}
        },
        {
          "output_type": "display_data",
          "data": {
            "text/plain": [
              "(39, 8)"
            ]
          },
          "metadata": {}
        },
        {
          "output_type": "display_data",
          "data": {
            "text/plain": [
              "(39, 8)"
            ]
          },
          "metadata": {}
        },
        {
          "output_type": "display_data",
          "data": {
            "text/plain": [
              "(41, 8)"
            ]
          },
          "metadata": {}
        },
        {
          "output_type": "display_data",
          "data": {
            "text/plain": [
              "(49, 8)"
            ]
          },
          "metadata": {}
        },
        {
          "output_type": "display_data",
          "data": {
            "text/plain": [
              "(39, 8)"
            ]
          },
          "metadata": {}
        },
        {
          "output_type": "display_data",
          "data": {
            "text/plain": [
              "(41, 8)"
            ]
          },
          "metadata": {}
        },
        {
          "output_type": "display_data",
          "data": {
            "text/plain": [
              "(41, 8)"
            ]
          },
          "metadata": {}
        },
        {
          "output_type": "display_data",
          "data": {
            "text/plain": [
              "(41, 8)"
            ]
          },
          "metadata": {}
        },
        {
          "output_type": "display_data",
          "data": {
            "text/plain": [
              "(42, 8)"
            ]
          },
          "metadata": {}
        }
      ]
    },
    {
      "cell_type": "code",
      "source": [
        "for year in range(0,11):\n",
        "  years[year].drop(columns=['Unnamed: 7'], inplace=True)\n",
        "  years[year][yrs[year]] = yrs[year]\n",
        "  years[year].rename(columns={years[year].columns[0]:'Age',\n",
        "                              years[year].columns[1]:'Both_Sexes_No',\n",
        "                              years[year].columns[2]:'Both_Sexes_Perc.',\n",
        "                              years[year].columns[3]:'Male_No',\n",
        "                              years[year].columns[4]:'Male_Perc.',\n",
        "                              years[year].columns[5]:'Fem_No',\n",
        "                              years[year].columns[6]:'Fem_Perc.',\n",
        "                              years[year].columns[7]:'Year'}, inplace=True)\n",
        "  years[year].dropna(axis=0, inplace=True)  "
      ],
      "metadata": {
        "id": "-6fg0C8up6wZ"
      },
      "execution_count": null,
      "outputs": []
    },
    {
      "cell_type": "code",
      "source": [
        "for year in years:\n",
        "  display(year.shape)"
      ],
      "metadata": {
        "colab": {
          "base_uri": "https://localhost:8080/",
          "height": 208
        },
        "id": "04Xm5Gkv7_tw",
        "outputId": "24dca899-b900-4456-cee9-e521fedbb791"
      },
      "execution_count": null,
      "outputs": [
        {
          "output_type": "display_data",
          "data": {
            "text/plain": [
              "(26, 8)"
            ]
          },
          "metadata": {}
        },
        {
          "output_type": "display_data",
          "data": {
            "text/plain": [
              "(26, 8)"
            ]
          },
          "metadata": {}
        },
        {
          "output_type": "display_data",
          "data": {
            "text/plain": [
              "(26, 8)"
            ]
          },
          "metadata": {}
        },
        {
          "output_type": "display_data",
          "data": {
            "text/plain": [
              "(26, 8)"
            ]
          },
          "metadata": {}
        },
        {
          "output_type": "display_data",
          "data": {
            "text/plain": [
              "(26, 8)"
            ]
          },
          "metadata": {}
        },
        {
          "output_type": "display_data",
          "data": {
            "text/plain": [
              "(26, 8)"
            ]
          },
          "metadata": {}
        },
        {
          "output_type": "display_data",
          "data": {
            "text/plain": [
              "(26, 8)"
            ]
          },
          "metadata": {}
        },
        {
          "output_type": "display_data",
          "data": {
            "text/plain": [
              "(26, 8)"
            ]
          },
          "metadata": {}
        },
        {
          "output_type": "display_data",
          "data": {
            "text/plain": [
              "(26, 8)"
            ]
          },
          "metadata": {}
        },
        {
          "output_type": "display_data",
          "data": {
            "text/plain": [
              "(26, 8)"
            ]
          },
          "metadata": {}
        },
        {
          "output_type": "display_data",
          "data": {
            "text/plain": [
              "(26, 8)"
            ]
          },
          "metadata": {}
        }
      ]
    },
    {
      "cell_type": "markdown",
      "source": [
        "# Create Graphs"
      ],
      "metadata": {
        "id": "BJ2b2Nmb8VkH"
      }
    },
    {
      "cell_type": "code",
      "source": [
        "all_09_19 = pd.concat(years)"
      ],
      "metadata": {
        "id": "Kmh01xYf8Zua"
      },
      "execution_count": null,
      "outputs": []
    },
    {
      "cell_type": "code",
      "source": [
        "all_09_19['Age'] = all_09_19['Age'].str.lstrip()\n",
        "all_09_19['Age'] = all_09_19['Age'].str.lstrip('.')\n",
        "all_09_19 = all_09_19.replace(',', '', regex=True)\n",
        "all_09_19 = all_09_19.replace('(X)', 'NaN', regex=True)"
      ],
      "metadata": {
        "id": "2OA7gbzI-X6v"
      },
      "execution_count": null,
      "outputs": []
    },
    {
      "cell_type": "code",
      "source": [
        "median_age = all_09_19[all_09_19['Age'] == 'Median age']\n",
        "median_age"
      ],
      "metadata": {
        "colab": {
          "base_uri": "https://localhost:8080/",
          "height": 394
        },
        "id": "cMpe5bNMLn62",
        "outputId": "4807dedb-00d2-4d02-8eee-fe44f18e82ff"
      },
      "execution_count": null,
      "outputs": [
        {
          "output_type": "execute_result",
          "data": {
            "text/plain": [
              "           Age  Both_Sexes_No Both_Sexes_Perc.  Male_No   Male_Perc.  Fem_No  \\\n",
              "32  Median age           36.7            (NaN)     35.5        (NaN)    37.9   \n",
              "32  Median age           36.7            (NaN)     35.5        (NaN)    37.9   \n",
              "32  Median age           36.8            (NaN)     35.5        (NaN)    38.1   \n",
              "32  Median age           37.3            (NaN)     36.1        (NaN)    38.5   \n",
              "32  Median age           37.3            (NaN)     36.1        (NaN)    38.5   \n",
              "32  Median age           37.6            (NaN)     36.4        (NaN)    38.8   \n",
              "32  Median age           37.8      (NaN)           36.6  (NaN)          39.0   \n",
              "32  Median age           37.9      (NaN)           36.7  (NaN)          39.1   \n",
              "32  Median age           38.0      (NaN)           36.8  (NaN)          39.2   \n",
              "32  Median age           38.1      (NaN)           37.0  (NaN)          39.3   \n",
              "32  Median age           38.3      (NaN)           37.1  (NaN)          39.5   \n",
              "\n",
              "      Fem_Perc.  Year  \n",
              "32        (NaN)  2009  \n",
              "32        (NaN)  2010  \n",
              "32        (NaN)  2011  \n",
              "32        (NaN)  2012  \n",
              "32        (NaN)  2013  \n",
              "32        (NaN)  2014  \n",
              "32  (NaN)        2015  \n",
              "32  (NaN)        2016  \n",
              "32  (NaN)        2017  \n",
              "32  (NaN)        2018  \n",
              "32  (NaN)        2019  "
            ],
            "text/html": [
              "\n",
              "  <div id=\"df-ac956325-d969-4ca8-8497-971d6fa177dd\">\n",
              "    <div class=\"colab-df-container\">\n",
              "      <div>\n",
              "<style scoped>\n",
              "    .dataframe tbody tr th:only-of-type {\n",
              "        vertical-align: middle;\n",
              "    }\n",
              "\n",
              "    .dataframe tbody tr th {\n",
              "        vertical-align: top;\n",
              "    }\n",
              "\n",
              "    .dataframe thead th {\n",
              "        text-align: right;\n",
              "    }\n",
              "</style>\n",
              "<table border=\"1\" class=\"dataframe\">\n",
              "  <thead>\n",
              "    <tr style=\"text-align: right;\">\n",
              "      <th></th>\n",
              "      <th>Age</th>\n",
              "      <th>Both_Sexes_No</th>\n",
              "      <th>Both_Sexes_Perc.</th>\n",
              "      <th>Male_No</th>\n",
              "      <th>Male_Perc.</th>\n",
              "      <th>Fem_No</th>\n",
              "      <th>Fem_Perc.</th>\n",
              "      <th>Year</th>\n",
              "    </tr>\n",
              "  </thead>\n",
              "  <tbody>\n",
              "    <tr>\n",
              "      <th>32</th>\n",
              "      <td>Median age</td>\n",
              "      <td>36.7</td>\n",
              "      <td>(NaN)</td>\n",
              "      <td>35.5</td>\n",
              "      <td>(NaN)</td>\n",
              "      <td>37.9</td>\n",
              "      <td>(NaN)</td>\n",
              "      <td>2009</td>\n",
              "    </tr>\n",
              "    <tr>\n",
              "      <th>32</th>\n",
              "      <td>Median age</td>\n",
              "      <td>36.7</td>\n",
              "      <td>(NaN)</td>\n",
              "      <td>35.5</td>\n",
              "      <td>(NaN)</td>\n",
              "      <td>37.9</td>\n",
              "      <td>(NaN)</td>\n",
              "      <td>2010</td>\n",
              "    </tr>\n",
              "    <tr>\n",
              "      <th>32</th>\n",
              "      <td>Median age</td>\n",
              "      <td>36.8</td>\n",
              "      <td>(NaN)</td>\n",
              "      <td>35.5</td>\n",
              "      <td>(NaN)</td>\n",
              "      <td>38.1</td>\n",
              "      <td>(NaN)</td>\n",
              "      <td>2011</td>\n",
              "    </tr>\n",
              "    <tr>\n",
              "      <th>32</th>\n",
              "      <td>Median age</td>\n",
              "      <td>37.3</td>\n",
              "      <td>(NaN)</td>\n",
              "      <td>36.1</td>\n",
              "      <td>(NaN)</td>\n",
              "      <td>38.5</td>\n",
              "      <td>(NaN)</td>\n",
              "      <td>2012</td>\n",
              "    </tr>\n",
              "    <tr>\n",
              "      <th>32</th>\n",
              "      <td>Median age</td>\n",
              "      <td>37.3</td>\n",
              "      <td>(NaN)</td>\n",
              "      <td>36.1</td>\n",
              "      <td>(NaN)</td>\n",
              "      <td>38.5</td>\n",
              "      <td>(NaN)</td>\n",
              "      <td>2013</td>\n",
              "    </tr>\n",
              "    <tr>\n",
              "      <th>32</th>\n",
              "      <td>Median age</td>\n",
              "      <td>37.6</td>\n",
              "      <td>(NaN)</td>\n",
              "      <td>36.4</td>\n",
              "      <td>(NaN)</td>\n",
              "      <td>38.8</td>\n",
              "      <td>(NaN)</td>\n",
              "      <td>2014</td>\n",
              "    </tr>\n",
              "    <tr>\n",
              "      <th>32</th>\n",
              "      <td>Median age</td>\n",
              "      <td>37.8</td>\n",
              "      <td>(NaN)</td>\n",
              "      <td>36.6</td>\n",
              "      <td>(NaN)</td>\n",
              "      <td>39.0</td>\n",
              "      <td>(NaN)</td>\n",
              "      <td>2015</td>\n",
              "    </tr>\n",
              "    <tr>\n",
              "      <th>32</th>\n",
              "      <td>Median age</td>\n",
              "      <td>37.9</td>\n",
              "      <td>(NaN)</td>\n",
              "      <td>36.7</td>\n",
              "      <td>(NaN)</td>\n",
              "      <td>39.1</td>\n",
              "      <td>(NaN)</td>\n",
              "      <td>2016</td>\n",
              "    </tr>\n",
              "    <tr>\n",
              "      <th>32</th>\n",
              "      <td>Median age</td>\n",
              "      <td>38.0</td>\n",
              "      <td>(NaN)</td>\n",
              "      <td>36.8</td>\n",
              "      <td>(NaN)</td>\n",
              "      <td>39.2</td>\n",
              "      <td>(NaN)</td>\n",
              "      <td>2017</td>\n",
              "    </tr>\n",
              "    <tr>\n",
              "      <th>32</th>\n",
              "      <td>Median age</td>\n",
              "      <td>38.1</td>\n",
              "      <td>(NaN)</td>\n",
              "      <td>37.0</td>\n",
              "      <td>(NaN)</td>\n",
              "      <td>39.3</td>\n",
              "      <td>(NaN)</td>\n",
              "      <td>2018</td>\n",
              "    </tr>\n",
              "    <tr>\n",
              "      <th>32</th>\n",
              "      <td>Median age</td>\n",
              "      <td>38.3</td>\n",
              "      <td>(NaN)</td>\n",
              "      <td>37.1</td>\n",
              "      <td>(NaN)</td>\n",
              "      <td>39.5</td>\n",
              "      <td>(NaN)</td>\n",
              "      <td>2019</td>\n",
              "    </tr>\n",
              "  </tbody>\n",
              "</table>\n",
              "</div>\n",
              "      <button class=\"colab-df-convert\" onclick=\"convertToInteractive('df-ac956325-d969-4ca8-8497-971d6fa177dd')\"\n",
              "              title=\"Convert this dataframe to an interactive table.\"\n",
              "              style=\"display:none;\">\n",
              "        \n",
              "  <svg xmlns=\"http://www.w3.org/2000/svg\" height=\"24px\"viewBox=\"0 0 24 24\"\n",
              "       width=\"24px\">\n",
              "    <path d=\"M0 0h24v24H0V0z\" fill=\"none\"/>\n",
              "    <path d=\"M18.56 5.44l.94 2.06.94-2.06 2.06-.94-2.06-.94-.94-2.06-.94 2.06-2.06.94zm-11 1L8.5 8.5l.94-2.06 2.06-.94-2.06-.94L8.5 2.5l-.94 2.06-2.06.94zm10 10l.94 2.06.94-2.06 2.06-.94-2.06-.94-.94-2.06-.94 2.06-2.06.94z\"/><path d=\"M17.41 7.96l-1.37-1.37c-.4-.4-.92-.59-1.43-.59-.52 0-1.04.2-1.43.59L10.3 9.45l-7.72 7.72c-.78.78-.78 2.05 0 2.83L4 21.41c.39.39.9.59 1.41.59.51 0 1.02-.2 1.41-.59l7.78-7.78 2.81-2.81c.8-.78.8-2.07 0-2.86zM5.41 20L4 18.59l7.72-7.72 1.47 1.35L5.41 20z\"/>\n",
              "  </svg>\n",
              "      </button>\n",
              "      \n",
              "  <style>\n",
              "    .colab-df-container {\n",
              "      display:flex;\n",
              "      flex-wrap:wrap;\n",
              "      gap: 12px;\n",
              "    }\n",
              "\n",
              "    .colab-df-convert {\n",
              "      background-color: #E8F0FE;\n",
              "      border: none;\n",
              "      border-radius: 50%;\n",
              "      cursor: pointer;\n",
              "      display: none;\n",
              "      fill: #1967D2;\n",
              "      height: 32px;\n",
              "      padding: 0 0 0 0;\n",
              "      width: 32px;\n",
              "    }\n",
              "\n",
              "    .colab-df-convert:hover {\n",
              "      background-color: #E2EBFA;\n",
              "      box-shadow: 0px 1px 2px rgba(60, 64, 67, 0.3), 0px 1px 3px 1px rgba(60, 64, 67, 0.15);\n",
              "      fill: #174EA6;\n",
              "    }\n",
              "\n",
              "    [theme=dark] .colab-df-convert {\n",
              "      background-color: #3B4455;\n",
              "      fill: #D2E3FC;\n",
              "    }\n",
              "\n",
              "    [theme=dark] .colab-df-convert:hover {\n",
              "      background-color: #434B5C;\n",
              "      box-shadow: 0px 1px 3px 1px rgba(0, 0, 0, 0.15);\n",
              "      filter: drop-shadow(0px 1px 2px rgba(0, 0, 0, 0.3));\n",
              "      fill: #FFFFFF;\n",
              "    }\n",
              "  </style>\n",
              "\n",
              "      <script>\n",
              "        const buttonEl =\n",
              "          document.querySelector('#df-ac956325-d969-4ca8-8497-971d6fa177dd button.colab-df-convert');\n",
              "        buttonEl.style.display =\n",
              "          google.colab.kernel.accessAllowed ? 'block' : 'none';\n",
              "\n",
              "        async function convertToInteractive(key) {\n",
              "          const element = document.querySelector('#df-ac956325-d969-4ca8-8497-971d6fa177dd');\n",
              "          const dataTable =\n",
              "            await google.colab.kernel.invokeFunction('convertToInteractive',\n",
              "                                                     [key], {});\n",
              "          if (!dataTable) return;\n",
              "\n",
              "          const docLinkHtml = 'Like what you see? Visit the ' +\n",
              "            '<a target=\"_blank\" href=https://colab.research.google.com/notebooks/data_table.ipynb>data table notebook</a>'\n",
              "            + ' to learn more about interactive tables.';\n",
              "          element.innerHTML = '';\n",
              "          dataTable['output_type'] = 'display_data';\n",
              "          await google.colab.output.renderOutput(dataTable, element);\n",
              "          const docLink = document.createElement('div');\n",
              "          docLink.innerHTML = docLinkHtml;\n",
              "          element.appendChild(docLink);\n",
              "        }\n",
              "      </script>\n",
              "    </div>\n",
              "  </div>\n",
              "  "
            ]
          },
          "metadata": {},
          "execution_count": 31
        }
      ]
    },
    {
      "cell_type": "code",
      "source": [
        "for column in list(all_09_19.columns)[1:-1]:\n",
        "  try:\n",
        "    all_09_19[column] = all_09_19[column].astype(float)\n",
        "  except:\n",
        "    pass"
      ],
      "metadata": {
        "id": "4Cc5fOMs_o9z"
      },
      "execution_count": null,
      "outputs": []
    },
    {
      "cell_type": "code",
      "source": [
        "all_09_19"
      ],
      "metadata": {
        "colab": {
          "base_uri": "https://localhost:8080/",
          "height": 424
        },
        "id": "ftxvxkgxLssI",
        "outputId": "24fc7cea-550f-46d5-ae85-7727f98ba64e"
      },
      "execution_count": null,
      "outputs": [
        {
          "output_type": "execute_result",
          "data": {
            "text/plain": [
              "                  Age  Both_Sexes_No Both_Sexes_Perc.   Male_No   Male_Perc.  \\\n",
              "5            All ages       301483.0            100.0  148094.0        100.0   \n",
              "6       Under 5 years        21187.0              7.0   10842.0          7.3   \n",
              "7        5 to 9 years        20245.0              6.7   10351.0          7.0   \n",
              "8      10 to 14 years        19907.0              6.6   10181.0          6.9   \n",
              "9      15 to 19 years        21227.0              7.0   10782.0          7.3   \n",
              "..                ...            ...              ...       ...          ...   \n",
              "27     18 to 20 years        11851.0              3.7    5931.0          3.7   \n",
              "28     21 to 44 years       103469.0             31.9   51658.0         32.5   \n",
              "29     45 to 64 years        82455.0             25.4   39789.0         25.0   \n",
              "30  65 years and over        52788.0             16.3   23923.0         15.0   \n",
              "32         Median age           38.3      (NaN)            37.1  (NaN)         \n",
              "\n",
              "      Fem_No    Fem_Perc.  Year  \n",
              "5   153388.0        100.0  2009  \n",
              "6    10345.0          6.7  2009  \n",
              "7     9894.0          6.5  2009  \n",
              "8     9726.0          6.3  2009  \n",
              "9    10445.0          6.8  2009  \n",
              "..       ...          ...   ...  \n",
              "27    5920.0          3.6  2019  \n",
              "28   51811.0         31.3  2019  \n",
              "29   42666.0         25.8  2019  \n",
              "30   28865.0         17.5  2019  \n",
              "32      39.5  (NaN)        2019  \n",
              "\n",
              "[286 rows x 8 columns]"
            ],
            "text/html": [
              "\n",
              "  <div id=\"df-db14d9d5-996c-4124-b6b7-6e931352933c\">\n",
              "    <div class=\"colab-df-container\">\n",
              "      <div>\n",
              "<style scoped>\n",
              "    .dataframe tbody tr th:only-of-type {\n",
              "        vertical-align: middle;\n",
              "    }\n",
              "\n",
              "    .dataframe tbody tr th {\n",
              "        vertical-align: top;\n",
              "    }\n",
              "\n",
              "    .dataframe thead th {\n",
              "        text-align: right;\n",
              "    }\n",
              "</style>\n",
              "<table border=\"1\" class=\"dataframe\">\n",
              "  <thead>\n",
              "    <tr style=\"text-align: right;\">\n",
              "      <th></th>\n",
              "      <th>Age</th>\n",
              "      <th>Both_Sexes_No</th>\n",
              "      <th>Both_Sexes_Perc.</th>\n",
              "      <th>Male_No</th>\n",
              "      <th>Male_Perc.</th>\n",
              "      <th>Fem_No</th>\n",
              "      <th>Fem_Perc.</th>\n",
              "      <th>Year</th>\n",
              "    </tr>\n",
              "  </thead>\n",
              "  <tbody>\n",
              "    <tr>\n",
              "      <th>5</th>\n",
              "      <td>All ages</td>\n",
              "      <td>301483.0</td>\n",
              "      <td>100.0</td>\n",
              "      <td>148094.0</td>\n",
              "      <td>100.0</td>\n",
              "      <td>153388.0</td>\n",
              "      <td>100.0</td>\n",
              "      <td>2009</td>\n",
              "    </tr>\n",
              "    <tr>\n",
              "      <th>6</th>\n",
              "      <td>Under 5 years</td>\n",
              "      <td>21187.0</td>\n",
              "      <td>7.0</td>\n",
              "      <td>10842.0</td>\n",
              "      <td>7.3</td>\n",
              "      <td>10345.0</td>\n",
              "      <td>6.7</td>\n",
              "      <td>2009</td>\n",
              "    </tr>\n",
              "    <tr>\n",
              "      <th>7</th>\n",
              "      <td>5 to 9 years</td>\n",
              "      <td>20245.0</td>\n",
              "      <td>6.7</td>\n",
              "      <td>10351.0</td>\n",
              "      <td>7.0</td>\n",
              "      <td>9894.0</td>\n",
              "      <td>6.5</td>\n",
              "      <td>2009</td>\n",
              "    </tr>\n",
              "    <tr>\n",
              "      <th>8</th>\n",
              "      <td>10 to 14 years</td>\n",
              "      <td>19907.0</td>\n",
              "      <td>6.6</td>\n",
              "      <td>10181.0</td>\n",
              "      <td>6.9</td>\n",
              "      <td>9726.0</td>\n",
              "      <td>6.3</td>\n",
              "      <td>2009</td>\n",
              "    </tr>\n",
              "    <tr>\n",
              "      <th>9</th>\n",
              "      <td>15 to 19 years</td>\n",
              "      <td>21227.0</td>\n",
              "      <td>7.0</td>\n",
              "      <td>10782.0</td>\n",
              "      <td>7.3</td>\n",
              "      <td>10445.0</td>\n",
              "      <td>6.8</td>\n",
              "      <td>2009</td>\n",
              "    </tr>\n",
              "    <tr>\n",
              "      <th>...</th>\n",
              "      <td>...</td>\n",
              "      <td>...</td>\n",
              "      <td>...</td>\n",
              "      <td>...</td>\n",
              "      <td>...</td>\n",
              "      <td>...</td>\n",
              "      <td>...</td>\n",
              "      <td>...</td>\n",
              "    </tr>\n",
              "    <tr>\n",
              "      <th>27</th>\n",
              "      <td>18 to 20 years</td>\n",
              "      <td>11851.0</td>\n",
              "      <td>3.7</td>\n",
              "      <td>5931.0</td>\n",
              "      <td>3.7</td>\n",
              "      <td>5920.0</td>\n",
              "      <td>3.6</td>\n",
              "      <td>2019</td>\n",
              "    </tr>\n",
              "    <tr>\n",
              "      <th>28</th>\n",
              "      <td>21 to 44 years</td>\n",
              "      <td>103469.0</td>\n",
              "      <td>31.9</td>\n",
              "      <td>51658.0</td>\n",
              "      <td>32.5</td>\n",
              "      <td>51811.0</td>\n",
              "      <td>31.3</td>\n",
              "      <td>2019</td>\n",
              "    </tr>\n",
              "    <tr>\n",
              "      <th>29</th>\n",
              "      <td>45 to 64 years</td>\n",
              "      <td>82455.0</td>\n",
              "      <td>25.4</td>\n",
              "      <td>39789.0</td>\n",
              "      <td>25.0</td>\n",
              "      <td>42666.0</td>\n",
              "      <td>25.8</td>\n",
              "      <td>2019</td>\n",
              "    </tr>\n",
              "    <tr>\n",
              "      <th>30</th>\n",
              "      <td>65 years and over</td>\n",
              "      <td>52788.0</td>\n",
              "      <td>16.3</td>\n",
              "      <td>23923.0</td>\n",
              "      <td>15.0</td>\n",
              "      <td>28865.0</td>\n",
              "      <td>17.5</td>\n",
              "      <td>2019</td>\n",
              "    </tr>\n",
              "    <tr>\n",
              "      <th>32</th>\n",
              "      <td>Median age</td>\n",
              "      <td>38.3</td>\n",
              "      <td>(NaN)</td>\n",
              "      <td>37.1</td>\n",
              "      <td>(NaN)</td>\n",
              "      <td>39.5</td>\n",
              "      <td>(NaN)</td>\n",
              "      <td>2019</td>\n",
              "    </tr>\n",
              "  </tbody>\n",
              "</table>\n",
              "<p>286 rows × 8 columns</p>\n",
              "</div>\n",
              "      <button class=\"colab-df-convert\" onclick=\"convertToInteractive('df-db14d9d5-996c-4124-b6b7-6e931352933c')\"\n",
              "              title=\"Convert this dataframe to an interactive table.\"\n",
              "              style=\"display:none;\">\n",
              "        \n",
              "  <svg xmlns=\"http://www.w3.org/2000/svg\" height=\"24px\"viewBox=\"0 0 24 24\"\n",
              "       width=\"24px\">\n",
              "    <path d=\"M0 0h24v24H0V0z\" fill=\"none\"/>\n",
              "    <path d=\"M18.56 5.44l.94 2.06.94-2.06 2.06-.94-2.06-.94-.94-2.06-.94 2.06-2.06.94zm-11 1L8.5 8.5l.94-2.06 2.06-.94-2.06-.94L8.5 2.5l-.94 2.06-2.06.94zm10 10l.94 2.06.94-2.06 2.06-.94-2.06-.94-.94-2.06-.94 2.06-2.06.94z\"/><path d=\"M17.41 7.96l-1.37-1.37c-.4-.4-.92-.59-1.43-.59-.52 0-1.04.2-1.43.59L10.3 9.45l-7.72 7.72c-.78.78-.78 2.05 0 2.83L4 21.41c.39.39.9.59 1.41.59.51 0 1.02-.2 1.41-.59l7.78-7.78 2.81-2.81c.8-.78.8-2.07 0-2.86zM5.41 20L4 18.59l7.72-7.72 1.47 1.35L5.41 20z\"/>\n",
              "  </svg>\n",
              "      </button>\n",
              "      \n",
              "  <style>\n",
              "    .colab-df-container {\n",
              "      display:flex;\n",
              "      flex-wrap:wrap;\n",
              "      gap: 12px;\n",
              "    }\n",
              "\n",
              "    .colab-df-convert {\n",
              "      background-color: #E8F0FE;\n",
              "      border: none;\n",
              "      border-radius: 50%;\n",
              "      cursor: pointer;\n",
              "      display: none;\n",
              "      fill: #1967D2;\n",
              "      height: 32px;\n",
              "      padding: 0 0 0 0;\n",
              "      width: 32px;\n",
              "    }\n",
              "\n",
              "    .colab-df-convert:hover {\n",
              "      background-color: #E2EBFA;\n",
              "      box-shadow: 0px 1px 2px rgba(60, 64, 67, 0.3), 0px 1px 3px 1px rgba(60, 64, 67, 0.15);\n",
              "      fill: #174EA6;\n",
              "    }\n",
              "\n",
              "    [theme=dark] .colab-df-convert {\n",
              "      background-color: #3B4455;\n",
              "      fill: #D2E3FC;\n",
              "    }\n",
              "\n",
              "    [theme=dark] .colab-df-convert:hover {\n",
              "      background-color: #434B5C;\n",
              "      box-shadow: 0px 1px 3px 1px rgba(0, 0, 0, 0.15);\n",
              "      filter: drop-shadow(0px 1px 2px rgba(0, 0, 0, 0.3));\n",
              "      fill: #FFFFFF;\n",
              "    }\n",
              "  </style>\n",
              "\n",
              "      <script>\n",
              "        const buttonEl =\n",
              "          document.querySelector('#df-db14d9d5-996c-4124-b6b7-6e931352933c button.colab-df-convert');\n",
              "        buttonEl.style.display =\n",
              "          google.colab.kernel.accessAllowed ? 'block' : 'none';\n",
              "\n",
              "        async function convertToInteractive(key) {\n",
              "          const element = document.querySelector('#df-db14d9d5-996c-4124-b6b7-6e931352933c');\n",
              "          const dataTable =\n",
              "            await google.colab.kernel.invokeFunction('convertToInteractive',\n",
              "                                                     [key], {});\n",
              "          if (!dataTable) return;\n",
              "\n",
              "          const docLinkHtml = 'Like what you see? Visit the ' +\n",
              "            '<a target=\"_blank\" href=https://colab.research.google.com/notebooks/data_table.ipynb>data table notebook</a>'\n",
              "            + ' to learn more about interactive tables.';\n",
              "          element.innerHTML = '';\n",
              "          dataTable['output_type'] = 'display_data';\n",
              "          await google.colab.output.renderOutput(dataTable, element);\n",
              "          const docLink = document.createElement('div');\n",
              "          docLink.innerHTML = docLinkHtml;\n",
              "          element.appendChild(docLink);\n",
              "        }\n",
              "      </script>\n",
              "    </div>\n",
              "  </div>\n",
              "  "
            ]
          },
          "metadata": {},
          "execution_count": 30
        }
      ]
    },
    {
      "cell_type": "code",
      "source": [
        "all_65_over = all_09_19[all_09_19['Age'] == '65 years and over']\n",
        "all_65_over"
      ],
      "metadata": {
        "colab": {
          "base_uri": "https://localhost:8080/",
          "height": 394
        },
        "id": "GwtEZ4LXBaXB",
        "outputId": "200f2382-414f-46a6-fdc2-72bb645d340a"
      },
      "execution_count": null,
      "outputs": [
        {
          "output_type": "execute_result",
          "data": {
            "text/plain": [
              "                  Age  Both_Sexes_No Both_Sexes_Perc.  Male_No Male_Perc.  \\\n",
              "30  65 years and over        37788.0             12.5  16308.0       11.0   \n",
              "30  65 years and over        38613.0             12.7  16793.0       11.2   \n",
              "30  65 years and over        39179.0             12.8  17081.0       11.3   \n",
              "30  65 years and over        41507.0             13.4  18332.0       12.1   \n",
              "30  65 years and over        43287.0             13.9  19298.0       12.7   \n",
              "30  65 years and over        44477.0             14.2  19731.0       12.8   \n",
              "30  65 years and over        45994.0             14.5  20439.0       13.2   \n",
              "30  65 years and over        47547.0             14.9  21209.0       13.6   \n",
              "30  65 years and over        49274.0             15.4  22160.0       14.1   \n",
              "30  65 years and over        51080.0             15.8  23059.0       14.6   \n",
              "30  65 years and over        52788.0             16.3  23923.0       15.0   \n",
              "\n",
              "     Fem_No Fem_Perc.  Year  \n",
              "30  21480.0      14.0  2009  \n",
              "30  21820.0      14.1  2010  \n",
              "30  22098.0      14.2  2011  \n",
              "30  23174.0      14.7  2012  \n",
              "30  23990.0      15.1  2013  \n",
              "30  24745.0      15.5  2014  \n",
              "30  25555.0      15.8  2015  \n",
              "30  26337.0      16.2  2016  \n",
              "30  27114.0      16.6  2017  \n",
              "30  28021.0      17.0  2018  \n",
              "30  28865.0      17.5  2019  "
            ],
            "text/html": [
              "\n",
              "  <div id=\"df-96f692bf-25c6-429a-be72-d6a0024d50c8\">\n",
              "    <div class=\"colab-df-container\">\n",
              "      <div>\n",
              "<style scoped>\n",
              "    .dataframe tbody tr th:only-of-type {\n",
              "        vertical-align: middle;\n",
              "    }\n",
              "\n",
              "    .dataframe tbody tr th {\n",
              "        vertical-align: top;\n",
              "    }\n",
              "\n",
              "    .dataframe thead th {\n",
              "        text-align: right;\n",
              "    }\n",
              "</style>\n",
              "<table border=\"1\" class=\"dataframe\">\n",
              "  <thead>\n",
              "    <tr style=\"text-align: right;\">\n",
              "      <th></th>\n",
              "      <th>Age</th>\n",
              "      <th>Both_Sexes_No</th>\n",
              "      <th>Both_Sexes_Perc.</th>\n",
              "      <th>Male_No</th>\n",
              "      <th>Male_Perc.</th>\n",
              "      <th>Fem_No</th>\n",
              "      <th>Fem_Perc.</th>\n",
              "      <th>Year</th>\n",
              "    </tr>\n",
              "  </thead>\n",
              "  <tbody>\n",
              "    <tr>\n",
              "      <th>30</th>\n",
              "      <td>65 years and over</td>\n",
              "      <td>37788.0</td>\n",
              "      <td>12.5</td>\n",
              "      <td>16308.0</td>\n",
              "      <td>11.0</td>\n",
              "      <td>21480.0</td>\n",
              "      <td>14.0</td>\n",
              "      <td>2009</td>\n",
              "    </tr>\n",
              "    <tr>\n",
              "      <th>30</th>\n",
              "      <td>65 years and over</td>\n",
              "      <td>38613.0</td>\n",
              "      <td>12.7</td>\n",
              "      <td>16793.0</td>\n",
              "      <td>11.2</td>\n",
              "      <td>21820.0</td>\n",
              "      <td>14.1</td>\n",
              "      <td>2010</td>\n",
              "    </tr>\n",
              "    <tr>\n",
              "      <th>30</th>\n",
              "      <td>65 years and over</td>\n",
              "      <td>39179.0</td>\n",
              "      <td>12.8</td>\n",
              "      <td>17081.0</td>\n",
              "      <td>11.3</td>\n",
              "      <td>22098.0</td>\n",
              "      <td>14.2</td>\n",
              "      <td>2011</td>\n",
              "    </tr>\n",
              "    <tr>\n",
              "      <th>30</th>\n",
              "      <td>65 years and over</td>\n",
              "      <td>41507.0</td>\n",
              "      <td>13.4</td>\n",
              "      <td>18332.0</td>\n",
              "      <td>12.1</td>\n",
              "      <td>23174.0</td>\n",
              "      <td>14.7</td>\n",
              "      <td>2012</td>\n",
              "    </tr>\n",
              "    <tr>\n",
              "      <th>30</th>\n",
              "      <td>65 years and over</td>\n",
              "      <td>43287.0</td>\n",
              "      <td>13.9</td>\n",
              "      <td>19298.0</td>\n",
              "      <td>12.7</td>\n",
              "      <td>23990.0</td>\n",
              "      <td>15.1</td>\n",
              "      <td>2013</td>\n",
              "    </tr>\n",
              "    <tr>\n",
              "      <th>30</th>\n",
              "      <td>65 years and over</td>\n",
              "      <td>44477.0</td>\n",
              "      <td>14.2</td>\n",
              "      <td>19731.0</td>\n",
              "      <td>12.8</td>\n",
              "      <td>24745.0</td>\n",
              "      <td>15.5</td>\n",
              "      <td>2014</td>\n",
              "    </tr>\n",
              "    <tr>\n",
              "      <th>30</th>\n",
              "      <td>65 years and over</td>\n",
              "      <td>45994.0</td>\n",
              "      <td>14.5</td>\n",
              "      <td>20439.0</td>\n",
              "      <td>13.2</td>\n",
              "      <td>25555.0</td>\n",
              "      <td>15.8</td>\n",
              "      <td>2015</td>\n",
              "    </tr>\n",
              "    <tr>\n",
              "      <th>30</th>\n",
              "      <td>65 years and over</td>\n",
              "      <td>47547.0</td>\n",
              "      <td>14.9</td>\n",
              "      <td>21209.0</td>\n",
              "      <td>13.6</td>\n",
              "      <td>26337.0</td>\n",
              "      <td>16.2</td>\n",
              "      <td>2016</td>\n",
              "    </tr>\n",
              "    <tr>\n",
              "      <th>30</th>\n",
              "      <td>65 years and over</td>\n",
              "      <td>49274.0</td>\n",
              "      <td>15.4</td>\n",
              "      <td>22160.0</td>\n",
              "      <td>14.1</td>\n",
              "      <td>27114.0</td>\n",
              "      <td>16.6</td>\n",
              "      <td>2017</td>\n",
              "    </tr>\n",
              "    <tr>\n",
              "      <th>30</th>\n",
              "      <td>65 years and over</td>\n",
              "      <td>51080.0</td>\n",
              "      <td>15.8</td>\n",
              "      <td>23059.0</td>\n",
              "      <td>14.6</td>\n",
              "      <td>28021.0</td>\n",
              "      <td>17.0</td>\n",
              "      <td>2018</td>\n",
              "    </tr>\n",
              "    <tr>\n",
              "      <th>30</th>\n",
              "      <td>65 years and over</td>\n",
              "      <td>52788.0</td>\n",
              "      <td>16.3</td>\n",
              "      <td>23923.0</td>\n",
              "      <td>15.0</td>\n",
              "      <td>28865.0</td>\n",
              "      <td>17.5</td>\n",
              "      <td>2019</td>\n",
              "    </tr>\n",
              "  </tbody>\n",
              "</table>\n",
              "</div>\n",
              "      <button class=\"colab-df-convert\" onclick=\"convertToInteractive('df-96f692bf-25c6-429a-be72-d6a0024d50c8')\"\n",
              "              title=\"Convert this dataframe to an interactive table.\"\n",
              "              style=\"display:none;\">\n",
              "        \n",
              "  <svg xmlns=\"http://www.w3.org/2000/svg\" height=\"24px\"viewBox=\"0 0 24 24\"\n",
              "       width=\"24px\">\n",
              "    <path d=\"M0 0h24v24H0V0z\" fill=\"none\"/>\n",
              "    <path d=\"M18.56 5.44l.94 2.06.94-2.06 2.06-.94-2.06-.94-.94-2.06-.94 2.06-2.06.94zm-11 1L8.5 8.5l.94-2.06 2.06-.94-2.06-.94L8.5 2.5l-.94 2.06-2.06.94zm10 10l.94 2.06.94-2.06 2.06-.94-2.06-.94-.94-2.06-.94 2.06-2.06.94z\"/><path d=\"M17.41 7.96l-1.37-1.37c-.4-.4-.92-.59-1.43-.59-.52 0-1.04.2-1.43.59L10.3 9.45l-7.72 7.72c-.78.78-.78 2.05 0 2.83L4 21.41c.39.39.9.59 1.41.59.51 0 1.02-.2 1.41-.59l7.78-7.78 2.81-2.81c.8-.78.8-2.07 0-2.86zM5.41 20L4 18.59l7.72-7.72 1.47 1.35L5.41 20z\"/>\n",
              "  </svg>\n",
              "      </button>\n",
              "      \n",
              "  <style>\n",
              "    .colab-df-container {\n",
              "      display:flex;\n",
              "      flex-wrap:wrap;\n",
              "      gap: 12px;\n",
              "    }\n",
              "\n",
              "    .colab-df-convert {\n",
              "      background-color: #E8F0FE;\n",
              "      border: none;\n",
              "      border-radius: 50%;\n",
              "      cursor: pointer;\n",
              "      display: none;\n",
              "      fill: #1967D2;\n",
              "      height: 32px;\n",
              "      padding: 0 0 0 0;\n",
              "      width: 32px;\n",
              "    }\n",
              "\n",
              "    .colab-df-convert:hover {\n",
              "      background-color: #E2EBFA;\n",
              "      box-shadow: 0px 1px 2px rgba(60, 64, 67, 0.3), 0px 1px 3px 1px rgba(60, 64, 67, 0.15);\n",
              "      fill: #174EA6;\n",
              "    }\n",
              "\n",
              "    [theme=dark] .colab-df-convert {\n",
              "      background-color: #3B4455;\n",
              "      fill: #D2E3FC;\n",
              "    }\n",
              "\n",
              "    [theme=dark] .colab-df-convert:hover {\n",
              "      background-color: #434B5C;\n",
              "      box-shadow: 0px 1px 3px 1px rgba(0, 0, 0, 0.15);\n",
              "      filter: drop-shadow(0px 1px 2px rgba(0, 0, 0, 0.3));\n",
              "      fill: #FFFFFF;\n",
              "    }\n",
              "  </style>\n",
              "\n",
              "      <script>\n",
              "        const buttonEl =\n",
              "          document.querySelector('#df-96f692bf-25c6-429a-be72-d6a0024d50c8 button.colab-df-convert');\n",
              "        buttonEl.style.display =\n",
              "          google.colab.kernel.accessAllowed ? 'block' : 'none';\n",
              "\n",
              "        async function convertToInteractive(key) {\n",
              "          const element = document.querySelector('#df-96f692bf-25c6-429a-be72-d6a0024d50c8');\n",
              "          const dataTable =\n",
              "            await google.colab.kernel.invokeFunction('convertToInteractive',\n",
              "                                                     [key], {});\n",
              "          if (!dataTable) return;\n",
              "\n",
              "          const docLinkHtml = 'Like what you see? Visit the ' +\n",
              "            '<a target=\"_blank\" href=https://colab.research.google.com/notebooks/data_table.ipynb>data table notebook</a>'\n",
              "            + ' to learn more about interactive tables.';\n",
              "          element.innerHTML = '';\n",
              "          dataTable['output_type'] = 'display_data';\n",
              "          await google.colab.output.renderOutput(dataTable, element);\n",
              "          const docLink = document.createElement('div');\n",
              "          docLink.innerHTML = docLinkHtml;\n",
              "          element.appendChild(docLink);\n",
              "        }\n",
              "      </script>\n",
              "    </div>\n",
              "  </div>\n",
              "  "
            ]
          },
          "metadata": {},
          "execution_count": 21
        }
      ]
    },
    {
      "cell_type": "code",
      "source": [
        "all_65_over.plot(kind='line', x='Year', y='Both_Sexes_Perc.')"
      ],
      "metadata": {
        "colab": {
          "base_uri": "https://localhost:8080/",
          "height": 312
        },
        "id": "n6zDu0t4E4gl",
        "outputId": "c5d84ff6-fee9-40fc-cad3-892715b75e4d"
      },
      "execution_count": null,
      "outputs": [
        {
          "output_type": "error",
          "ename": "TypeError",
          "evalue": "ignored",
          "traceback": [
            "\u001b[0;31m---------------------------------------------------------------------------\u001b[0m",
            "\u001b[0;31mTypeError\u001b[0m                                 Traceback (most recent call last)",
            "\u001b[0;32m<ipython-input-23-8bfcc3579693>\u001b[0m in \u001b[0;36m<module>\u001b[0;34m()\u001b[0m\n\u001b[0;32m----> 1\u001b[0;31m \u001b[0mall_65_over\u001b[0m\u001b[0;34m.\u001b[0m\u001b[0mplot\u001b[0m\u001b[0;34m(\u001b[0m\u001b[0mkind\u001b[0m\u001b[0;34m=\u001b[0m\u001b[0;34m'line'\u001b[0m\u001b[0;34m,\u001b[0m \u001b[0mx\u001b[0m\u001b[0;34m=\u001b[0m\u001b[0;34m'Year'\u001b[0m\u001b[0;34m,\u001b[0m \u001b[0my\u001b[0m\u001b[0;34m=\u001b[0m\u001b[0;34m'Both_Sexes_Perc.'\u001b[0m\u001b[0;34m)\u001b[0m\u001b[0;34m\u001b[0m\u001b[0;34m\u001b[0m\u001b[0m\n\u001b[0m",
            "\u001b[0;32m/usr/local/lib/python3.7/dist-packages/pandas/plotting/_core.py\u001b[0m in \u001b[0;36m__call__\u001b[0;34m(self, *args, **kwargs)\u001b[0m\n\u001b[1;32m    970\u001b[0m                     \u001b[0mdata\u001b[0m\u001b[0;34m.\u001b[0m\u001b[0mcolumns\u001b[0m \u001b[0;34m=\u001b[0m \u001b[0mlabel_name\u001b[0m\u001b[0;34m\u001b[0m\u001b[0;34m\u001b[0m\u001b[0m\n\u001b[1;32m    971\u001b[0m \u001b[0;34m\u001b[0m\u001b[0m\n\u001b[0;32m--> 972\u001b[0;31m         \u001b[0;32mreturn\u001b[0m \u001b[0mplot_backend\u001b[0m\u001b[0;34m.\u001b[0m\u001b[0mplot\u001b[0m\u001b[0;34m(\u001b[0m\u001b[0mdata\u001b[0m\u001b[0;34m,\u001b[0m \u001b[0mkind\u001b[0m\u001b[0;34m=\u001b[0m\u001b[0mkind\u001b[0m\u001b[0;34m,\u001b[0m \u001b[0;34m**\u001b[0m\u001b[0mkwargs\u001b[0m\u001b[0;34m)\u001b[0m\u001b[0;34m\u001b[0m\u001b[0;34m\u001b[0m\u001b[0m\n\u001b[0m\u001b[1;32m    973\u001b[0m \u001b[0;34m\u001b[0m\u001b[0m\n\u001b[1;32m    974\u001b[0m     \u001b[0m__call__\u001b[0m\u001b[0;34m.\u001b[0m\u001b[0m__doc__\u001b[0m \u001b[0;34m=\u001b[0m \u001b[0m__doc__\u001b[0m\u001b[0;34m\u001b[0m\u001b[0;34m\u001b[0m\u001b[0m\n",
            "\u001b[0;32m/usr/local/lib/python3.7/dist-packages/pandas/plotting/_matplotlib/__init__.py\u001b[0m in \u001b[0;36mplot\u001b[0;34m(data, kind, **kwargs)\u001b[0m\n\u001b[1;32m     69\u001b[0m             \u001b[0mkwargs\u001b[0m\u001b[0;34m[\u001b[0m\u001b[0;34m\"ax\"\u001b[0m\u001b[0;34m]\u001b[0m \u001b[0;34m=\u001b[0m \u001b[0mgetattr\u001b[0m\u001b[0;34m(\u001b[0m\u001b[0max\u001b[0m\u001b[0;34m,\u001b[0m \u001b[0;34m\"left_ax\"\u001b[0m\u001b[0;34m,\u001b[0m \u001b[0max\u001b[0m\u001b[0;34m)\u001b[0m\u001b[0;34m\u001b[0m\u001b[0;34m\u001b[0m\u001b[0m\n\u001b[1;32m     70\u001b[0m     \u001b[0mplot_obj\u001b[0m \u001b[0;34m=\u001b[0m \u001b[0mPLOT_CLASSES\u001b[0m\u001b[0;34m[\u001b[0m\u001b[0mkind\u001b[0m\u001b[0;34m]\u001b[0m\u001b[0;34m(\u001b[0m\u001b[0mdata\u001b[0m\u001b[0;34m,\u001b[0m \u001b[0;34m**\u001b[0m\u001b[0mkwargs\u001b[0m\u001b[0;34m)\u001b[0m\u001b[0;34m\u001b[0m\u001b[0;34m\u001b[0m\u001b[0m\n\u001b[0;32m---> 71\u001b[0;31m     \u001b[0mplot_obj\u001b[0m\u001b[0;34m.\u001b[0m\u001b[0mgenerate\u001b[0m\u001b[0;34m(\u001b[0m\u001b[0;34m)\u001b[0m\u001b[0;34m\u001b[0m\u001b[0;34m\u001b[0m\u001b[0m\n\u001b[0m\u001b[1;32m     72\u001b[0m     \u001b[0mplot_obj\u001b[0m\u001b[0;34m.\u001b[0m\u001b[0mdraw\u001b[0m\u001b[0;34m(\u001b[0m\u001b[0;34m)\u001b[0m\u001b[0;34m\u001b[0m\u001b[0;34m\u001b[0m\u001b[0m\n\u001b[1;32m     73\u001b[0m     \u001b[0;32mreturn\u001b[0m \u001b[0mplot_obj\u001b[0m\u001b[0;34m.\u001b[0m\u001b[0mresult\u001b[0m\u001b[0;34m\u001b[0m\u001b[0;34m\u001b[0m\u001b[0m\n",
            "\u001b[0;32m/usr/local/lib/python3.7/dist-packages/pandas/plotting/_matplotlib/core.py\u001b[0m in \u001b[0;36mgenerate\u001b[0;34m(self)\u001b[0m\n\u001b[1;32m    284\u001b[0m     \u001b[0;32mdef\u001b[0m \u001b[0mgenerate\u001b[0m\u001b[0;34m(\u001b[0m\u001b[0mself\u001b[0m\u001b[0;34m)\u001b[0m\u001b[0;34m:\u001b[0m\u001b[0;34m\u001b[0m\u001b[0;34m\u001b[0m\u001b[0m\n\u001b[1;32m    285\u001b[0m         \u001b[0mself\u001b[0m\u001b[0;34m.\u001b[0m\u001b[0m_args_adjust\u001b[0m\u001b[0;34m(\u001b[0m\u001b[0;34m)\u001b[0m\u001b[0;34m\u001b[0m\u001b[0;34m\u001b[0m\u001b[0m\n\u001b[0;32m--> 286\u001b[0;31m         \u001b[0mself\u001b[0m\u001b[0;34m.\u001b[0m\u001b[0m_compute_plot_data\u001b[0m\u001b[0;34m(\u001b[0m\u001b[0;34m)\u001b[0m\u001b[0;34m\u001b[0m\u001b[0;34m\u001b[0m\u001b[0m\n\u001b[0m\u001b[1;32m    287\u001b[0m         \u001b[0mself\u001b[0m\u001b[0;34m.\u001b[0m\u001b[0m_setup_subplots\u001b[0m\u001b[0;34m(\u001b[0m\u001b[0;34m)\u001b[0m\u001b[0;34m\u001b[0m\u001b[0;34m\u001b[0m\u001b[0m\n\u001b[1;32m    288\u001b[0m         \u001b[0mself\u001b[0m\u001b[0;34m.\u001b[0m\u001b[0m_make_plot\u001b[0m\u001b[0;34m(\u001b[0m\u001b[0;34m)\u001b[0m\u001b[0;34m\u001b[0m\u001b[0;34m\u001b[0m\u001b[0m\n",
            "\u001b[0;32m/usr/local/lib/python3.7/dist-packages/pandas/plotting/_matplotlib/core.py\u001b[0m in \u001b[0;36m_compute_plot_data\u001b[0;34m(self)\u001b[0m\n\u001b[1;32m    451\u001b[0m         \u001b[0;31m# no non-numeric frames or series allowed\u001b[0m\u001b[0;34m\u001b[0m\u001b[0;34m\u001b[0m\u001b[0;34m\u001b[0m\u001b[0m\n\u001b[1;32m    452\u001b[0m         \u001b[0;32mif\u001b[0m \u001b[0mis_empty\u001b[0m\u001b[0;34m:\u001b[0m\u001b[0;34m\u001b[0m\u001b[0;34m\u001b[0m\u001b[0m\n\u001b[0;32m--> 453\u001b[0;31m             \u001b[0;32mraise\u001b[0m \u001b[0mTypeError\u001b[0m\u001b[0;34m(\u001b[0m\u001b[0;34m\"no numeric data to plot\"\u001b[0m\u001b[0;34m)\u001b[0m\u001b[0;34m\u001b[0m\u001b[0;34m\u001b[0m\u001b[0m\n\u001b[0m\u001b[1;32m    454\u001b[0m \u001b[0;34m\u001b[0m\u001b[0m\n\u001b[1;32m    455\u001b[0m         \u001b[0mself\u001b[0m\u001b[0;34m.\u001b[0m\u001b[0mdata\u001b[0m \u001b[0;34m=\u001b[0m \u001b[0mnumeric_data\u001b[0m\u001b[0;34m.\u001b[0m\u001b[0mapply\u001b[0m\u001b[0;34m(\u001b[0m\u001b[0mself\u001b[0m\u001b[0;34m.\u001b[0m\u001b[0m_convert_to_ndarray\u001b[0m\u001b[0;34m)\u001b[0m\u001b[0;34m\u001b[0m\u001b[0;34m\u001b[0m\u001b[0m\n",
            "\u001b[0;31mTypeError\u001b[0m: no numeric data to plot"
          ]
        }
      ]
    },
    {
      "cell_type": "code",
      "source": [
        "all_65_over['Both_Sexes_Perc.'].iloc[5]"
      ],
      "metadata": {
        "colab": {
          "base_uri": "https://localhost:8080/",
          "height": 35
        },
        "id": "LCFc8RKhKXsl",
        "outputId": "6a0bbf7b-1503-460f-9dab-fac0394d94f5"
      },
      "execution_count": null,
      "outputs": [
        {
          "output_type": "execute_result",
          "data": {
            "text/plain": [
              "'14.2'"
            ],
            "application/vnd.google.colaboratory.intrinsic+json": {
              "type": "string"
            }
          },
          "metadata": {},
          "execution_count": 32
        }
      ]
    },
    {
      "cell_type": "code",
      "source": [
        ""
      ],
      "metadata": {
        "id": "vJJoSrByOYlv"
      },
      "execution_count": null,
      "outputs": []
    }
  ]
}