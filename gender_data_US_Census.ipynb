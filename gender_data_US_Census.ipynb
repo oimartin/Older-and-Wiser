{
  "nbformat": 4,
  "nbformat_minor": 0,
  "metadata": {
    "colab": {
      "name": "gender_data_US_Census",
      "provenance": [],
      "authorship_tag": "ABX9TyMwmIlEPgfhy6mXxonnWzOf",
      "include_colab_link": true
    },
    "kernelspec": {
      "name": "python3",
      "display_name": "Python 3"
    },
    "language_info": {
      "name": "python"
    }
  },
  "cells": [
    {
      "cell_type": "markdown",
      "metadata": {
        "id": "view-in-github",
        "colab_type": "text"
      },
      "source": [
        "<a href=\"https://colab.research.google.com/github/oimartin/Older-and-Wiser/blob/working_b/gender_data_US_Census.ipynb\" target=\"_parent\"><img src=\"https://colab.research.google.com/assets/colab-badge.svg\" alt=\"Open In Colab\"/></a>"
      ]
    },
    {
      "cell_type": "markdown",
      "source": [
        "Comparing different population groups population over 10 years: 2009 - 2019\n",
        "<br>\n",
        "<br>\n",
        "Source: U.S. Census Bureau, Current Population Survey, Annual Social and Economic Supplement, 2009\n",
        "<br>\n",
        "<br>\n",
        "NOTE: The 2014 CPS ASEC included redesigned questions for income and health insurance coverage"
      ],
      "metadata": {
        "id": "xvpKMfRZ3EXy"
      }
    },
    {
      "cell_type": "markdown",
      "source": [
        "# Digest Data"
      ],
      "metadata": {
        "id": "Q29gidMN8Rgu"
      }
    },
    {
      "cell_type": "code",
      "execution_count": 1,
      "metadata": {
        "id": "5Pq6NcJUpGXf"
      },
      "outputs": [],
      "source": [
        "# import dependencies\n",
        "import pandas as pd\n",
        "import plotly.graph_objects as go\n",
        "import plotly.express as px\n",
        "import plotly.figure_factory as ff\n",
        "from plotly.subplots import make_subplots\n",
        "import plotly.io as pio\n",
        "import seaborn as sns"
      ]
    },
    {
      "cell_type": "code",
      "source": [
        "# import data from github\n",
        "# data originally as xlsx Excel file, but converted to csv to be hosted in github\n",
        "yr2009 = pd.read_csv('https://raw.githubusercontent.com/oimartin/Older-and-Wiser/main/data/2009gender_table1.csv')\n",
        "yr2010 = pd.read_csv('https://raw.githubusercontent.com/oimartin/Older-and-Wiser/main/data/2010gender_table1.csv')\n",
        "yr2011 = pd.read_csv('https://raw.githubusercontent.com/oimartin/Older-and-Wiser/main/data/2011gender_table1.csv')\n",
        "yr2012 = pd.read_csv('https://raw.githubusercontent.com/oimartin/Older-and-Wiser/main/data/2012gender_table1.csv')\n",
        "yr2013 = pd.read_csv('https://raw.githubusercontent.com/oimartin/Older-and-Wiser/main/data/2013gender_table1.csv')\n",
        "yr2014 = pd.read_csv('https://raw.githubusercontent.com/oimartin/Older-and-Wiser/main/data/2014gender_table1.csv')\n",
        "yr2015 = pd.read_csv('https://raw.githubusercontent.com/oimartin/Older-and-Wiser/main/data/2015gender_table1.csv')\n",
        "yr2016 = pd.read_csv('https://raw.githubusercontent.com/oimartin/Older-and-Wiser/main/data/2016gender_table1.csv')\n",
        "yr2017 = pd.read_csv('https://raw.githubusercontent.com/oimartin/Older-and-Wiser/main/data/2017gender_table1.csv')\n",
        "yr2018 = pd.read_csv('https://raw.githubusercontent.com/oimartin/Older-and-Wiser/main/data/2018gender_table1.csv')\n",
        "yr2019 = pd.read_csv('https://raw.githubusercontent.com/oimartin/Older-and-Wiser/main/data/2019gender_table1.csv')"
      ],
      "metadata": {
        "id": "TmHcY2FbpPio"
      },
      "execution_count": 2,
      "outputs": []
    },
    {
      "cell_type": "code",
      "source": [
        "original_yr2009 = yr2009\n",
        "original_yr2014 = yr2014"
      ],
      "metadata": {
        "id": "vpyqzIZT34o9"
      },
      "execution_count": 3,
      "outputs": []
    },
    {
      "cell_type": "code",
      "source": [
        "years = [yr2009, yr2010, yr2011, yr2012, yr2013, yr2014,\n",
        "         yr2015, yr2016, yr2017, yr2018, yr2019]\n",
        "\n",
        "yrs = ['2009', '2010', '2011', '2012', '2013', '2014',\n",
        "       '2015', '2016', '2017', '2018', '2019']\n",
        "for year in years:\n",
        "  display(year.shape)"
      ],
      "metadata": {
        "colab": {
          "base_uri": "https://localhost:8080/",
          "height": 208
        },
        "id": "ouCrfN_Mp4kr",
        "outputId": "a01665ba-1e2e-4c12-9ca0-0bda9b1a2908"
      },
      "execution_count": 6,
      "outputs": [
        {
          "output_type": "display_data",
          "data": {
            "text/plain": [
              "(40, 8)"
            ]
          },
          "metadata": {}
        },
        {
          "output_type": "display_data",
          "data": {
            "text/plain": [
              "(40, 8)"
            ]
          },
          "metadata": {}
        },
        {
          "output_type": "display_data",
          "data": {
            "text/plain": [
              "(39, 8)"
            ]
          },
          "metadata": {}
        },
        {
          "output_type": "display_data",
          "data": {
            "text/plain": [
              "(39, 8)"
            ]
          },
          "metadata": {}
        },
        {
          "output_type": "display_data",
          "data": {
            "text/plain": [
              "(41, 8)"
            ]
          },
          "metadata": {}
        },
        {
          "output_type": "display_data",
          "data": {
            "text/plain": [
              "(49, 8)"
            ]
          },
          "metadata": {}
        },
        {
          "output_type": "display_data",
          "data": {
            "text/plain": [
              "(39, 8)"
            ]
          },
          "metadata": {}
        },
        {
          "output_type": "display_data",
          "data": {
            "text/plain": [
              "(41, 8)"
            ]
          },
          "metadata": {}
        },
        {
          "output_type": "display_data",
          "data": {
            "text/plain": [
              "(41, 8)"
            ]
          },
          "metadata": {}
        },
        {
          "output_type": "display_data",
          "data": {
            "text/plain": [
              "(41, 8)"
            ]
          },
          "metadata": {}
        },
        {
          "output_type": "display_data",
          "data": {
            "text/plain": [
              "(42, 8)"
            ]
          },
          "metadata": {}
        }
      ]
    },
    {
      "cell_type": "code",
      "source": [
        "for year in range(0,11):\n",
        "  years[year].drop(columns=['Unnamed: 7'], inplace=True)\n",
        "  years[year][yrs[year]] = yrs[year]\n",
        "  years[year].rename(columns={years[year].columns[0]:'Age',\n",
        "                              years[year].columns[1]:'Both_Sexes_No',\n",
        "                              years[year].columns[2]:'Both_Sexes_Perc.',\n",
        "                              years[year].columns[3]:'Male_No',\n",
        "                              years[year].columns[4]:'Male_Perc.',\n",
        "                              years[year].columns[5]:'Fem_No',\n",
        "                              years[year].columns[6]:'Fem_Perc.',\n",
        "                              years[year].columns[7]:'Year'}, inplace=True)\n",
        "  years[year].dropna(axis=0, inplace=True)"
      ],
      "metadata": {
        "id": "-6fg0C8up6wZ"
      },
      "execution_count": 7,
      "outputs": []
    },
    {
      "cell_type": "code",
      "source": [
        "for year in years:\n",
        "  display(year.shape)"
      ],
      "metadata": {
        "colab": {
          "base_uri": "https://localhost:8080/",
          "height": 208
        },
        "id": "04Xm5Gkv7_tw",
        "outputId": "51976d23-b285-4e9a-ace0-3d14a54652e3"
      },
      "execution_count": 8,
      "outputs": [
        {
          "output_type": "display_data",
          "data": {
            "text/plain": [
              "(26, 8)"
            ]
          },
          "metadata": {}
        },
        {
          "output_type": "display_data",
          "data": {
            "text/plain": [
              "(26, 8)"
            ]
          },
          "metadata": {}
        },
        {
          "output_type": "display_data",
          "data": {
            "text/plain": [
              "(26, 8)"
            ]
          },
          "metadata": {}
        },
        {
          "output_type": "display_data",
          "data": {
            "text/plain": [
              "(26, 8)"
            ]
          },
          "metadata": {}
        },
        {
          "output_type": "display_data",
          "data": {
            "text/plain": [
              "(26, 8)"
            ]
          },
          "metadata": {}
        },
        {
          "output_type": "display_data",
          "data": {
            "text/plain": [
              "(26, 8)"
            ]
          },
          "metadata": {}
        },
        {
          "output_type": "display_data",
          "data": {
            "text/plain": [
              "(26, 8)"
            ]
          },
          "metadata": {}
        },
        {
          "output_type": "display_data",
          "data": {
            "text/plain": [
              "(26, 8)"
            ]
          },
          "metadata": {}
        },
        {
          "output_type": "display_data",
          "data": {
            "text/plain": [
              "(26, 8)"
            ]
          },
          "metadata": {}
        },
        {
          "output_type": "display_data",
          "data": {
            "text/plain": [
              "(26, 8)"
            ]
          },
          "metadata": {}
        },
        {
          "output_type": "display_data",
          "data": {
            "text/plain": [
              "(26, 8)"
            ]
          },
          "metadata": {}
        }
      ]
    },
    {
      "cell_type": "markdown",
      "source": [
        "## Sepearte out Median Age from other Ages"
      ],
      "metadata": {
        "id": "BJ2b2Nmb8VkH"
      }
    },
    {
      "cell_type": "code",
      "source": [
        "all_09_19 = pd.concat(years)\n",
        "all_09_19['Age'] = all_09_19['Age'].str.lstrip()\n",
        "all_09_19['Age'] = all_09_19['Age'].str.lstrip('.')\n",
        "all_09_19 = all_09_19.replace(',', '', regex=True)"
      ],
      "metadata": {
        "id": "2OA7gbzI-X6v"
      },
      "execution_count": 9,
      "outputs": []
    },
    {
      "cell_type": "code",
      "source": [
        "all_09_19.loc[(all_09_19['Age'] >= '45 to 64 years') | (all_09_19['Age'] <= '21 to 44 years')]"
      ],
      "metadata": {
        "id": "EoEYDWH6GnFW",
        "outputId": "fcf31844-2a89-421b-cf56-549dbb1ff4e9",
        "colab": {
          "base_uri": "https://localhost:8080/",
          "height": 423
        }
      },
      "execution_count": 42,
      "outputs": [
        {
          "output_type": "execute_result",
          "data": {
            "text/plain": [
              "                  Age  Both_Sexes_No  Both_Sexes_Perc.  Male_No  Male_Perc.  \\\n",
              "6       Under 5 years        21187.0               7.0  10842.0         7.3   \n",
              "7        5 to 9 years        20245.0               6.7  10351.0         7.0   \n",
              "8      10 to 14 years        19907.0               6.6  10181.0         6.9   \n",
              "9      15 to 19 years        21227.0               7.0  10782.0         7.3   \n",
              "10     20 to 24 years        20632.0               6.8  10420.0         7.0   \n",
              "..                ...            ...               ...      ...         ...   \n",
              "26     15 to 17 years        13018.0               4.0   6656.0         4.2   \n",
              "27     18 to 20 years        11851.0               3.7   5931.0         3.7   \n",
              "28     21 to 44 years       103469.0              31.9  51658.0        32.5   \n",
              "29     45 to 64 years        82455.0              25.4  39789.0        25.0   \n",
              "30  65 years and over        52788.0              16.3  23923.0        15.0   \n",
              "\n",
              "     Fem_No  Fem_Perc.  Year  \n",
              "6   10345.0        6.7  2009  \n",
              "7    9894.0        6.5  2009  \n",
              "8    9726.0        6.3  2009  \n",
              "9   10445.0        6.8  2009  \n",
              "10  10212.0        6.7  2009  \n",
              "..      ...        ...   ...  \n",
              "26   6363.0        3.8  2019  \n",
              "27   5920.0        3.6  2019  \n",
              "28  51811.0       31.3  2019  \n",
              "29  42666.0       25.8  2019  \n",
              "30  28865.0       17.5  2019  \n",
              "\n",
              "[209 rows x 8 columns]"
            ],
            "text/html": [
              "\n",
              "  <div id=\"df-c422e16b-a9af-42e1-a48c-60b17652474b\">\n",
              "    <div class=\"colab-df-container\">\n",
              "      <div>\n",
              "<style scoped>\n",
              "    .dataframe tbody tr th:only-of-type {\n",
              "        vertical-align: middle;\n",
              "    }\n",
              "\n",
              "    .dataframe tbody tr th {\n",
              "        vertical-align: top;\n",
              "    }\n",
              "\n",
              "    .dataframe thead th {\n",
              "        text-align: right;\n",
              "    }\n",
              "</style>\n",
              "<table border=\"1\" class=\"dataframe\">\n",
              "  <thead>\n",
              "    <tr style=\"text-align: right;\">\n",
              "      <th></th>\n",
              "      <th>Age</th>\n",
              "      <th>Both_Sexes_No</th>\n",
              "      <th>Both_Sexes_Perc.</th>\n",
              "      <th>Male_No</th>\n",
              "      <th>Male_Perc.</th>\n",
              "      <th>Fem_No</th>\n",
              "      <th>Fem_Perc.</th>\n",
              "      <th>Year</th>\n",
              "    </tr>\n",
              "  </thead>\n",
              "  <tbody>\n",
              "    <tr>\n",
              "      <th>6</th>\n",
              "      <td>Under 5 years</td>\n",
              "      <td>21187.0</td>\n",
              "      <td>7.0</td>\n",
              "      <td>10842.0</td>\n",
              "      <td>7.3</td>\n",
              "      <td>10345.0</td>\n",
              "      <td>6.7</td>\n",
              "      <td>2009</td>\n",
              "    </tr>\n",
              "    <tr>\n",
              "      <th>7</th>\n",
              "      <td>5 to 9 years</td>\n",
              "      <td>20245.0</td>\n",
              "      <td>6.7</td>\n",
              "      <td>10351.0</td>\n",
              "      <td>7.0</td>\n",
              "      <td>9894.0</td>\n",
              "      <td>6.5</td>\n",
              "      <td>2009</td>\n",
              "    </tr>\n",
              "    <tr>\n",
              "      <th>8</th>\n",
              "      <td>10 to 14 years</td>\n",
              "      <td>19907.0</td>\n",
              "      <td>6.6</td>\n",
              "      <td>10181.0</td>\n",
              "      <td>6.9</td>\n",
              "      <td>9726.0</td>\n",
              "      <td>6.3</td>\n",
              "      <td>2009</td>\n",
              "    </tr>\n",
              "    <tr>\n",
              "      <th>9</th>\n",
              "      <td>15 to 19 years</td>\n",
              "      <td>21227.0</td>\n",
              "      <td>7.0</td>\n",
              "      <td>10782.0</td>\n",
              "      <td>7.3</td>\n",
              "      <td>10445.0</td>\n",
              "      <td>6.8</td>\n",
              "      <td>2009</td>\n",
              "    </tr>\n",
              "    <tr>\n",
              "      <th>10</th>\n",
              "      <td>20 to 24 years</td>\n",
              "      <td>20632.0</td>\n",
              "      <td>6.8</td>\n",
              "      <td>10420.0</td>\n",
              "      <td>7.0</td>\n",
              "      <td>10212.0</td>\n",
              "      <td>6.7</td>\n",
              "      <td>2009</td>\n",
              "    </tr>\n",
              "    <tr>\n",
              "      <th>...</th>\n",
              "      <td>...</td>\n",
              "      <td>...</td>\n",
              "      <td>...</td>\n",
              "      <td>...</td>\n",
              "      <td>...</td>\n",
              "      <td>...</td>\n",
              "      <td>...</td>\n",
              "      <td>...</td>\n",
              "    </tr>\n",
              "    <tr>\n",
              "      <th>26</th>\n",
              "      <td>15 to 17 years</td>\n",
              "      <td>13018.0</td>\n",
              "      <td>4.0</td>\n",
              "      <td>6656.0</td>\n",
              "      <td>4.2</td>\n",
              "      <td>6363.0</td>\n",
              "      <td>3.8</td>\n",
              "      <td>2019</td>\n",
              "    </tr>\n",
              "    <tr>\n",
              "      <th>27</th>\n",
              "      <td>18 to 20 years</td>\n",
              "      <td>11851.0</td>\n",
              "      <td>3.7</td>\n",
              "      <td>5931.0</td>\n",
              "      <td>3.7</td>\n",
              "      <td>5920.0</td>\n",
              "      <td>3.6</td>\n",
              "      <td>2019</td>\n",
              "    </tr>\n",
              "    <tr>\n",
              "      <th>28</th>\n",
              "      <td>21 to 44 years</td>\n",
              "      <td>103469.0</td>\n",
              "      <td>31.9</td>\n",
              "      <td>51658.0</td>\n",
              "      <td>32.5</td>\n",
              "      <td>51811.0</td>\n",
              "      <td>31.3</td>\n",
              "      <td>2019</td>\n",
              "    </tr>\n",
              "    <tr>\n",
              "      <th>29</th>\n",
              "      <td>45 to 64 years</td>\n",
              "      <td>82455.0</td>\n",
              "      <td>25.4</td>\n",
              "      <td>39789.0</td>\n",
              "      <td>25.0</td>\n",
              "      <td>42666.0</td>\n",
              "      <td>25.8</td>\n",
              "      <td>2019</td>\n",
              "    </tr>\n",
              "    <tr>\n",
              "      <th>30</th>\n",
              "      <td>65 years and over</td>\n",
              "      <td>52788.0</td>\n",
              "      <td>16.3</td>\n",
              "      <td>23923.0</td>\n",
              "      <td>15.0</td>\n",
              "      <td>28865.0</td>\n",
              "      <td>17.5</td>\n",
              "      <td>2019</td>\n",
              "    </tr>\n",
              "  </tbody>\n",
              "</table>\n",
              "<p>209 rows × 8 columns</p>\n",
              "</div>\n",
              "      <button class=\"colab-df-convert\" onclick=\"convertToInteractive('df-c422e16b-a9af-42e1-a48c-60b17652474b')\"\n",
              "              title=\"Convert this dataframe to an interactive table.\"\n",
              "              style=\"display:none;\">\n",
              "        \n",
              "  <svg xmlns=\"http://www.w3.org/2000/svg\" height=\"24px\"viewBox=\"0 0 24 24\"\n",
              "       width=\"24px\">\n",
              "    <path d=\"M0 0h24v24H0V0z\" fill=\"none\"/>\n",
              "    <path d=\"M18.56 5.44l.94 2.06.94-2.06 2.06-.94-2.06-.94-.94-2.06-.94 2.06-2.06.94zm-11 1L8.5 8.5l.94-2.06 2.06-.94-2.06-.94L8.5 2.5l-.94 2.06-2.06.94zm10 10l.94 2.06.94-2.06 2.06-.94-2.06-.94-.94-2.06-.94 2.06-2.06.94z\"/><path d=\"M17.41 7.96l-1.37-1.37c-.4-.4-.92-.59-1.43-.59-.52 0-1.04.2-1.43.59L10.3 9.45l-7.72 7.72c-.78.78-.78 2.05 0 2.83L4 21.41c.39.39.9.59 1.41.59.51 0 1.02-.2 1.41-.59l7.78-7.78 2.81-2.81c.8-.78.8-2.07 0-2.86zM5.41 20L4 18.59l7.72-7.72 1.47 1.35L5.41 20z\"/>\n",
              "  </svg>\n",
              "      </button>\n",
              "      \n",
              "  <style>\n",
              "    .colab-df-container {\n",
              "      display:flex;\n",
              "      flex-wrap:wrap;\n",
              "      gap: 12px;\n",
              "    }\n",
              "\n",
              "    .colab-df-convert {\n",
              "      background-color: #E8F0FE;\n",
              "      border: none;\n",
              "      border-radius: 50%;\n",
              "      cursor: pointer;\n",
              "      display: none;\n",
              "      fill: #1967D2;\n",
              "      height: 32px;\n",
              "      padding: 0 0 0 0;\n",
              "      width: 32px;\n",
              "    }\n",
              "\n",
              "    .colab-df-convert:hover {\n",
              "      background-color: #E2EBFA;\n",
              "      box-shadow: 0px 1px 2px rgba(60, 64, 67, 0.3), 0px 1px 3px 1px rgba(60, 64, 67, 0.15);\n",
              "      fill: #174EA6;\n",
              "    }\n",
              "\n",
              "    [theme=dark] .colab-df-convert {\n",
              "      background-color: #3B4455;\n",
              "      fill: #D2E3FC;\n",
              "    }\n",
              "\n",
              "    [theme=dark] .colab-df-convert:hover {\n",
              "      background-color: #434B5C;\n",
              "      box-shadow: 0px 1px 3px 1px rgba(0, 0, 0, 0.15);\n",
              "      filter: drop-shadow(0px 1px 2px rgba(0, 0, 0, 0.3));\n",
              "      fill: #FFFFFF;\n",
              "    }\n",
              "  </style>\n",
              "\n",
              "      <script>\n",
              "        const buttonEl =\n",
              "          document.querySelector('#df-c422e16b-a9af-42e1-a48c-60b17652474b button.colab-df-convert');\n",
              "        buttonEl.style.display =\n",
              "          google.colab.kernel.accessAllowed ? 'block' : 'none';\n",
              "\n",
              "        async function convertToInteractive(key) {\n",
              "          const element = document.querySelector('#df-c422e16b-a9af-42e1-a48c-60b17652474b');\n",
              "          const dataTable =\n",
              "            await google.colab.kernel.invokeFunction('convertToInteractive',\n",
              "                                                     [key], {});\n",
              "          if (!dataTable) return;\n",
              "\n",
              "          const docLinkHtml = 'Like what you see? Visit the ' +\n",
              "            '<a target=\"_blank\" href=https://colab.research.google.com/notebooks/data_table.ipynb>data table notebook</a>'\n",
              "            + ' to learn more about interactive tables.';\n",
              "          element.innerHTML = '';\n",
              "          dataTable['output_type'] = 'display_data';\n",
              "          await google.colab.output.renderOutput(dataTable, element);\n",
              "          const docLink = document.createElement('div');\n",
              "          docLink.innerHTML = docLinkHtml;\n",
              "          element.appendChild(docLink);\n",
              "        }\n",
              "      </script>\n",
              "    </div>\n",
              "  </div>\n",
              "  "
            ]
          },
          "metadata": {},
          "execution_count": 42
        }
      ]
    },
    {
      "cell_type": "code",
      "source": [
        "all_09_19['Age'].value_counts()"
      ],
      "metadata": {
        "id": "ukvFYdnhGtww",
        "outputId": "69f51bb6-2ef7-4555-9c29-b54cff822d61",
        "colab": {
          "base_uri": "https://localhost:8080/"
        }
      },
      "execution_count": 24,
      "outputs": [
        {
          "output_type": "execute_result",
          "data": {
            "text/plain": [
              "Under 5 years        11\n",
              "5 to 9 years         11\n",
              "45 to 64 years       11\n",
              "21 to 44 years       11\n",
              "18 to 20 years       11\n",
              "15 to 17 years       11\n",
              "Under 15 years       11\n",
              "85 years and over    11\n",
              "80 to 84 years       11\n",
              "75 to 79 years       11\n",
              "70 to 74 years       11\n",
              "65 to 69 years       11\n",
              "60 to 64 years       11\n",
              "55 to 59 years       11\n",
              "50 to 54 years       11\n",
              "45 to 49 years       11\n",
              "40 to 44 years       11\n",
              "35 to 39 years       11\n",
              "30 to 34 years       11\n",
              "25 to 29 years       11\n",
              "20 to 24 years       11\n",
              "15 to 19 years       11\n",
              "10 to 14 years       11\n",
              "65 years and over    11\n",
              "Name: Age, dtype: int64"
            ]
          },
          "metadata": {},
          "execution_count": 24
        }
      ]
    },
    {
      "cell_type": "code",
      "source": [
        "all_ages = all_09_19[all_09_19['Age'] == 'All ages']\n",
        "all_ages"
      ],
      "metadata": {
        "id": "SypApev7E0ly",
        "outputId": "b4d660e6-5010-48c9-a9c5-39b7a80a07a9",
        "colab": {
          "base_uri": "https://localhost:8080/",
          "height": 394
        }
      },
      "execution_count": 10,
      "outputs": [
        {
          "output_type": "execute_result",
          "data": {
            "text/plain": [
              "        Age Both_Sexes_No Both_Sexes_Perc. Male_No Male_Perc.  Fem_No  \\\n",
              "5  All ages        301483            100.0  148094      100.0  153388   \n",
              "5  All ages        304280            100.0  149485      100.0  154795   \n",
              "5  All ages        306110            100.0  150643      100.0  155466   \n",
              "5  All ages        308827            100.0  151175      100.0  157653   \n",
              "5  All ages        311116            100.0  152335      100.0  158781   \n",
              "5  All ages        313401            100.0  153595      100.0  159806   \n",
              "5  All ages        316168            100.0  154815      100.0  161353   \n",
              "5  All ages        318868            100.0  156205      100.0  162664   \n",
              "5  All ages        320372            100.0  156939      100.0  163433   \n",
              "5  All ages        323156            100.0  158426      100.0  164730   \n",
              "5  All ages        324356            100.0  159028      100.0  165328   \n",
              "\n",
              "  Fem_Perc.  Year  \n",
              "5     100.0  2009  \n",
              "5     100.0  2010  \n",
              "5     100.0  2011  \n",
              "5     100.0  2012  \n",
              "5     100.0  2013  \n",
              "5     100.0  2014  \n",
              "5     100.0  2015  \n",
              "5     100.0  2016  \n",
              "5     100.0  2017  \n",
              "5     100.0  2018  \n",
              "5     100.0  2019  "
            ],
            "text/html": [
              "\n",
              "  <div id=\"df-c7c981bb-6007-4b69-81ff-100a1e45920f\">\n",
              "    <div class=\"colab-df-container\">\n",
              "      <div>\n",
              "<style scoped>\n",
              "    .dataframe tbody tr th:only-of-type {\n",
              "        vertical-align: middle;\n",
              "    }\n",
              "\n",
              "    .dataframe tbody tr th {\n",
              "        vertical-align: top;\n",
              "    }\n",
              "\n",
              "    .dataframe thead th {\n",
              "        text-align: right;\n",
              "    }\n",
              "</style>\n",
              "<table border=\"1\" class=\"dataframe\">\n",
              "  <thead>\n",
              "    <tr style=\"text-align: right;\">\n",
              "      <th></th>\n",
              "      <th>Age</th>\n",
              "      <th>Both_Sexes_No</th>\n",
              "      <th>Both_Sexes_Perc.</th>\n",
              "      <th>Male_No</th>\n",
              "      <th>Male_Perc.</th>\n",
              "      <th>Fem_No</th>\n",
              "      <th>Fem_Perc.</th>\n",
              "      <th>Year</th>\n",
              "    </tr>\n",
              "  </thead>\n",
              "  <tbody>\n",
              "    <tr>\n",
              "      <th>5</th>\n",
              "      <td>All ages</td>\n",
              "      <td>301483</td>\n",
              "      <td>100.0</td>\n",
              "      <td>148094</td>\n",
              "      <td>100.0</td>\n",
              "      <td>153388</td>\n",
              "      <td>100.0</td>\n",
              "      <td>2009</td>\n",
              "    </tr>\n",
              "    <tr>\n",
              "      <th>5</th>\n",
              "      <td>All ages</td>\n",
              "      <td>304280</td>\n",
              "      <td>100.0</td>\n",
              "      <td>149485</td>\n",
              "      <td>100.0</td>\n",
              "      <td>154795</td>\n",
              "      <td>100.0</td>\n",
              "      <td>2010</td>\n",
              "    </tr>\n",
              "    <tr>\n",
              "      <th>5</th>\n",
              "      <td>All ages</td>\n",
              "      <td>306110</td>\n",
              "      <td>100.0</td>\n",
              "      <td>150643</td>\n",
              "      <td>100.0</td>\n",
              "      <td>155466</td>\n",
              "      <td>100.0</td>\n",
              "      <td>2011</td>\n",
              "    </tr>\n",
              "    <tr>\n",
              "      <th>5</th>\n",
              "      <td>All ages</td>\n",
              "      <td>308827</td>\n",
              "      <td>100.0</td>\n",
              "      <td>151175</td>\n",
              "      <td>100.0</td>\n",
              "      <td>157653</td>\n",
              "      <td>100.0</td>\n",
              "      <td>2012</td>\n",
              "    </tr>\n",
              "    <tr>\n",
              "      <th>5</th>\n",
              "      <td>All ages</td>\n",
              "      <td>311116</td>\n",
              "      <td>100.0</td>\n",
              "      <td>152335</td>\n",
              "      <td>100.0</td>\n",
              "      <td>158781</td>\n",
              "      <td>100.0</td>\n",
              "      <td>2013</td>\n",
              "    </tr>\n",
              "    <tr>\n",
              "      <th>5</th>\n",
              "      <td>All ages</td>\n",
              "      <td>313401</td>\n",
              "      <td>100.0</td>\n",
              "      <td>153595</td>\n",
              "      <td>100.0</td>\n",
              "      <td>159806</td>\n",
              "      <td>100.0</td>\n",
              "      <td>2014</td>\n",
              "    </tr>\n",
              "    <tr>\n",
              "      <th>5</th>\n",
              "      <td>All ages</td>\n",
              "      <td>316168</td>\n",
              "      <td>100.0</td>\n",
              "      <td>154815</td>\n",
              "      <td>100.0</td>\n",
              "      <td>161353</td>\n",
              "      <td>100.0</td>\n",
              "      <td>2015</td>\n",
              "    </tr>\n",
              "    <tr>\n",
              "      <th>5</th>\n",
              "      <td>All ages</td>\n",
              "      <td>318868</td>\n",
              "      <td>100.0</td>\n",
              "      <td>156205</td>\n",
              "      <td>100.0</td>\n",
              "      <td>162664</td>\n",
              "      <td>100.0</td>\n",
              "      <td>2016</td>\n",
              "    </tr>\n",
              "    <tr>\n",
              "      <th>5</th>\n",
              "      <td>All ages</td>\n",
              "      <td>320372</td>\n",
              "      <td>100.0</td>\n",
              "      <td>156939</td>\n",
              "      <td>100.0</td>\n",
              "      <td>163433</td>\n",
              "      <td>100.0</td>\n",
              "      <td>2017</td>\n",
              "    </tr>\n",
              "    <tr>\n",
              "      <th>5</th>\n",
              "      <td>All ages</td>\n",
              "      <td>323156</td>\n",
              "      <td>100.0</td>\n",
              "      <td>158426</td>\n",
              "      <td>100.0</td>\n",
              "      <td>164730</td>\n",
              "      <td>100.0</td>\n",
              "      <td>2018</td>\n",
              "    </tr>\n",
              "    <tr>\n",
              "      <th>5</th>\n",
              "      <td>All ages</td>\n",
              "      <td>324356</td>\n",
              "      <td>100.0</td>\n",
              "      <td>159028</td>\n",
              "      <td>100.0</td>\n",
              "      <td>165328</td>\n",
              "      <td>100.0</td>\n",
              "      <td>2019</td>\n",
              "    </tr>\n",
              "  </tbody>\n",
              "</table>\n",
              "</div>\n",
              "      <button class=\"colab-df-convert\" onclick=\"convertToInteractive('df-c7c981bb-6007-4b69-81ff-100a1e45920f')\"\n",
              "              title=\"Convert this dataframe to an interactive table.\"\n",
              "              style=\"display:none;\">\n",
              "        \n",
              "  <svg xmlns=\"http://www.w3.org/2000/svg\" height=\"24px\"viewBox=\"0 0 24 24\"\n",
              "       width=\"24px\">\n",
              "    <path d=\"M0 0h24v24H0V0z\" fill=\"none\"/>\n",
              "    <path d=\"M18.56 5.44l.94 2.06.94-2.06 2.06-.94-2.06-.94-.94-2.06-.94 2.06-2.06.94zm-11 1L8.5 8.5l.94-2.06 2.06-.94-2.06-.94L8.5 2.5l-.94 2.06-2.06.94zm10 10l.94 2.06.94-2.06 2.06-.94-2.06-.94-.94-2.06-.94 2.06-2.06.94z\"/><path d=\"M17.41 7.96l-1.37-1.37c-.4-.4-.92-.59-1.43-.59-.52 0-1.04.2-1.43.59L10.3 9.45l-7.72 7.72c-.78.78-.78 2.05 0 2.83L4 21.41c.39.39.9.59 1.41.59.51 0 1.02-.2 1.41-.59l7.78-7.78 2.81-2.81c.8-.78.8-2.07 0-2.86zM5.41 20L4 18.59l7.72-7.72 1.47 1.35L5.41 20z\"/>\n",
              "  </svg>\n",
              "      </button>\n",
              "      \n",
              "  <style>\n",
              "    .colab-df-container {\n",
              "      display:flex;\n",
              "      flex-wrap:wrap;\n",
              "      gap: 12px;\n",
              "    }\n",
              "\n",
              "    .colab-df-convert {\n",
              "      background-color: #E8F0FE;\n",
              "      border: none;\n",
              "      border-radius: 50%;\n",
              "      cursor: pointer;\n",
              "      display: none;\n",
              "      fill: #1967D2;\n",
              "      height: 32px;\n",
              "      padding: 0 0 0 0;\n",
              "      width: 32px;\n",
              "    }\n",
              "\n",
              "    .colab-df-convert:hover {\n",
              "      background-color: #E2EBFA;\n",
              "      box-shadow: 0px 1px 2px rgba(60, 64, 67, 0.3), 0px 1px 3px 1px rgba(60, 64, 67, 0.15);\n",
              "      fill: #174EA6;\n",
              "    }\n",
              "\n",
              "    [theme=dark] .colab-df-convert {\n",
              "      background-color: #3B4455;\n",
              "      fill: #D2E3FC;\n",
              "    }\n",
              "\n",
              "    [theme=dark] .colab-df-convert:hover {\n",
              "      background-color: #434B5C;\n",
              "      box-shadow: 0px 1px 3px 1px rgba(0, 0, 0, 0.15);\n",
              "      filter: drop-shadow(0px 1px 2px rgba(0, 0, 0, 0.3));\n",
              "      fill: #FFFFFF;\n",
              "    }\n",
              "  </style>\n",
              "\n",
              "      <script>\n",
              "        const buttonEl =\n",
              "          document.querySelector('#df-c7c981bb-6007-4b69-81ff-100a1e45920f button.colab-df-convert');\n",
              "        buttonEl.style.display =\n",
              "          google.colab.kernel.accessAllowed ? 'block' : 'none';\n",
              "\n",
              "        async function convertToInteractive(key) {\n",
              "          const element = document.querySelector('#df-c7c981bb-6007-4b69-81ff-100a1e45920f');\n",
              "          const dataTable =\n",
              "            await google.colab.kernel.invokeFunction('convertToInteractive',\n",
              "                                                     [key], {});\n",
              "          if (!dataTable) return;\n",
              "\n",
              "          const docLinkHtml = 'Like what you see? Visit the ' +\n",
              "            '<a target=\"_blank\" href=https://colab.research.google.com/notebooks/data_table.ipynb>data table notebook</a>'\n",
              "            + ' to learn more about interactive tables.';\n",
              "          element.innerHTML = '';\n",
              "          dataTable['output_type'] = 'display_data';\n",
              "          await google.colab.output.renderOutput(dataTable, element);\n",
              "          const docLink = document.createElement('div');\n",
              "          docLink.innerHTML = docLinkHtml;\n",
              "          element.appendChild(docLink);\n",
              "        }\n",
              "      </script>\n",
              "    </div>\n",
              "  </div>\n",
              "  "
            ]
          },
          "metadata": {},
          "execution_count": 10
        }
      ]
    },
    {
      "cell_type": "code",
      "source": [
        "median_age = all_09_19[all_09_19['Age'] == 'Median age']\n",
        "median_age"
      ],
      "metadata": {
        "colab": {
          "base_uri": "https://localhost:8080/",
          "height": 394
        },
        "id": "cMpe5bNMLn62",
        "outputId": "f3f892de-78b0-484a-ac53-fc297926d93c"
      },
      "execution_count": 11,
      "outputs": [
        {
          "output_type": "execute_result",
          "data": {
            "text/plain": [
              "           Age Both_Sexes_No Both_Sexes_Perc. Male_No Male_Perc. Fem_No  \\\n",
              "32  Median age          36.7              (X)    35.5        (X)   37.9   \n",
              "32  Median age          36.7              (X)    35.5        (X)   37.9   \n",
              "32  Median age          36.8              (X)    35.5        (X)   38.1   \n",
              "32  Median age          37.3              (X)    36.1        (X)   38.5   \n",
              "32  Median age          37.3              (X)    36.1        (X)   38.5   \n",
              "32  Median age          37.6              (X)    36.4        (X)   38.8   \n",
              "32  Median age          37.8        (X)          36.6  (X)         39.0   \n",
              "32  Median age          37.9        (X)          36.7  (X)         39.1   \n",
              "32  Median age          38.0        (X)          36.8  (X)         39.2   \n",
              "32  Median age          38.1        (X)          37.0  (X)         39.3   \n",
              "32  Median age          38.3        (X)          37.1  (X)         39.5   \n",
              "\n",
              "    Fem_Perc.  Year  \n",
              "32        (X)  2009  \n",
              "32        (X)  2010  \n",
              "32        (X)  2011  \n",
              "32        (X)  2012  \n",
              "32        (X)  2013  \n",
              "32        (X)  2014  \n",
              "32  (X)        2015  \n",
              "32  (X)        2016  \n",
              "32  (X)        2017  \n",
              "32  (X)        2018  \n",
              "32  (X)        2019  "
            ],
            "text/html": [
              "\n",
              "  <div id=\"df-11b5bdf1-2cfb-4a9c-a0f6-282c02d647de\">\n",
              "    <div class=\"colab-df-container\">\n",
              "      <div>\n",
              "<style scoped>\n",
              "    .dataframe tbody tr th:only-of-type {\n",
              "        vertical-align: middle;\n",
              "    }\n",
              "\n",
              "    .dataframe tbody tr th {\n",
              "        vertical-align: top;\n",
              "    }\n",
              "\n",
              "    .dataframe thead th {\n",
              "        text-align: right;\n",
              "    }\n",
              "</style>\n",
              "<table border=\"1\" class=\"dataframe\">\n",
              "  <thead>\n",
              "    <tr style=\"text-align: right;\">\n",
              "      <th></th>\n",
              "      <th>Age</th>\n",
              "      <th>Both_Sexes_No</th>\n",
              "      <th>Both_Sexes_Perc.</th>\n",
              "      <th>Male_No</th>\n",
              "      <th>Male_Perc.</th>\n",
              "      <th>Fem_No</th>\n",
              "      <th>Fem_Perc.</th>\n",
              "      <th>Year</th>\n",
              "    </tr>\n",
              "  </thead>\n",
              "  <tbody>\n",
              "    <tr>\n",
              "      <th>32</th>\n",
              "      <td>Median age</td>\n",
              "      <td>36.7</td>\n",
              "      <td>(X)</td>\n",
              "      <td>35.5</td>\n",
              "      <td>(X)</td>\n",
              "      <td>37.9</td>\n",
              "      <td>(X)</td>\n",
              "      <td>2009</td>\n",
              "    </tr>\n",
              "    <tr>\n",
              "      <th>32</th>\n",
              "      <td>Median age</td>\n",
              "      <td>36.7</td>\n",
              "      <td>(X)</td>\n",
              "      <td>35.5</td>\n",
              "      <td>(X)</td>\n",
              "      <td>37.9</td>\n",
              "      <td>(X)</td>\n",
              "      <td>2010</td>\n",
              "    </tr>\n",
              "    <tr>\n",
              "      <th>32</th>\n",
              "      <td>Median age</td>\n",
              "      <td>36.8</td>\n",
              "      <td>(X)</td>\n",
              "      <td>35.5</td>\n",
              "      <td>(X)</td>\n",
              "      <td>38.1</td>\n",
              "      <td>(X)</td>\n",
              "      <td>2011</td>\n",
              "    </tr>\n",
              "    <tr>\n",
              "      <th>32</th>\n",
              "      <td>Median age</td>\n",
              "      <td>37.3</td>\n",
              "      <td>(X)</td>\n",
              "      <td>36.1</td>\n",
              "      <td>(X)</td>\n",
              "      <td>38.5</td>\n",
              "      <td>(X)</td>\n",
              "      <td>2012</td>\n",
              "    </tr>\n",
              "    <tr>\n",
              "      <th>32</th>\n",
              "      <td>Median age</td>\n",
              "      <td>37.3</td>\n",
              "      <td>(X)</td>\n",
              "      <td>36.1</td>\n",
              "      <td>(X)</td>\n",
              "      <td>38.5</td>\n",
              "      <td>(X)</td>\n",
              "      <td>2013</td>\n",
              "    </tr>\n",
              "    <tr>\n",
              "      <th>32</th>\n",
              "      <td>Median age</td>\n",
              "      <td>37.6</td>\n",
              "      <td>(X)</td>\n",
              "      <td>36.4</td>\n",
              "      <td>(X)</td>\n",
              "      <td>38.8</td>\n",
              "      <td>(X)</td>\n",
              "      <td>2014</td>\n",
              "    </tr>\n",
              "    <tr>\n",
              "      <th>32</th>\n",
              "      <td>Median age</td>\n",
              "      <td>37.8</td>\n",
              "      <td>(X)</td>\n",
              "      <td>36.6</td>\n",
              "      <td>(X)</td>\n",
              "      <td>39.0</td>\n",
              "      <td>(X)</td>\n",
              "      <td>2015</td>\n",
              "    </tr>\n",
              "    <tr>\n",
              "      <th>32</th>\n",
              "      <td>Median age</td>\n",
              "      <td>37.9</td>\n",
              "      <td>(X)</td>\n",
              "      <td>36.7</td>\n",
              "      <td>(X)</td>\n",
              "      <td>39.1</td>\n",
              "      <td>(X)</td>\n",
              "      <td>2016</td>\n",
              "    </tr>\n",
              "    <tr>\n",
              "      <th>32</th>\n",
              "      <td>Median age</td>\n",
              "      <td>38.0</td>\n",
              "      <td>(X)</td>\n",
              "      <td>36.8</td>\n",
              "      <td>(X)</td>\n",
              "      <td>39.2</td>\n",
              "      <td>(X)</td>\n",
              "      <td>2017</td>\n",
              "    </tr>\n",
              "    <tr>\n",
              "      <th>32</th>\n",
              "      <td>Median age</td>\n",
              "      <td>38.1</td>\n",
              "      <td>(X)</td>\n",
              "      <td>37.0</td>\n",
              "      <td>(X)</td>\n",
              "      <td>39.3</td>\n",
              "      <td>(X)</td>\n",
              "      <td>2018</td>\n",
              "    </tr>\n",
              "    <tr>\n",
              "      <th>32</th>\n",
              "      <td>Median age</td>\n",
              "      <td>38.3</td>\n",
              "      <td>(X)</td>\n",
              "      <td>37.1</td>\n",
              "      <td>(X)</td>\n",
              "      <td>39.5</td>\n",
              "      <td>(X)</td>\n",
              "      <td>2019</td>\n",
              "    </tr>\n",
              "  </tbody>\n",
              "</table>\n",
              "</div>\n",
              "      <button class=\"colab-df-convert\" onclick=\"convertToInteractive('df-11b5bdf1-2cfb-4a9c-a0f6-282c02d647de')\"\n",
              "              title=\"Convert this dataframe to an interactive table.\"\n",
              "              style=\"display:none;\">\n",
              "        \n",
              "  <svg xmlns=\"http://www.w3.org/2000/svg\" height=\"24px\"viewBox=\"0 0 24 24\"\n",
              "       width=\"24px\">\n",
              "    <path d=\"M0 0h24v24H0V0z\" fill=\"none\"/>\n",
              "    <path d=\"M18.56 5.44l.94 2.06.94-2.06 2.06-.94-2.06-.94-.94-2.06-.94 2.06-2.06.94zm-11 1L8.5 8.5l.94-2.06 2.06-.94-2.06-.94L8.5 2.5l-.94 2.06-2.06.94zm10 10l.94 2.06.94-2.06 2.06-.94-2.06-.94-.94-2.06-.94 2.06-2.06.94z\"/><path d=\"M17.41 7.96l-1.37-1.37c-.4-.4-.92-.59-1.43-.59-.52 0-1.04.2-1.43.59L10.3 9.45l-7.72 7.72c-.78.78-.78 2.05 0 2.83L4 21.41c.39.39.9.59 1.41.59.51 0 1.02-.2 1.41-.59l7.78-7.78 2.81-2.81c.8-.78.8-2.07 0-2.86zM5.41 20L4 18.59l7.72-7.72 1.47 1.35L5.41 20z\"/>\n",
              "  </svg>\n",
              "      </button>\n",
              "      \n",
              "  <style>\n",
              "    .colab-df-container {\n",
              "      display:flex;\n",
              "      flex-wrap:wrap;\n",
              "      gap: 12px;\n",
              "    }\n",
              "\n",
              "    .colab-df-convert {\n",
              "      background-color: #E8F0FE;\n",
              "      border: none;\n",
              "      border-radius: 50%;\n",
              "      cursor: pointer;\n",
              "      display: none;\n",
              "      fill: #1967D2;\n",
              "      height: 32px;\n",
              "      padding: 0 0 0 0;\n",
              "      width: 32px;\n",
              "    }\n",
              "\n",
              "    .colab-df-convert:hover {\n",
              "      background-color: #E2EBFA;\n",
              "      box-shadow: 0px 1px 2px rgba(60, 64, 67, 0.3), 0px 1px 3px 1px rgba(60, 64, 67, 0.15);\n",
              "      fill: #174EA6;\n",
              "    }\n",
              "\n",
              "    [theme=dark] .colab-df-convert {\n",
              "      background-color: #3B4455;\n",
              "      fill: #D2E3FC;\n",
              "    }\n",
              "\n",
              "    [theme=dark] .colab-df-convert:hover {\n",
              "      background-color: #434B5C;\n",
              "      box-shadow: 0px 1px 3px 1px rgba(0, 0, 0, 0.15);\n",
              "      filter: drop-shadow(0px 1px 2px rgba(0, 0, 0, 0.3));\n",
              "      fill: #FFFFFF;\n",
              "    }\n",
              "  </style>\n",
              "\n",
              "      <script>\n",
              "        const buttonEl =\n",
              "          document.querySelector('#df-11b5bdf1-2cfb-4a9c-a0f6-282c02d647de button.colab-df-convert');\n",
              "        buttonEl.style.display =\n",
              "          google.colab.kernel.accessAllowed ? 'block' : 'none';\n",
              "\n",
              "        async function convertToInteractive(key) {\n",
              "          const element = document.querySelector('#df-11b5bdf1-2cfb-4a9c-a0f6-282c02d647de');\n",
              "          const dataTable =\n",
              "            await google.colab.kernel.invokeFunction('convertToInteractive',\n",
              "                                                     [key], {});\n",
              "          if (!dataTable) return;\n",
              "\n",
              "          const docLinkHtml = 'Like what you see? Visit the ' +\n",
              "            '<a target=\"_blank\" href=https://colab.research.google.com/notebooks/data_table.ipynb>data table notebook</a>'\n",
              "            + ' to learn more about interactive tables.';\n",
              "          element.innerHTML = '';\n",
              "          dataTable['output_type'] = 'display_data';\n",
              "          await google.colab.output.renderOutput(dataTable, element);\n",
              "          const docLink = document.createElement('div');\n",
              "          docLink.innerHTML = docLinkHtml;\n",
              "          element.appendChild(docLink);\n",
              "        }\n",
              "      </script>\n",
              "    </div>\n",
              "  </div>\n",
              "  "
            ]
          },
          "metadata": {},
          "execution_count": 11
        }
      ]
    },
    {
      "cell_type": "code",
      "source": [
        "all_09_19 = all_09_19[all_09_19['Age'] != 'Median age']\n",
        "all_09_19 = all_09_19[all_09_19['Age'] != 'All ages']\n",
        "\n",
        "for column in list(all_09_19.columns)[1:-1]:\n",
        "    all_09_19[column] = all_09_19[column].astype(float)"
      ],
      "metadata": {
        "id": "ZQv5Z65a1iEB"
      },
      "execution_count": 17,
      "outputs": []
    },
    {
      "cell_type": "markdown",
      "source": [
        "# Compare different age groups change in population from 2009-2019"
      ],
      "metadata": {
        "id": "fYHNAWFT5mU-"
      }
    },
    {
      "cell_type": "markdown",
      "source": [
        "## Seperate out different age groups"
      ],
      "metadata": {
        "id": "lbifSSzW52Ip"
      }
    },
    {
      "cell_type": "code",
      "source": [
        "all_65_over = all_09_19[all_09_19['Age'] == '65 years and over']\n",
        "all_65_over"
      ],
      "metadata": {
        "colab": {
          "base_uri": "https://localhost:8080/",
          "height": 394
        },
        "id": "GwtEZ4LXBaXB",
        "outputId": "3b424c7c-51e7-4667-e55d-daeefcdb020a"
      },
      "execution_count": 18,
      "outputs": [
        {
          "output_type": "execute_result",
          "data": {
            "text/plain": [
              "                  Age  Both_Sexes_No  Both_Sexes_Perc.  Male_No  Male_Perc.  \\\n",
              "30  65 years and over        37788.0              12.5  16308.0        11.0   \n",
              "30  65 years and over        38613.0              12.7  16793.0        11.2   \n",
              "30  65 years and over        39179.0              12.8  17081.0        11.3   \n",
              "30  65 years and over        41507.0              13.4  18332.0        12.1   \n",
              "30  65 years and over        43287.0              13.9  19298.0        12.7   \n",
              "30  65 years and over        44477.0              14.2  19731.0        12.8   \n",
              "30  65 years and over        45994.0              14.5  20439.0        13.2   \n",
              "30  65 years and over        47547.0              14.9  21209.0        13.6   \n",
              "30  65 years and over        49274.0              15.4  22160.0        14.1   \n",
              "30  65 years and over        51080.0              15.8  23059.0        14.6   \n",
              "30  65 years and over        52788.0              16.3  23923.0        15.0   \n",
              "\n",
              "     Fem_No  Fem_Perc.  Year  \n",
              "30  21480.0       14.0  2009  \n",
              "30  21820.0       14.1  2010  \n",
              "30  22098.0       14.2  2011  \n",
              "30  23174.0       14.7  2012  \n",
              "30  23990.0       15.1  2013  \n",
              "30  24745.0       15.5  2014  \n",
              "30  25555.0       15.8  2015  \n",
              "30  26337.0       16.2  2016  \n",
              "30  27114.0       16.6  2017  \n",
              "30  28021.0       17.0  2018  \n",
              "30  28865.0       17.5  2019  "
            ],
            "text/html": [
              "\n",
              "  <div id=\"df-6ca9d9d8-4244-43dd-9caf-1e5c210247c6\">\n",
              "    <div class=\"colab-df-container\">\n",
              "      <div>\n",
              "<style scoped>\n",
              "    .dataframe tbody tr th:only-of-type {\n",
              "        vertical-align: middle;\n",
              "    }\n",
              "\n",
              "    .dataframe tbody tr th {\n",
              "        vertical-align: top;\n",
              "    }\n",
              "\n",
              "    .dataframe thead th {\n",
              "        text-align: right;\n",
              "    }\n",
              "</style>\n",
              "<table border=\"1\" class=\"dataframe\">\n",
              "  <thead>\n",
              "    <tr style=\"text-align: right;\">\n",
              "      <th></th>\n",
              "      <th>Age</th>\n",
              "      <th>Both_Sexes_No</th>\n",
              "      <th>Both_Sexes_Perc.</th>\n",
              "      <th>Male_No</th>\n",
              "      <th>Male_Perc.</th>\n",
              "      <th>Fem_No</th>\n",
              "      <th>Fem_Perc.</th>\n",
              "      <th>Year</th>\n",
              "    </tr>\n",
              "  </thead>\n",
              "  <tbody>\n",
              "    <tr>\n",
              "      <th>30</th>\n",
              "      <td>65 years and over</td>\n",
              "      <td>37788.0</td>\n",
              "      <td>12.5</td>\n",
              "      <td>16308.0</td>\n",
              "      <td>11.0</td>\n",
              "      <td>21480.0</td>\n",
              "      <td>14.0</td>\n",
              "      <td>2009</td>\n",
              "    </tr>\n",
              "    <tr>\n",
              "      <th>30</th>\n",
              "      <td>65 years and over</td>\n",
              "      <td>38613.0</td>\n",
              "      <td>12.7</td>\n",
              "      <td>16793.0</td>\n",
              "      <td>11.2</td>\n",
              "      <td>21820.0</td>\n",
              "      <td>14.1</td>\n",
              "      <td>2010</td>\n",
              "    </tr>\n",
              "    <tr>\n",
              "      <th>30</th>\n",
              "      <td>65 years and over</td>\n",
              "      <td>39179.0</td>\n",
              "      <td>12.8</td>\n",
              "      <td>17081.0</td>\n",
              "      <td>11.3</td>\n",
              "      <td>22098.0</td>\n",
              "      <td>14.2</td>\n",
              "      <td>2011</td>\n",
              "    </tr>\n",
              "    <tr>\n",
              "      <th>30</th>\n",
              "      <td>65 years and over</td>\n",
              "      <td>41507.0</td>\n",
              "      <td>13.4</td>\n",
              "      <td>18332.0</td>\n",
              "      <td>12.1</td>\n",
              "      <td>23174.0</td>\n",
              "      <td>14.7</td>\n",
              "      <td>2012</td>\n",
              "    </tr>\n",
              "    <tr>\n",
              "      <th>30</th>\n",
              "      <td>65 years and over</td>\n",
              "      <td>43287.0</td>\n",
              "      <td>13.9</td>\n",
              "      <td>19298.0</td>\n",
              "      <td>12.7</td>\n",
              "      <td>23990.0</td>\n",
              "      <td>15.1</td>\n",
              "      <td>2013</td>\n",
              "    </tr>\n",
              "    <tr>\n",
              "      <th>30</th>\n",
              "      <td>65 years and over</td>\n",
              "      <td>44477.0</td>\n",
              "      <td>14.2</td>\n",
              "      <td>19731.0</td>\n",
              "      <td>12.8</td>\n",
              "      <td>24745.0</td>\n",
              "      <td>15.5</td>\n",
              "      <td>2014</td>\n",
              "    </tr>\n",
              "    <tr>\n",
              "      <th>30</th>\n",
              "      <td>65 years and over</td>\n",
              "      <td>45994.0</td>\n",
              "      <td>14.5</td>\n",
              "      <td>20439.0</td>\n",
              "      <td>13.2</td>\n",
              "      <td>25555.0</td>\n",
              "      <td>15.8</td>\n",
              "      <td>2015</td>\n",
              "    </tr>\n",
              "    <tr>\n",
              "      <th>30</th>\n",
              "      <td>65 years and over</td>\n",
              "      <td>47547.0</td>\n",
              "      <td>14.9</td>\n",
              "      <td>21209.0</td>\n",
              "      <td>13.6</td>\n",
              "      <td>26337.0</td>\n",
              "      <td>16.2</td>\n",
              "      <td>2016</td>\n",
              "    </tr>\n",
              "    <tr>\n",
              "      <th>30</th>\n",
              "      <td>65 years and over</td>\n",
              "      <td>49274.0</td>\n",
              "      <td>15.4</td>\n",
              "      <td>22160.0</td>\n",
              "      <td>14.1</td>\n",
              "      <td>27114.0</td>\n",
              "      <td>16.6</td>\n",
              "      <td>2017</td>\n",
              "    </tr>\n",
              "    <tr>\n",
              "      <th>30</th>\n",
              "      <td>65 years and over</td>\n",
              "      <td>51080.0</td>\n",
              "      <td>15.8</td>\n",
              "      <td>23059.0</td>\n",
              "      <td>14.6</td>\n",
              "      <td>28021.0</td>\n",
              "      <td>17.0</td>\n",
              "      <td>2018</td>\n",
              "    </tr>\n",
              "    <tr>\n",
              "      <th>30</th>\n",
              "      <td>65 years and over</td>\n",
              "      <td>52788.0</td>\n",
              "      <td>16.3</td>\n",
              "      <td>23923.0</td>\n",
              "      <td>15.0</td>\n",
              "      <td>28865.0</td>\n",
              "      <td>17.5</td>\n",
              "      <td>2019</td>\n",
              "    </tr>\n",
              "  </tbody>\n",
              "</table>\n",
              "</div>\n",
              "      <button class=\"colab-df-convert\" onclick=\"convertToInteractive('df-6ca9d9d8-4244-43dd-9caf-1e5c210247c6')\"\n",
              "              title=\"Convert this dataframe to an interactive table.\"\n",
              "              style=\"display:none;\">\n",
              "        \n",
              "  <svg xmlns=\"http://www.w3.org/2000/svg\" height=\"24px\"viewBox=\"0 0 24 24\"\n",
              "       width=\"24px\">\n",
              "    <path d=\"M0 0h24v24H0V0z\" fill=\"none\"/>\n",
              "    <path d=\"M18.56 5.44l.94 2.06.94-2.06 2.06-.94-2.06-.94-.94-2.06-.94 2.06-2.06.94zm-11 1L8.5 8.5l.94-2.06 2.06-.94-2.06-.94L8.5 2.5l-.94 2.06-2.06.94zm10 10l.94 2.06.94-2.06 2.06-.94-2.06-.94-.94-2.06-.94 2.06-2.06.94z\"/><path d=\"M17.41 7.96l-1.37-1.37c-.4-.4-.92-.59-1.43-.59-.52 0-1.04.2-1.43.59L10.3 9.45l-7.72 7.72c-.78.78-.78 2.05 0 2.83L4 21.41c.39.39.9.59 1.41.59.51 0 1.02-.2 1.41-.59l7.78-7.78 2.81-2.81c.8-.78.8-2.07 0-2.86zM5.41 20L4 18.59l7.72-7.72 1.47 1.35L5.41 20z\"/>\n",
              "  </svg>\n",
              "      </button>\n",
              "      \n",
              "  <style>\n",
              "    .colab-df-container {\n",
              "      display:flex;\n",
              "      flex-wrap:wrap;\n",
              "      gap: 12px;\n",
              "    }\n",
              "\n",
              "    .colab-df-convert {\n",
              "      background-color: #E8F0FE;\n",
              "      border: none;\n",
              "      border-radius: 50%;\n",
              "      cursor: pointer;\n",
              "      display: none;\n",
              "      fill: #1967D2;\n",
              "      height: 32px;\n",
              "      padding: 0 0 0 0;\n",
              "      width: 32px;\n",
              "    }\n",
              "\n",
              "    .colab-df-convert:hover {\n",
              "      background-color: #E2EBFA;\n",
              "      box-shadow: 0px 1px 2px rgba(60, 64, 67, 0.3), 0px 1px 3px 1px rgba(60, 64, 67, 0.15);\n",
              "      fill: #174EA6;\n",
              "    }\n",
              "\n",
              "    [theme=dark] .colab-df-convert {\n",
              "      background-color: #3B4455;\n",
              "      fill: #D2E3FC;\n",
              "    }\n",
              "\n",
              "    [theme=dark] .colab-df-convert:hover {\n",
              "      background-color: #434B5C;\n",
              "      box-shadow: 0px 1px 3px 1px rgba(0, 0, 0, 0.15);\n",
              "      filter: drop-shadow(0px 1px 2px rgba(0, 0, 0, 0.3));\n",
              "      fill: #FFFFFF;\n",
              "    }\n",
              "  </style>\n",
              "\n",
              "      <script>\n",
              "        const buttonEl =\n",
              "          document.querySelector('#df-6ca9d9d8-4244-43dd-9caf-1e5c210247c6 button.colab-df-convert');\n",
              "        buttonEl.style.display =\n",
              "          google.colab.kernel.accessAllowed ? 'block' : 'none';\n",
              "\n",
              "        async function convertToInteractive(key) {\n",
              "          const element = document.querySelector('#df-6ca9d9d8-4244-43dd-9caf-1e5c210247c6');\n",
              "          const dataTable =\n",
              "            await google.colab.kernel.invokeFunction('convertToInteractive',\n",
              "                                                     [key], {});\n",
              "          if (!dataTable) return;\n",
              "\n",
              "          const docLinkHtml = 'Like what you see? Visit the ' +\n",
              "            '<a target=\"_blank\" href=https://colab.research.google.com/notebooks/data_table.ipynb>data table notebook</a>'\n",
              "            + ' to learn more about interactive tables.';\n",
              "          element.innerHTML = '';\n",
              "          dataTable['output_type'] = 'display_data';\n",
              "          await google.colab.output.renderOutput(dataTable, element);\n",
              "          const docLink = document.createElement('div');\n",
              "          docLink.innerHTML = docLinkHtml;\n",
              "          element.appendChild(docLink);\n",
              "        }\n",
              "      </script>\n",
              "    </div>\n",
              "  </div>\n",
              "  "
            ]
          },
          "metadata": {},
          "execution_count": 18
        }
      ]
    },
    {
      "cell_type": "code",
      "source": [
        "all_65_over.plot(kind='line', x='Year', y='Both_Sexes_Perc.')"
      ],
      "metadata": {
        "colab": {
          "base_uri": "https://localhost:8080/",
          "height": 296
        },
        "id": "n6zDu0t4E4gl",
        "outputId": "60790f15-9032-405d-d7e4-9a78328722f6"
      },
      "execution_count": 19,
      "outputs": [
        {
          "output_type": "execute_result",
          "data": {
            "text/plain": [
              "<matplotlib.axes._subplots.AxesSubplot at 0x7fac3fc16c50>"
            ]
          },
          "metadata": {},
          "execution_count": 19
        },
        {
          "output_type": "display_data",
          "data": {
            "text/plain": [
              "<Figure size 432x288 with 1 Axes>"
            ],
            "image/png": "[encoded data removed]"
          },
          "metadata": {
            "needs_background": "light"
          }
        }
      ]
    },
    {
      "cell_type": "code",
      "source": [
        "fig = px.line(all_09_19, x='Year', y='Both_Sexes_No', color='Age', markers=True)\n",
        "fig.show()"
      ],
      "metadata": {
        "id": "imKWSs3BC43m",
        "outputId": "00f36f5b-5a3a-4847-91ee-28ce44c07205",
        "colab": {
          "base_uri": "https://localhost:8080/",
          "height": 542
        }
      },
      "execution_count": 21,
      "outputs": [
        {
          "output_type": "display_data",
          "data": {
            "text/html": [
              "<html>\n",
              "<head><meta charset=\"utf-8\" /></head>\n",
              "<body>\n",
              "    <div>            <script src=\"https://cdnjs.cloudflare.com/ajax/libs/mathjax/2.7.5/MathJax.js?config=TeX-AMS-MML_SVG\"></script><script type=\"text/javascript\">if (window.MathJax) {MathJax.Hub.Config({SVG: {font: \"STIX-Web\"}});}</script>                <script type=\"text/javascript\">window.PlotlyConfig = {MathJaxConfig: 'local'};</script>\n",
              "        <script src=\"https://cdn.plot.ly/plotly-2.8.3.min.js\"></script>                <div id=\"0218ad31-2700-4c34-9055-05a3560adb5d\" class=\"plotly-graph-div\" style=\"height:525px; width:100%;\"></div>            <script type=\"text/javascript\">                                    window.PLOTLYENV=window.PLOTLYENV || {};                                    if (document.getElementById(\"0218ad31-2700-4c34-9055-05a3560adb5d\")) {                    Plotly.newPlot(                        \"0218ad31-2700-4c34-9055-05a3560adb5d\",                        [{\"hovertemplate\":\"Age=Under 5 years<br>Year=%{x}<br>Both_Sexes_No=%{y}<extra></extra>\",\"legendgroup\":\"Under 5 years\",\"line\":{\"color\":\"#636efa\",\"dash\":\"solid\"},\"marker\":{\"symbol\":\"circle\"},\"mode\":\"lines+markers\",\"name\":\"Under 5 years\",\"orientation\":\"v\",\"showlegend\":true,\"x\":[\"2009\",\"2010\",\"2011\",\"2012\",\"2013\",\"2014\",\"2015\",\"2016\",\"2017\",\"2018\",\"2019\"],\"xaxis\":\"x\",\"y\":[21187.0,21434.0,21265.0,20110.0,19917.0,19865.0,19901.0,19923.0,19954.0,19929.0,19736.0],\"yaxis\":\"y\",\"type\":\"scatter\"},{\"hovertemplate\":\"Age=5 to 9 years<br>Year=%{x}<br>Both_Sexes_No=%{y}<extra></extra>\",\"legendgroup\":\"5 to 9 years\",\"line\":{\"color\":\"#EF553B\",\"dash\":\"solid\"},\"marker\":{\"symbol\":\"circle\"},\"mode\":\"lines+markers\",\"name\":\"5 to 9 years\",\"orientation\":\"v\",\"showlegend\":true,\"x\":[\"2009\",\"2010\",\"2011\",\"2012\",\"2013\",\"2014\",\"2015\",\"2016\",\"2017\",\"2018\",\"2019\"],\"xaxis\":\"x\",\"y\":[20245.0,20785.0,20870.0,20416.0,20536.0,20522.0,20473.0,20469.0,20349.0,20243.0,20212.0],\"yaxis\":\"y\",\"type\":\"scatter\"},{\"hovertemplate\":\"Age=10 to 14 years<br>Year=%{x}<br>Both_Sexes_No=%{y}<extra></extra>\",\"legendgroup\":\"10 to 14 years\",\"line\":{\"color\":\"#00cc96\",\"dash\":\"solid\"},\"marker\":{\"symbol\":\"circle\"},\"mode\":\"lines+markers\",\"name\":\"10 to 14 years\",\"orientation\":\"v\",\"showlegend\":true,\"x\":[\"2009\",\"2010\",\"2011\",\"2012\",\"2013\",\"2014\",\"2015\",\"2016\",\"2017\",\"2018\",\"2019\"],\"xaxis\":\"x\",\"y\":[19907.0,19893.0,20020.0,20605.0,20640.0,20642.0,20606.0,20573.0,20667.0,20812.0,20827.0],\"yaxis\":\"y\",\"type\":\"scatter\"},{\"hovertemplate\":\"Age=15 to 19 years<br>Year=%{x}<br>Both_Sexes_No=%{y}<extra></extra>\",\"legendgroup\":\"15 to 19 years\",\"line\":{\"color\":\"#ab63fa\",\"dash\":\"solid\"},\"marker\":{\"symbol\":\"circle\"},\"mode\":\"lines+markers\",\"name\":\"15 to 19 years\",\"orientation\":\"v\",\"showlegend\":true,\"x\":[\"2009\",\"2010\",\"2011\",\"2012\",\"2013\",\"2014\",\"2015\",\"2016\",\"2017\",\"2018\",\"2019\"],\"xaxis\":\"x\",\"y\":[21227.0,21086.0,20886.0,21239.0,20970.0,20807.0,20840.0,20915.0,20891.0,20908.0,20849.0],\"yaxis\":\"y\",\"type\":\"scatter\"},{\"hovertemplate\":\"Age=20 to 24 years<br>Year=%{x}<br>Both_Sexes_No=%{y}<extra></extra>\",\"legendgroup\":\"20 to 24 years\",\"line\":{\"color\":\"#FFA15A\",\"dash\":\"solid\"},\"marker\":{\"symbol\":\"circle\"},\"mode\":\"lines+markers\",\"name\":\"20 to 24 years\",\"orientation\":\"v\",\"showlegend\":true,\"x\":[\"2009\",\"2010\",\"2011\",\"2012\",\"2013\",\"2014\",\"2015\",\"2016\",\"2017\",\"2018\",\"2019\"],\"xaxis\":\"x\",\"y\":[20632.0,21154.0,21525.0,21878.0,22153.0,22278.0,22215.0,21973.0,21591.0,21434.0,21254.0],\"yaxis\":\"y\",\"type\":\"scatter\"},{\"hovertemplate\":\"Age=25 to 29 years<br>Year=%{x}<br>Both_Sexes_No=%{y}<extra></extra>\",\"legendgroup\":\"25 to 29 years\",\"line\":{\"color\":\"#19d3f3\",\"dash\":\"solid\"},\"marker\":{\"symbol\":\"circle\"},\"mode\":\"lines+markers\",\"name\":\"25 to 29 years\",\"orientation\":\"v\",\"showlegend\":true,\"x\":[\"2009\",\"2010\",\"2011\",\"2012\",\"2013\",\"2014\",\"2015\",\"2016\",\"2017\",\"2018\",\"2019\"],\"xaxis\":\"x\",\"y\":[21256.0,21453.0,21382.0,20893.0,21138.0,21474.0,21867.0,22434.0,22745.0,23160.0,23277.0],\"yaxis\":\"y\",\"type\":\"scatter\"},{\"hovertemplate\":\"Age=30 to 34 years<br>Year=%{x}<br>Both_Sexes_No=%{y}<extra></extra>\",\"legendgroup\":\"30 to 34 years\",\"line\":{\"color\":\"#FF6692\",\"dash\":\"solid\"},\"marker\":{\"symbol\":\"circle\"},\"mode\":\"lines+markers\",\"name\":\"30 to 34 years\",\"orientation\":\"v\",\"showlegend\":true,\"x\":[\"2009\",\"2010\",\"2011\",\"2012\",\"2013\",\"2014\",\"2015\",\"2016\",\"2017\",\"2018\",\"2019\"],\"xaxis\":\"x\",\"y\":[19264.0,19632.0,20202.0,20326.0,20659.0,20974.0,21139.0,21329.0,21505.0,21695.0,21932.0],\"yaxis\":\"y\",\"type\":\"scatter\"},{\"hovertemplate\":\"Age=35 to 39 years<br>Year=%{x}<br>Both_Sexes_No=%{y}<extra></extra>\",\"legendgroup\":\"35 to 39 years\",\"line\":{\"color\":\"#B6E880\",\"dash\":\"solid\"},\"marker\":{\"symbol\":\"circle\"},\"mode\":\"lines+markers\",\"name\":\"35 to 39 years\",\"orientation\":\"v\",\"showlegend\":true,\"x\":[\"2009\",\"2010\",\"2011\",\"2012\",\"2013\",\"2014\",\"2015\",\"2016\",\"2017\",\"2018\",\"2019\"],\"xaxis\":\"x\",\"y\":[20445.0,19888.0,19255.0,19140.0,19221.0,19407.0,19916.0,20387.0,20773.0,21269.0,21443.0],\"yaxis\":\"y\",\"type\":\"scatter\"},{\"hovertemplate\":\"Age=40 to 44 years<br>Year=%{x}<br>Both_Sexes_No=%{y}<extra></extra>\",\"legendgroup\":\"40 to 44 years\",\"line\":{\"color\":\"#FF97FF\",\"dash\":\"solid\"},\"marker\":{\"symbol\":\"circle\"},\"mode\":\"lines+markers\",\"name\":\"40 to 44 years\",\"orientation\":\"v\",\"showlegend\":true,\"x\":[\"2009\",\"2010\",\"2011\",\"2012\",\"2013\",\"2014\",\"2015\",\"2016\",\"2017\",\"2018\",\"2019\"],\"xaxis\":\"x\",\"y\":[20877.0,20559.0,20587.0,20787.0,20657.0,20382.0,20003.0,19618.0,19273.0,19391.0,19584.0],\"yaxis\":\"y\",\"type\":\"scatter\"},{\"hovertemplate\":\"Age=45 to 49 years<br>Year=%{x}<br>Both_Sexes_No=%{y}<extra></extra>\",\"legendgroup\":\"45 to 49 years\",\"line\":{\"color\":\"#FECB52\",\"dash\":\"solid\"},\"marker\":{\"symbol\":\"circle\"},\"mode\":\"lines+markers\",\"name\":\"45 to 49 years\",\"orientation\":\"v\",\"showlegend\":true,\"x\":[\"2009\",\"2010\",\"2011\",\"2012\",\"2013\",\"2014\",\"2015\",\"2016\",\"2017\",\"2018\",\"2019\"],\"xaxis\":\"x\",\"y\":[22712.0,22527.0,21989.0,21583.0,21060.0,20668.0,20563.0,20679.0,20662.0,20638.0,20345.0],\"yaxis\":\"y\",\"type\":\"scatter\"},{\"hovertemplate\":\"Age=50 to 54 years<br>Year=%{x}<br>Both_Sexes_No=%{y}<extra></extra>\",\"legendgroup\":\"50 to 54 years\",\"line\":{\"color\":\"#636efa\",\"dash\":\"solid\"},\"marker\":{\"symbol\":\"circle\"},\"mode\":\"lines+markers\",\"name\":\"50 to 54 years\",\"orientation\":\"v\",\"showlegend\":true,\"x\":[\"2009\",\"2010\",\"2011\",\"2012\",\"2013\",\"2014\",\"2015\",\"2016\",\"2017\",\"2018\",\"2019\"],\"xaxis\":\"x\",\"y\":[21654.0,21860.0,21965.0,22372.0,22386.0,22355.0,22233.0,21887.0,21364.0,20899.0,20355.0],\"yaxis\":\"y\",\"type\":\"scatter\"},{\"hovertemplate\":\"Age=55 to 59 years<br>Year=%{x}<br>Both_Sexes_No=%{y}<extra></extra>\",\"legendgroup\":\"55 to 59 years\",\"line\":{\"color\":\"#EF553B\",\"dash\":\"solid\"},\"marker\":{\"symbol\":\"circle\"},\"mode\":\"lines+markers\",\"name\":\"55 to 59 years\",\"orientation\":\"v\",\"showlegend\":true,\"x\":[\"2009\",\"2010\",\"2011\",\"2012\",\"2013\",\"2014\",\"2015\",\"2016\",\"2017\",\"2018\",\"2019\"],\"xaxis\":\"x\",\"y\":[18755.0,19172.0,19554.0,20470.0,20880.0,21109.0,21419.0,21835.0,21837.0,21622.0,21163.0],\"yaxis\":\"y\",\"type\":\"scatter\"},{\"hovertemplate\":\"Age=60 to 64 years<br>Year=%{x}<br>Both_Sexes_No=%{y}<extra></extra>\",\"legendgroup\":\"60 to 64 years\",\"line\":{\"color\":\"#00cc96\",\"dash\":\"solid\"},\"marker\":{\"symbol\":\"circle\"},\"mode\":\"lines+markers\",\"name\":\"60 to 64 years\",\"orientation\":\"v\",\"showlegend\":true,\"x\":[\"2009\",\"2010\",\"2011\",\"2012\",\"2013\",\"2014\",\"2015\",\"2016\",\"2017\",\"2018\",\"2019\"],\"xaxis\":\"x\",\"y\":[15534.0,16223.0,17430.0,17501.0,17611.0,18440.0,18998.0,19300.0,19488.0,20078.0,20592.0],\"yaxis\":\"y\",\"type\":\"scatter\"},{\"hovertemplate\":\"Age=65 to 69 years<br>Year=%{x}<br>Both_Sexes_No=%{y}<extra></extra>\",\"legendgroup\":\"65 to 69 years\",\"line\":{\"color\":\"#ab63fa\",\"dash\":\"solid\"},\"marker\":{\"symbol\":\"circle\"},\"mode\":\"lines+markers\",\"name\":\"65 to 69 years\",\"orientation\":\"v\",\"showlegend\":true,\"x\":[\"2009\",\"2010\",\"2011\",\"2012\",\"2013\",\"2014\",\"2015\",\"2016\",\"2017\",\"2018\",\"2019\"],\"xaxis\":\"x\",\"y\":[11825.0,12020.0,12160.0,13599.0,14437.0,14986.0,15728.0,16517.0,16750.0,17007.0,17356.0],\"yaxis\":\"y\",\"type\":\"scatter\"},{\"hovertemplate\":\"Age=70 to 74 years<br>Year=%{x}<br>Both_Sexes_No=%{y}<extra></extra>\",\"legendgroup\":\"70 to 74 years\",\"line\":{\"color\":\"#FFA15A\",\"dash\":\"solid\"},\"marker\":{\"symbol\":\"circle\"},\"mode\":\"lines+markers\",\"name\":\"70 to 74 years\",\"orientation\":\"v\",\"showlegend\":true,\"x\":[\"2009\",\"2010\",\"2011\",\"2012\",\"2013\",\"2014\",\"2015\",\"2016\",\"2017\",\"2018\",\"2019\"],\"xaxis\":\"x\",\"y\":[8579.0,8936.0,9254.0,9784.0,10264.0,10805.0,11209.0,11425.0,12462.0,13359.0,14131.0],\"yaxis\":\"y\",\"type\":\"scatter\"},{\"hovertemplate\":\"Age=75 to 79 years<br>Year=%{x}<br>Both_Sexes_No=%{y}<extra></extra>\",\"legendgroup\":\"75 to 79 years\",\"line\":{\"color\":\"#19d3f3\",\"dash\":\"solid\"},\"marker\":{\"symbol\":\"circle\"},\"mode\":\"lines+markers\",\"name\":\"75 to 79 years\",\"orientation\":\"v\",\"showlegend\":true,\"x\":[\"2009\",\"2010\",\"2011\",\"2012\",\"2013\",\"2014\",\"2015\",\"2016\",\"2017\",\"2018\",\"2019\"],\"xaxis\":\"x\",\"y\":[7329.0,7181.0,7088.0,7331.0,7598.0,7804.0,8002.0,8421.0,8545.0,8912.0,9357.0],\"yaxis\":\"y\",\"type\":\"scatter\"},{\"hovertemplate\":\"Age=80 to 84 years<br>Year=%{x}<br>Both_Sexes_No=%{y}<extra></extra>\",\"legendgroup\":\"80 to 84 years\",\"line\":{\"color\":\"#FF6692\",\"dash\":\"solid\"},\"marker\":{\"symbol\":\"circle\"},\"mode\":\"lines+markers\",\"name\":\"80 to 84 years\",\"orientation\":\"v\",\"showlegend\":true,\"x\":[\"2009\",\"2010\",\"2011\",\"2012\",\"2013\",\"2014\",\"2015\",\"2016\",\"2017\",\"2018\",\"2019\"],\"xaxis\":\"x\",\"y\":[5676.0,5783.0,5719.0,5786.0,5692.0,5627.0,5480.0,5637.0,5645.0,5647.0,6050.0],\"yaxis\":\"y\",\"type\":\"scatter\"},{\"hovertemplate\":\"Age=85 years and over<br>Year=%{x}<br>Both_Sexes_No=%{y}<extra></extra>\",\"legendgroup\":\"85 years and over\",\"line\":{\"color\":\"#B6E880\",\"dash\":\"solid\"},\"marker\":{\"symbol\":\"circle\"},\"mode\":\"lines+markers\",\"name\":\"85 years and over\",\"orientation\":\"v\",\"showlegend\":true,\"x\":[\"2009\",\"2010\",\"2011\",\"2012\",\"2013\",\"2014\",\"2015\",\"2016\",\"2017\",\"2018\",\"2019\"],\"xaxis\":\"x\",\"y\":[4378.0,4693.0,4957.0,5006.0,5296.0,5255.0,5575.0,5547.0,5872.0,6154.0,5893.0],\"yaxis\":\"y\",\"type\":\"scatter\"},{\"hovertemplate\":\"Age=Under 15 years<br>Year=%{x}<br>Both_Sexes_No=%{y}<extra></extra>\",\"legendgroup\":\"Under 15 years\",\"line\":{\"color\":\"#FF97FF\",\"dash\":\"solid\"},\"marker\":{\"symbol\":\"circle\"},\"mode\":\"lines+markers\",\"name\":\"Under 15 years\",\"orientation\":\"v\",\"showlegend\":true,\"x\":[\"2009\",\"2010\",\"2011\",\"2012\",\"2013\",\"2014\",\"2015\",\"2016\",\"2017\",\"2018\",\"2019\"],\"xaxis\":\"x\",\"y\":[61339.0,62112.0,62155.0,61131.0,61093.0,61029.0,60980.0,60965.0,60969.0,60984.0,60774.0],\"yaxis\":\"y\",\"type\":\"scatter\"},{\"hovertemplate\":\"Age=15 to 17 years<br>Year=%{x}<br>Both_Sexes_No=%{y}<extra></extra>\",\"legendgroup\":\"15 to 17 years\",\"line\":{\"color\":\"#FECB52\",\"dash\":\"solid\"},\"marker\":{\"symbol\":\"circle\"},\"mode\":\"lines+markers\",\"name\":\"15 to 17 years\",\"orientation\":\"v\",\"showlegend\":true,\"x\":[\"2009\",\"2010\",\"2011\",\"2012\",\"2013\",\"2014\",\"2015\",\"2016\",\"2017\",\"2018\",\"2019\"],\"xaxis\":\"x\",\"y\":[13171.0,12928.0,12761.0,12977.0,13094.0,12924.0,12940.0,13097.0,13078.0,12979.0,13018.0],\"yaxis\":\"y\",\"type\":\"scatter\"},{\"hovertemplate\":\"Age=18 to 20 years<br>Year=%{x}<br>Both_Sexes_No=%{y}<extra></extra>\",\"legendgroup\":\"18 to 20 years\",\"line\":{\"color\":\"#636efa\",\"dash\":\"solid\"},\"marker\":{\"symbol\":\"circle\"},\"mode\":\"lines+markers\",\"name\":\"18 to 20 years\",\"orientation\":\"v\",\"showlegend\":true,\"x\":[\"2009\",\"2010\",\"2011\",\"2012\",\"2013\",\"2014\",\"2015\",\"2016\",\"2017\",\"2018\",\"2019\"],\"xaxis\":\"x\",\"y\":[12110.0,12542.0,12515.0,12756.0,12136.0,12249.0,12182.0,12354.0,11983.0,12243.0,11851.0],\"yaxis\":\"y\",\"type\":\"scatter\"},{\"hovertemplate\":\"Age=21 to 44 years<br>Year=%{x}<br>Both_Sexes_No=%{y}<extra></extra>\",\"legendgroup\":\"21 to 44 years\",\"line\":{\"color\":\"#EF553B\",\"dash\":\"solid\"},\"marker\":{\"symbol\":\"circle\"},\"mode\":\"lines+markers\",\"name\":\"21 to 44 years\",\"orientation\":\"v\",\"showlegend\":true,\"x\":[\"2009\",\"2010\",\"2011\",\"2012\",\"2013\",\"2014\",\"2015\",\"2016\",\"2017\",\"2018\",\"2019\"],\"xaxis\":\"x\",\"y\":[98420.0,98303.0,98562.0,98530.0,99569.0,100150.0,100858.0,101205.0,101718.0,102633.0,103469.0],\"yaxis\":\"y\",\"type\":\"scatter\"},{\"hovertemplate\":\"Age=45 to 64 years<br>Year=%{x}<br>Both_Sexes_No=%{y}<extra></extra>\",\"legendgroup\":\"45 to 64 years\",\"line\":{\"color\":\"#00cc96\",\"dash\":\"solid\"},\"marker\":{\"symbol\":\"circle\"},\"mode\":\"lines+markers\",\"name\":\"45 to 64 years\",\"orientation\":\"v\",\"showlegend\":true,\"x\":[\"2009\",\"2010\",\"2011\",\"2012\",\"2013\",\"2014\",\"2015\",\"2016\",\"2017\",\"2018\",\"2019\"],\"xaxis\":\"x\",\"y\":[78655.0,79782.0,80939.0,81926.0,81937.0,82572.0,83213.0,83701.0,83351.0,83237.0,82455.0],\"yaxis\":\"y\",\"type\":\"scatter\"},{\"hovertemplate\":\"Age=65 years and over<br>Year=%{x}<br>Both_Sexes_No=%{y}<extra></extra>\",\"legendgroup\":\"65 years and over\",\"line\":{\"color\":\"#ab63fa\",\"dash\":\"solid\"},\"marker\":{\"symbol\":\"circle\"},\"mode\":\"lines+markers\",\"name\":\"65 years and over\",\"orientation\":\"v\",\"showlegend\":true,\"x\":[\"2009\",\"2010\",\"2011\",\"2012\",\"2013\",\"2014\",\"2015\",\"2016\",\"2017\",\"2018\",\"2019\"],\"xaxis\":\"x\",\"y\":[37788.0,38613.0,39179.0,41507.0,43287.0,44477.0,45994.0,47547.0,49274.0,51080.0,52788.0],\"yaxis\":\"y\",\"type\":\"scatter\"}],                        {\"template\":{\"data\":{\"bar\":[{\"error_x\":{\"color\":\"#2a3f5f\"},\"error_y\":{\"color\":\"#2a3f5f\"},\"marker\":{\"line\":{\"color\":\"#E5ECF6\",\"width\":0.5},\"pattern\":{\"fillmode\":\"overlay\",\"size\":10,\"solidity\":0.2}},\"type\":\"bar\"}],\"barpolar\":[{\"marker\":{\"line\":{\"color\":\"#E5ECF6\",\"width\":0.5},\"pattern\":{\"fillmode\":\"overlay\",\"size\":10,\"solidity\":0.2}},\"type\":\"barpolar\"}],\"carpet\":[{\"aaxis\":{\"endlinecolor\":\"#2a3f5f\",\"gridcolor\":\"white\",\"linecolor\":\"white\",\"minorgridcolor\":\"white\",\"startlinecolor\":\"#2a3f5f\"},\"baxis\":{\"endlinecolor\":\"#2a3f5f\",\"gridcolor\":\"white\",\"linecolor\":\"white\",\"minorgridcolor\":\"white\",\"startlinecolor\":\"#2a3f5f\"},\"type\":\"carpet\"}],\"choropleth\":[{\"colorbar\":{\"outlinewidth\":0,\"ticks\":\"\"},\"type\":\"choropleth\"}],\"contour\":[{\"colorbar\":{\"outlinewidth\":0,\"ticks\":\"\"},\"colorscale\":[[0.0,\"#0d0887\"],[0.1111111111111111,\"#46039f\"],[0.2222222222222222,\"#7201a8\"],[0.3333333333333333,\"#9c179e\"],[0.4444444444444444,\"#bd3786\"],[0.5555555555555556,\"#d8576b\"],[0.6666666666666666,\"#ed7953\"],[0.7777777777777778,\"#fb9f3a\"],[0.8888888888888888,\"#fdca26\"],[1.0,\"#f0f921\"]],\"type\":\"contour\"}],\"contourcarpet\":[{\"colorbar\":{\"outlinewidth\":0,\"ticks\":\"\"},\"type\":\"contourcarpet\"}],\"heatmap\":[{\"colorbar\":{\"outlinewidth\":0,\"ticks\":\"\"},\"colorscale\":[[0.0,\"#0d0887\"],[0.1111111111111111,\"#46039f\"],[0.2222222222222222,\"#7201a8\"],[0.3333333333333333,\"#9c179e\"],[0.4444444444444444,\"#bd3786\"],[0.5555555555555556,\"#d8576b\"],[0.6666666666666666,\"#ed7953\"],[0.7777777777777778,\"#fb9f3a\"],[0.8888888888888888,\"#fdca26\"],[1.0,\"#f0f921\"]],\"type\":\"heatmap\"}],\"heatmapgl\":[{\"colorbar\":{\"outlinewidth\":0,\"ticks\":\"\"},\"colorscale\":[[0.0,\"#0d0887\"],[0.1111111111111111,\"#46039f\"],[0.2222222222222222,\"#7201a8\"],[0.3333333333333333,\"#9c179e\"],[0.4444444444444444,\"#bd3786\"],[0.5555555555555556,\"#d8576b\"],[0.6666666666666666,\"#ed7953\"],[0.7777777777777778,\"#fb9f3a\"],[0.8888888888888888,\"#fdca26\"],[1.0,\"#f0f921\"]],\"type\":\"heatmapgl\"}],\"histogram\":[{\"marker\":{\"pattern\":{\"fillmode\":\"overlay\",\"size\":10,\"solidity\":0.2}},\"type\":\"histogram\"}],\"histogram2d\":[{\"colorbar\":{\"outlinewidth\":0,\"ticks\":\"\"},\"colorscale\":[[0.0,\"#0d0887\"],[0.1111111111111111,\"#46039f\"],[0.2222222222222222,\"#7201a8\"],[0.3333333333333333,\"#9c179e\"],[0.4444444444444444,\"#bd3786\"],[0.5555555555555556,\"#d8576b\"],[0.6666666666666666,\"#ed7953\"],[0.7777777777777778,\"#fb9f3a\"],[0.8888888888888888,\"#fdca26\"],[1.0,\"#f0f921\"]],\"type\":\"histogram2d\"}],\"histogram2dcontour\":[{\"colorbar\":{\"outlinewidth\":0,\"ticks\":\"\"},\"colorscale\":[[0.0,\"#0d0887\"],[0.1111111111111111,\"#46039f\"],[0.2222222222222222,\"#7201a8\"],[0.3333333333333333,\"#9c179e\"],[0.4444444444444444,\"#bd3786\"],[0.5555555555555556,\"#d8576b\"],[0.6666666666666666,\"#ed7953\"],[0.7777777777777778,\"#fb9f3a\"],[0.8888888888888888,\"#fdca26\"],[1.0,\"#f0f921\"]],\"type\":\"histogram2dcontour\"}],\"mesh3d\":[{\"colorbar\":{\"outlinewidth\":0,\"ticks\":\"\"},\"type\":\"mesh3d\"}],\"parcoords\":[{\"line\":{\"colorbar\":{\"outlinewidth\":0,\"ticks\":\"\"}},\"type\":\"parcoords\"}],\"pie\":[{\"automargin\":true,\"type\":\"pie\"}],\"scatter\":[{\"marker\":{\"colorbar\":{\"outlinewidth\":0,\"ticks\":\"\"}},\"type\":\"scatter\"}],\"scatter3d\":[{\"line\":{\"colorbar\":{\"outlinewidth\":0,\"ticks\":\"\"}},\"marker\":{\"colorbar\":{\"outlinewidth\":0,\"ticks\":\"\"}},\"type\":\"scatter3d\"}],\"scattercarpet\":[{\"marker\":{\"colorbar\":{\"outlinewidth\":0,\"ticks\":\"\"}},\"type\":\"scattercarpet\"}],\"scattergeo\":[{\"marker\":{\"colorbar\":{\"outlinewidth\":0,\"ticks\":\"\"}},\"type\":\"scattergeo\"}],\"scattergl\":[{\"marker\":{\"colorbar\":{\"outlinewidth\":0,\"ticks\":\"\"}},\"type\":\"scattergl\"}],\"scattermapbox\":[{\"marker\":{\"colorbar\":{\"outlinewidth\":0,\"ticks\":\"\"}},\"type\":\"scattermapbox\"}],\"scatterpolar\":[{\"marker\":{\"colorbar\":{\"outlinewidth\":0,\"ticks\":\"\"}},\"type\":\"scatterpolar\"}],\"scatterpolargl\":[{\"marker\":{\"colorbar\":{\"outlinewidth\":0,\"ticks\":\"\"}},\"type\":\"scatterpolargl\"}],\"scatterternary\":[{\"marker\":{\"colorbar\":{\"outlinewidth\":0,\"ticks\":\"\"}},\"type\":\"scatterternary\"}],\"surface\":[{\"colorbar\":{\"outlinewidth\":0,\"ticks\":\"\"},\"colorscale\":[[0.0,\"#0d0887\"],[0.1111111111111111,\"#46039f\"],[0.2222222222222222,\"#7201a8\"],[0.3333333333333333,\"#9c179e\"],[0.4444444444444444,\"#bd3786\"],[0.5555555555555556,\"#d8576b\"],[0.6666666666666666,\"#ed7953\"],[0.7777777777777778,\"#fb9f3a\"],[0.8888888888888888,\"#fdca26\"],[1.0,\"#f0f921\"]],\"type\":\"surface\"}],\"table\":[{\"cells\":{\"fill\":{\"color\":\"#EBF0F8\"},\"line\":{\"color\":\"white\"}},\"header\":{\"fill\":{\"color\":\"#C8D4E3\"},\"line\":{\"color\":\"white\"}},\"type\":\"table\"}]},\"layout\":{\"annotationdefaults\":{\"arrowcolor\":\"#2a3f5f\",\"arrowhead\":0,\"arrowwidth\":1},\"autotypenumbers\":\"strict\",\"coloraxis\":{\"colorbar\":{\"outlinewidth\":0,\"ticks\":\"\"}},\"colorscale\":{\"diverging\":[[0,\"#8e0152\"],[0.1,\"#c51b7d\"],[0.2,\"#de77ae\"],[0.3,\"#f1b6da\"],[0.4,\"#fde0ef\"],[0.5,\"#f7f7f7\"],[0.6,\"#e6f5d0\"],[0.7,\"#b8e186\"],[0.8,\"#7fbc41\"],[0.9,\"#4d9221\"],[1,\"#276419\"]],\"sequential\":[[0.0,\"#0d0887\"],[0.1111111111111111,\"#46039f\"],[0.2222222222222222,\"#7201a8\"],[0.3333333333333333,\"#9c179e\"],[0.4444444444444444,\"#bd3786\"],[0.5555555555555556,\"#d8576b\"],[0.6666666666666666,\"#ed7953\"],[0.7777777777777778,\"#fb9f3a\"],[0.8888888888888888,\"#fdca26\"],[1.0,\"#f0f921\"]],\"sequentialminus\":[[0.0,\"#0d0887\"],[0.1111111111111111,\"#46039f\"],[0.2222222222222222,\"#7201a8\"],[0.3333333333333333,\"#9c179e\"],[0.4444444444444444,\"#bd3786\"],[0.5555555555555556,\"#d8576b\"],[0.6666666666666666,\"#ed7953\"],[0.7777777777777778,\"#fb9f3a\"],[0.8888888888888888,\"#fdca26\"],[1.0,\"#f0f921\"]]},\"colorway\":[\"#636efa\",\"#EF553B\",\"#00cc96\",\"#ab63fa\",\"#FFA15A\",\"#19d3f3\",\"#FF6692\",\"#B6E880\",\"#FF97FF\",\"#FECB52\"],\"font\":{\"color\":\"#2a3f5f\"},\"geo\":{\"bgcolor\":\"white\",\"lakecolor\":\"white\",\"landcolor\":\"#E5ECF6\",\"showlakes\":true,\"showland\":true,\"subunitcolor\":\"white\"},\"hoverlabel\":{\"align\":\"left\"},\"hovermode\":\"closest\",\"mapbox\":{\"style\":\"light\"},\"paper_bgcolor\":\"white\",\"plot_bgcolor\":\"#E5ECF6\",\"polar\":{\"angularaxis\":{\"gridcolor\":\"white\",\"linecolor\":\"white\",\"ticks\":\"\"},\"bgcolor\":\"#E5ECF6\",\"radialaxis\":{\"gridcolor\":\"white\",\"linecolor\":\"white\",\"ticks\":\"\"}},\"scene\":{\"xaxis\":{\"backgroundcolor\":\"#E5ECF6\",\"gridcolor\":\"white\",\"gridwidth\":2,\"linecolor\":\"white\",\"showbackground\":true,\"ticks\":\"\",\"zerolinecolor\":\"white\"},\"yaxis\":{\"backgroundcolor\":\"#E5ECF6\",\"gridcolor\":\"white\",\"gridwidth\":2,\"linecolor\":\"white\",\"showbackground\":true,\"ticks\":\"\",\"zerolinecolor\":\"white\"},\"zaxis\":{\"backgroundcolor\":\"#E5ECF6\",\"gridcolor\":\"white\",\"gridwidth\":2,\"linecolor\":\"white\",\"showbackground\":true,\"ticks\":\"\",\"zerolinecolor\":\"white\"}},\"shapedefaults\":{\"line\":{\"color\":\"#2a3f5f\"}},\"ternary\":{\"aaxis\":{\"gridcolor\":\"white\",\"linecolor\":\"white\",\"ticks\":\"\"},\"baxis\":{\"gridcolor\":\"white\",\"linecolor\":\"white\",\"ticks\":\"\"},\"bgcolor\":\"#E5ECF6\",\"caxis\":{\"gridcolor\":\"white\",\"linecolor\":\"white\",\"ticks\":\"\"}},\"title\":{\"x\":0.05},\"xaxis\":{\"automargin\":true,\"gridcolor\":\"white\",\"linecolor\":\"white\",\"ticks\":\"\",\"title\":{\"standoff\":15},\"zerolinecolor\":\"white\",\"zerolinewidth\":2},\"yaxis\":{\"automargin\":true,\"gridcolor\":\"white\",\"linecolor\":\"white\",\"ticks\":\"\",\"title\":{\"standoff\":15},\"zerolinecolor\":\"white\",\"zerolinewidth\":2}}},\"xaxis\":{\"anchor\":\"y\",\"domain\":[0.0,1.0],\"title\":{\"text\":\"Year\"}},\"yaxis\":{\"anchor\":\"x\",\"domain\":[0.0,1.0],\"title\":{\"text\":\"Both_Sexes_No\"}},\"legend\":{\"title\":{\"text\":\"Age\"},\"tracegroupgap\":0},\"margin\":{\"t\":60}},                        {\"responsive\": true}                    ).then(function(){\n",
              "                            \n",
              "var gd = document.getElementById('0218ad31-2700-4c34-9055-05a3560adb5d');\n",
              "var x = new MutationObserver(function (mutations, observer) {{\n",
              "        var display = window.getComputedStyle(gd).display;\n",
              "        if (!display || display === 'none') {{\n",
              "            console.log([gd, 'removed!']);\n",
              "            Plotly.purge(gd);\n",
              "            observer.disconnect();\n",
              "        }}\n",
              "}});\n",
              "\n",
              "// Listen for the removal of the full notebook cells\n",
              "var notebookContainer = gd.closest('#notebook-container');\n",
              "if (notebookContainer) {{\n",
              "    x.observe(notebookContainer, {childList: true});\n",
              "}}\n",
              "\n",
              "// Listen for the clearing of the current output cell\n",
              "var outputEl = gd.closest('.output');\n",
              "if (outputEl) {{\n",
              "    x.observe(outputEl, {childList: true});\n",
              "}}\n",
              "\n",
              "                        })                };                            </script>        </div>\n",
              "</body>\n",
              "</html>"
            ]
          },
          "metadata": {}
        }
      ]
    },
    {
      "cell_type": "code",
      "source": [
        ""
      ],
      "metadata": {
        "id": "nLzYoSnBEOCc"
      },
      "execution_count": null,
      "outputs": []
    }
  ]
}