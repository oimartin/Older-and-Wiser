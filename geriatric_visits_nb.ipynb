{
  "nbformat": 4,
  "nbformat_minor": 0,
  "metadata": {
    "colab": {
      "name": "geriatric_visits_nb",
      "provenance": [],
      "authorship_tag": "ABX9TyOPkZrIp+wZpOrSWTTCcB59",
      "include_colab_link": true
    },
    "kernelspec": {
      "name": "python3",
      "display_name": "Python 3"
    },
    "language_info": {
      "name": "python"
    }
  },
  "cells": [
    {
      "cell_type": "markdown",
      "metadata": {
        "id": "view-in-github",
        "colab_type": "text"
      },
      "source": [
        "<a href=\"https://colab.research.google.com/github/oimartin/Older-and-Wiser/blob/geriatric_visits/geriatric_visits_nb.ipynb\" target=\"_parent\"><img src=\"https://colab.research.google.com/assets/colab-badge.svg\" alt=\"Open In Colab\"/></a>"
      ]
    },
    {
      "cell_type": "markdown",
      "source": [
        "# Load Data\n",
        "Geriatric visits data: https://data.cms.gov/provider-data/dataset/bce0-b5db\n",
        "<br>\n",
        "Zip code/ State data: https://www.irs.gov/statistics/soi-tax-stats-individual-income-tax-statistics-2019-zip-code-data-soi"
      ],
      "metadata": {
        "id": "wgo3SRtuB5gb"
      }
    },
    {
      "cell_type": "code",
      "execution_count": 1,
      "metadata": {
        "id": "E9sXflg1Bzc8"
      },
      "outputs": [],
      "source": [
        "import pandas as pd\n",
        "import numpy as np\n",
        "import plotly.express as px\n",
        "import matplotlib.pyplot as plt"
      ]
    },
    {
      "cell_type": "code",
      "source": [
        "visits = pd.read_csv(\"https://raw.githubusercontent.com/oimartin/Older-and-Wiser/geriatric_visits/data/Geriatric_Medicine.csv\")\n",
        "zip_codes = pd.read_csv('https://raw.githubusercontent.com/oimartin/Older-and-Wiser/geriatric_visits/data/all_states_only_zip_codes.csv')"
      ],
      "metadata": {
        "id": "ky0AvHomB42t"
      },
      "execution_count": 2,
      "outputs": []
    },
    {
      "cell_type": "markdown",
      "source": [
        "# EDA"
      ],
      "metadata": {
        "id": "yX4xwz0IFT3R"
      }
    },
    {
      "cell_type": "markdown",
      "source": [
        "## Geriatric Visits"
      ],
      "metadata": {
        "id": "ypISOlN4fYsr"
      }
    },
    {
      "cell_type": "code",
      "source": [
        "# First look at data\n",
        "display(visits.info())\n",
        "print(\" \")\n",
        "print(\" \")\n",
        "\n",
        "display(visits.describe())\n",
        "print(\" \")\n",
        "print(\" \")\n",
        "\n",
        "# Only two codes used, new and existing patients\n",
        "print(\"most_utilized_procedure_code_for_new_patient\")\n",
        "display(visits.iloc[:, 7].value_counts())\n",
        "print(\"most_utilized_procedure_code_for_established_patient\")\n",
        "display(visits.iloc[:, 14].value_counts())"
      ],
      "metadata": {
        "colab": {
          "base_uri": "https://localhost:8080/",
          "height": 966
        },
        "id": "1GOB6OrjCD7w",
        "outputId": "b6bb5694-6394-4c34-d1ba-cbaae5f7da31"
      },
      "execution_count": 3,
      "outputs": [
        {
          "output_type": "stream",
          "name": "stdout",
          "text": [
            "<class 'pandas.core.frame.DataFrame'>\n",
            "RangeIndex: 42959 entries, 0 to 42958\n",
            "Data columns (total 15 columns):\n",
            " #   Column                                                Non-Null Count  Dtype  \n",
            "---  ------                                                --------------  -----  \n",
            " 0   zip_code                                              42959 non-null  int64  \n",
            " 1   min_medicare_pricing_for_new_patient                  42959 non-null  float64\n",
            " 2   max_medicare_pricing_for_new_patient                  42959 non-null  float64\n",
            " 3   mode_medicare_pricing_for_new_patient                 42959 non-null  float64\n",
            " 4   min_copay_for_new_patient                             42959 non-null  float64\n",
            " 5   max_copay_for_new_patient                             42959 non-null  float64\n",
            " 6   mode_copay_for_new_patient                            42959 non-null  float64\n",
            " 7   most_utilized_procedure_code_for_new_patient          42959 non-null  int64  \n",
            " 8   min_medicare_pricing_for_established_patient          42959 non-null  float64\n",
            " 9   max_medicare_pricing_for_established_patient          42959 non-null  float64\n",
            " 10  mode_medicare_pricing_for_established_patient         42959 non-null  float64\n",
            " 11  min_copay_for_established_patient                     42959 non-null  float64\n",
            " 12  max_copay_for_established_patient                     42959 non-null  float64\n",
            " 13  mode_copay_for_established_patient                    42959 non-null  float64\n",
            " 14  most_utilized_procedure_code_for_established_patient  42959 non-null  int64  \n",
            "dtypes: float64(12), int64(3)\n",
            "memory usage: 4.9 MB\n"
          ]
        },
        {
          "output_type": "display_data",
          "data": {
            "text/plain": [
              "None"
            ]
          },
          "metadata": {}
        },
        {
          "output_type": "stream",
          "name": "stdout",
          "text": [
            " \n",
            " \n"
          ]
        },
        {
          "output_type": "display_data",
          "data": {
            "text/plain": [
              "           zip_code  min_medicare_pricing_for_new_patient  \\\n",
              "count  42959.000000                          42959.000000   \n",
              "mean   49591.379245                             58.238339   \n",
              "std    27974.499582                              4.045550   \n",
              "min      210.000000                             53.136000   \n",
              "25%    26037.500000                             55.312000   \n",
              "50%    48815.000000                             56.936000   \n",
              "75%    73042.500000                             59.432000   \n",
              "max    99950.000000                             74.816000   \n",
              "\n",
              "       max_medicare_pricing_for_new_patient  \\\n",
              "count                          42959.000000   \n",
              "mean                             177.239252   \n",
              "std                               11.124559   \n",
              "min                              163.672000   \n",
              "25%                              169.736000   \n",
              "50%                              174.056000   \n",
              "75%                              180.408000   \n",
              "max                              233.632000   \n",
              "\n",
              "       mode_medicare_pricing_for_new_patient  min_copay_for_new_patient  \\\n",
              "count                           42959.000000               42959.000000   \n",
              "mean                              177.239252                  14.559585   \n",
              "std                                11.124559                   1.011387   \n",
              "min                               163.672000                  13.284000   \n",
              "25%                               169.736000                  13.828000   \n",
              "50%                               174.056000                  14.234000   \n",
              "75%                               180.408000                  14.858000   \n",
              "max                               233.632000                  18.704000   \n",
              "\n",
              "       max_copay_for_new_patient  mode_copay_for_new_patient  \\\n",
              "count               42959.000000                42959.000000   \n",
              "mean                   44.309813                   44.309813   \n",
              "std                     2.781140                    2.781140   \n",
              "min                    40.918000                   40.918000   \n",
              "25%                    42.434000                   42.434000   \n",
              "50%                    43.514000                   43.514000   \n",
              "75%                    45.102000                   45.102000   \n",
              "max                    58.408000                   58.408000   \n",
              "\n",
              "       most_utilized_procedure_code_for_new_patient  \\\n",
              "count                                       42959.0   \n",
              "mean                                        99205.0   \n",
              "std                                             0.0   \n",
              "min                                         99205.0   \n",
              "25%                                         99205.0   \n",
              "50%                                         99205.0   \n",
              "75%                                         99205.0   \n",
              "max                                         99205.0   \n",
              "\n",
              "       min_medicare_pricing_for_established_patient  \\\n",
              "count                                  42959.000000   \n",
              "mean                                      18.073701   \n",
              "std                                        1.459078   \n",
              "min                                       16.256000   \n",
              "25%                                       17.040000   \n",
              "50%                                       17.616000   \n",
              "75%                                       18.544000   \n",
              "max                                       23.768000   \n",
              "\n",
              "       max_medicare_pricing_for_established_patient  \\\n",
              "count                                  42959.000000   \n",
              "mean                                     144.793623   \n",
              "std                                        9.072558   \n",
              "min                                      133.848000   \n",
              "25%                                      138.800000   \n",
              "50%                                      142.080000   \n",
              "75%                                      147.312000   \n",
              "max                                      190.744000   \n",
              "\n",
              "       mode_medicare_pricing_for_established_patient  \\\n",
              "count                                   42959.000000   \n",
              "mean                                      103.643492   \n",
              "std                                         6.628021   \n",
              "min                                        95.608000   \n",
              "25%                                        98.992000   \n",
              "50%                                       101.496000   \n",
              "75%                                       105.648000   \n",
              "max                                       135.848000   \n",
              "\n",
              "       min_copay_for_established_patient  max_copay_for_established_patient  \\\n",
              "count                       42959.000000                       42959.000000   \n",
              "mean                            4.518425                          36.198406   \n",
              "std                             0.364770                           2.268139   \n",
              "min                             4.064000                          33.462000   \n",
              "25%                             4.260000                          34.700000   \n",
              "50%                             4.404000                          35.520000   \n",
              "75%                             4.636000                          36.828000   \n",
              "max                             5.942000                          47.686000   \n",
              "\n",
              "       mode_copay_for_established_patient  \\\n",
              "count                        42959.000000   \n",
              "mean                            25.910873   \n",
              "std                              1.657005   \n",
              "min                             23.902000   \n",
              "25%                             24.748000   \n",
              "50%                             25.374000   \n",
              "75%                             26.412000   \n",
              "max                             33.962000   \n",
              "\n",
              "       most_utilized_procedure_code_for_established_patient  \n",
              "count                                            42959.0     \n",
              "mean                                             99214.0     \n",
              "std                                                  0.0     \n",
              "min                                              99214.0     \n",
              "25%                                              99214.0     \n",
              "50%                                              99214.0     \n",
              "75%                                              99214.0     \n",
              "max                                              99214.0     "
            ],
            "text/html": [
              "\n",
              "  <div id=\"df-9bf26fdf-6660-4efb-a0b0-9a56a4a9c33c\">\n",
              "    <div class=\"colab-df-container\">\n",
              "      <div>\n",
              "<style scoped>\n",
              "    .dataframe tbody tr th:only-of-type {\n",
              "        vertical-align: middle;\n",
              "    }\n",
              "\n",
              "    .dataframe tbody tr th {\n",
              "        vertical-align: top;\n",
              "    }\n",
              "\n",
              "    .dataframe thead th {\n",
              "        text-align: right;\n",
              "    }\n",
              "</style>\n",
              "<table border=\"1\" class=\"dataframe\">\n",
              "  <thead>\n",
              "    <tr style=\"text-align: right;\">\n",
              "      <th></th>\n",
              "      <th>zip_code</th>\n",
              "      <th>min_medicare_pricing_for_new_patient</th>\n",
              "      <th>max_medicare_pricing_for_new_patient</th>\n",
              "      <th>mode_medicare_pricing_for_new_patient</th>\n",
              "      <th>min_copay_for_new_patient</th>\n",
              "      <th>max_copay_for_new_patient</th>\n",
              "      <th>mode_copay_for_new_patient</th>\n",
              "      <th>most_utilized_procedure_code_for_new_patient</th>\n",
              "      <th>min_medicare_pricing_for_established_patient</th>\n",
              "      <th>max_medicare_pricing_for_established_patient</th>\n",
              "      <th>mode_medicare_pricing_for_established_patient</th>\n",
              "      <th>min_copay_for_established_patient</th>\n",
              "      <th>max_copay_for_established_patient</th>\n",
              "      <th>mode_copay_for_established_patient</th>\n",
              "      <th>most_utilized_procedure_code_for_established_patient</th>\n",
              "    </tr>\n",
              "  </thead>\n",
              "  <tbody>\n",
              "    <tr>\n",
              "      <th>count</th>\n",
              "      <td>42959.000000</td>\n",
              "      <td>42959.000000</td>\n",
              "      <td>42959.000000</td>\n",
              "      <td>42959.000000</td>\n",
              "      <td>42959.000000</td>\n",
              "      <td>42959.000000</td>\n",
              "      <td>42959.000000</td>\n",
              "      <td>42959.0</td>\n",
              "      <td>42959.000000</td>\n",
              "      <td>42959.000000</td>\n",
              "      <td>42959.000000</td>\n",
              "      <td>42959.000000</td>\n",
              "      <td>42959.000000</td>\n",
              "      <td>42959.000000</td>\n",
              "      <td>42959.0</td>\n",
              "    </tr>\n",
              "    <tr>\n",
              "      <th>mean</th>\n",
              "      <td>49591.379245</td>\n",
              "      <td>58.238339</td>\n",
              "      <td>177.239252</td>\n",
              "      <td>177.239252</td>\n",
              "      <td>14.559585</td>\n",
              "      <td>44.309813</td>\n",
              "      <td>44.309813</td>\n",
              "      <td>99205.0</td>\n",
              "      <td>18.073701</td>\n",
              "      <td>144.793623</td>\n",
              "      <td>103.643492</td>\n",
              "      <td>4.518425</td>\n",
              "      <td>36.198406</td>\n",
              "      <td>25.910873</td>\n",
              "      <td>99214.0</td>\n",
              "    </tr>\n",
              "    <tr>\n",
              "      <th>std</th>\n",
              "      <td>27974.499582</td>\n",
              "      <td>4.045550</td>\n",
              "      <td>11.124559</td>\n",
              "      <td>11.124559</td>\n",
              "      <td>1.011387</td>\n",
              "      <td>2.781140</td>\n",
              "      <td>2.781140</td>\n",
              "      <td>0.0</td>\n",
              "      <td>1.459078</td>\n",
              "      <td>9.072558</td>\n",
              "      <td>6.628021</td>\n",
              "      <td>0.364770</td>\n",
              "      <td>2.268139</td>\n",
              "      <td>1.657005</td>\n",
              "      <td>0.0</td>\n",
              "    </tr>\n",
              "    <tr>\n",
              "      <th>min</th>\n",
              "      <td>210.000000</td>\n",
              "      <td>53.136000</td>\n",
              "      <td>163.672000</td>\n",
              "      <td>163.672000</td>\n",
              "      <td>13.284000</td>\n",
              "      <td>40.918000</td>\n",
              "      <td>40.918000</td>\n",
              "      <td>99205.0</td>\n",
              "      <td>16.256000</td>\n",
              "      <td>133.848000</td>\n",
              "      <td>95.608000</td>\n",
              "      <td>4.064000</td>\n",
              "      <td>33.462000</td>\n",
              "      <td>23.902000</td>\n",
              "      <td>99214.0</td>\n",
              "    </tr>\n",
              "    <tr>\n",
              "      <th>25%</th>\n",
              "      <td>26037.500000</td>\n",
              "      <td>55.312000</td>\n",
              "      <td>169.736000</td>\n",
              "      <td>169.736000</td>\n",
              "      <td>13.828000</td>\n",
              "      <td>42.434000</td>\n",
              "      <td>42.434000</td>\n",
              "      <td>99205.0</td>\n",
              "      <td>17.040000</td>\n",
              "      <td>138.800000</td>\n",
              "      <td>98.992000</td>\n",
              "      <td>4.260000</td>\n",
              "      <td>34.700000</td>\n",
              "      <td>24.748000</td>\n",
              "      <td>99214.0</td>\n",
              "    </tr>\n",
              "    <tr>\n",
              "      <th>50%</th>\n",
              "      <td>48815.000000</td>\n",
              "      <td>56.936000</td>\n",
              "      <td>174.056000</td>\n",
              "      <td>174.056000</td>\n",
              "      <td>14.234000</td>\n",
              "      <td>43.514000</td>\n",
              "      <td>43.514000</td>\n",
              "      <td>99205.0</td>\n",
              "      <td>17.616000</td>\n",
              "      <td>142.080000</td>\n",
              "      <td>101.496000</td>\n",
              "      <td>4.404000</td>\n",
              "      <td>35.520000</td>\n",
              "      <td>25.374000</td>\n",
              "      <td>99214.0</td>\n",
              "    </tr>\n",
              "    <tr>\n",
              "      <th>75%</th>\n",
              "      <td>73042.500000</td>\n",
              "      <td>59.432000</td>\n",
              "      <td>180.408000</td>\n",
              "      <td>180.408000</td>\n",
              "      <td>14.858000</td>\n",
              "      <td>45.102000</td>\n",
              "      <td>45.102000</td>\n",
              "      <td>99205.0</td>\n",
              "      <td>18.544000</td>\n",
              "      <td>147.312000</td>\n",
              "      <td>105.648000</td>\n",
              "      <td>4.636000</td>\n",
              "      <td>36.828000</td>\n",
              "      <td>26.412000</td>\n",
              "      <td>99214.0</td>\n",
              "    </tr>\n",
              "    <tr>\n",
              "      <th>max</th>\n",
              "      <td>99950.000000</td>\n",
              "      <td>74.816000</td>\n",
              "      <td>233.632000</td>\n",
              "      <td>233.632000</td>\n",
              "      <td>18.704000</td>\n",
              "      <td>58.408000</td>\n",
              "      <td>58.408000</td>\n",
              "      <td>99205.0</td>\n",
              "      <td>23.768000</td>\n",
              "      <td>190.744000</td>\n",
              "      <td>135.848000</td>\n",
              "      <td>5.942000</td>\n",
              "      <td>47.686000</td>\n",
              "      <td>33.962000</td>\n",
              "      <td>99214.0</td>\n",
              "    </tr>\n",
              "  </tbody>\n",
              "</table>\n",
              "</div>\n",
              "      <button class=\"colab-df-convert\" onclick=\"convertToInteractive('df-9bf26fdf-6660-4efb-a0b0-9a56a4a9c33c')\"\n",
              "              title=\"Convert this dataframe to an interactive table.\"\n",
              "              style=\"display:none;\">\n",
              "        \n",
              "  <svg xmlns=\"http://www.w3.org/2000/svg\" height=\"24px\"viewBox=\"0 0 24 24\"\n",
              "       width=\"24px\">\n",
              "    <path d=\"M0 0h24v24H0V0z\" fill=\"none\"/>\n",
              "    <path d=\"M18.56 5.44l.94 2.06.94-2.06 2.06-.94-2.06-.94-.94-2.06-.94 2.06-2.06.94zm-11 1L8.5 8.5l.94-2.06 2.06-.94-2.06-.94L8.5 2.5l-.94 2.06-2.06.94zm10 10l.94 2.06.94-2.06 2.06-.94-2.06-.94-.94-2.06-.94 2.06-2.06.94z\"/><path d=\"M17.41 7.96l-1.37-1.37c-.4-.4-.92-.59-1.43-.59-.52 0-1.04.2-1.43.59L10.3 9.45l-7.72 7.72c-.78.78-.78 2.05 0 2.83L4 21.41c.39.39.9.59 1.41.59.51 0 1.02-.2 1.41-.59l7.78-7.78 2.81-2.81c.8-.78.8-2.07 0-2.86zM5.41 20L4 18.59l7.72-7.72 1.47 1.35L5.41 20z\"/>\n",
              "  </svg>\n",
              "      </button>\n",
              "      \n",
              "  <style>\n",
              "    .colab-df-container {\n",
              "      display:flex;\n",
              "      flex-wrap:wrap;\n",
              "      gap: 12px;\n",
              "    }\n",
              "\n",
              "    .colab-df-convert {\n",
              "      background-color: #E8F0FE;\n",
              "      border: none;\n",
              "      border-radius: 50%;\n",
              "      cursor: pointer;\n",
              "      display: none;\n",
              "      fill: #1967D2;\n",
              "      height: 32px;\n",
              "      padding: 0 0 0 0;\n",
              "      width: 32px;\n",
              "    }\n",
              "\n",
              "    .colab-df-convert:hover {\n",
              "      background-color: #E2EBFA;\n",
              "      box-shadow: 0px 1px 2px rgba(60, 64, 67, 0.3), 0px 1px 3px 1px rgba(60, 64, 67, 0.15);\n",
              "      fill: #174EA6;\n",
              "    }\n",
              "\n",
              "    [theme=dark] .colab-df-convert {\n",
              "      background-color: #3B4455;\n",
              "      fill: #D2E3FC;\n",
              "    }\n",
              "\n",
              "    [theme=dark] .colab-df-convert:hover {\n",
              "      background-color: #434B5C;\n",
              "      box-shadow: 0px 1px 3px 1px rgba(0, 0, 0, 0.15);\n",
              "      filter: drop-shadow(0px 1px 2px rgba(0, 0, 0, 0.3));\n",
              "      fill: #FFFFFF;\n",
              "    }\n",
              "  </style>\n",
              "\n",
              "      <script>\n",
              "        const buttonEl =\n",
              "          document.querySelector('#df-9bf26fdf-6660-4efb-a0b0-9a56a4a9c33c button.colab-df-convert');\n",
              "        buttonEl.style.display =\n",
              "          google.colab.kernel.accessAllowed ? 'block' : 'none';\n",
              "\n",
              "        async function convertToInteractive(key) {\n",
              "          const element = document.querySelector('#df-9bf26fdf-6660-4efb-a0b0-9a56a4a9c33c');\n",
              "          const dataTable =\n",
              "            await google.colab.kernel.invokeFunction('convertToInteractive',\n",
              "                                                     [key], {});\n",
              "          if (!dataTable) return;\n",
              "\n",
              "          const docLinkHtml = 'Like what you see? Visit the ' +\n",
              "            '<a target=\"_blank\" href=https://colab.research.google.com/notebooks/data_table.ipynb>data table notebook</a>'\n",
              "            + ' to learn more about interactive tables.';\n",
              "          element.innerHTML = '';\n",
              "          dataTable['output_type'] = 'display_data';\n",
              "          await google.colab.output.renderOutput(dataTable, element);\n",
              "          const docLink = document.createElement('div');\n",
              "          docLink.innerHTML = docLinkHtml;\n",
              "          element.appendChild(docLink);\n",
              "        }\n",
              "      </script>\n",
              "    </div>\n",
              "  </div>\n",
              "  "
            ]
          },
          "metadata": {}
        },
        {
          "output_type": "stream",
          "name": "stdout",
          "text": [
            " \n",
            " \n",
            "most_utilized_procedure_code_for_new_patient\n"
          ]
        },
        {
          "output_type": "display_data",
          "data": {
            "text/plain": [
              "99205    42959\n",
              "Name: most_utilized_procedure_code_for_new_patient, dtype: int64"
            ]
          },
          "metadata": {}
        },
        {
          "output_type": "stream",
          "name": "stdout",
          "text": [
            "most_utilized_procedure_code_for_established_patient\n"
          ]
        },
        {
          "output_type": "display_data",
          "data": {
            "text/plain": [
              "99214    42959\n",
              "Name: most_utilized_procedure_code_for_established_patient, dtype: int64"
            ]
          },
          "metadata": {}
        }
      ]
    },
    {
      "cell_type": "code",
      "source": [
        "visits.nunique()"
      ],
      "metadata": {
        "colab": {
          "base_uri": "https://localhost:8080/"
        },
        "id": "2QgnigpQDvYy",
        "outputId": "87165cb0-a48f-499a-bd22-1d7ba043bf21"
      },
      "execution_count": 4,
      "outputs": [
        {
          "output_type": "execute_result",
          "data": {
            "text/plain": [
              "zip_code                                                42959\n",
              "min_medicare_pricing_for_new_patient                       95\n",
              "max_medicare_pricing_for_new_patient                       96\n",
              "mode_medicare_pricing_for_new_patient                      96\n",
              "min_copay_for_new_patient                                  95\n",
              "max_copay_for_new_patient                                  96\n",
              "mode_copay_for_new_patient                                 96\n",
              "most_utilized_procedure_code_for_new_patient                1\n",
              "min_medicare_pricing_for_established_patient               90\n",
              "max_medicare_pricing_for_established_patient               96\n",
              "mode_medicare_pricing_for_established_patient              96\n",
              "min_copay_for_established_patient                          90\n",
              "max_copay_for_established_patient                          96\n",
              "mode_copay_for_established_patient                         96\n",
              "most_utilized_procedure_code_for_established_patient        1\n",
              "dtype: int64"
            ]
          },
          "metadata": {},
          "execution_count": 4
        }
      ]
    },
    {
      "cell_type": "markdown",
      "source": [
        "<h1> Code Definitions </h1>\n",
        "<b>99214</b>: Established patient office visit, 30-39 minutes\n",
        "<br>\n",
        "<b>99205</b>: Typically 60 minutes, Comprehensive history, Comprehensive Examination, High complexity medical decision making"
      ],
      "metadata": {
        "id": "vEcQhkX-Ezec"
      }
    },
    {
      "cell_type": "markdown",
      "source": [
        "## Zip Codes"
      ],
      "metadata": {
        "id": "ZpBQ-LTCfb2W"
      }
    },
    {
      "cell_type": "code",
      "source": [
        "# Observe zip code data from 2019 IRS\n",
        "display(zip_codes.info())\n",
        "print(\" \")\n",
        "print(\" \")\n",
        "\n",
        "display(zip_codes.nunique())"
      ],
      "metadata": {
        "colab": {
          "base_uri": "https://localhost:8080/",
          "height": 327
        },
        "id": "z-Izy3FKfdmc",
        "outputId": "c02c2b4a-e016-4262-b533-06bc4f600161"
      },
      "execution_count": 5,
      "outputs": [
        {
          "output_type": "stream",
          "name": "stdout",
          "text": [
            "<class 'pandas.core.frame.DataFrame'>\n",
            "RangeIndex: 27695 entries, 0 to 27694\n",
            "Data columns (total 3 columns):\n",
            " #   Column     Non-Null Count  Dtype \n",
            "---  ------     --------------  ----- \n",
            " 0   STATEFIPS  27695 non-null  int64 \n",
            " 1   STATE      27695 non-null  object\n",
            " 2   ZIPCODE    27695 non-null  int64 \n",
            "dtypes: int64(2), object(1)\n",
            "memory usage: 649.2+ KB\n"
          ]
        },
        {
          "output_type": "display_data",
          "data": {
            "text/plain": [
              "None"
            ]
          },
          "metadata": {}
        },
        {
          "output_type": "stream",
          "name": "stdout",
          "text": [
            " \n",
            " \n"
          ]
        },
        {
          "output_type": "display_data",
          "data": {
            "text/plain": [
              "STATEFIPS       51\n",
              "STATE           51\n",
              "ZIPCODE      27595\n",
              "dtype: int64"
            ]
          },
          "metadata": {}
        }
      ]
    },
    {
      "cell_type": "code",
      "source": [
        "# Select for only zipcodes, not overall state data\n",
        "clean_zip = zip_codes[(zip_codes['ZIPCODE'] !=0) &\n",
        "                      (zip_codes['ZIPCODE'] !=99999)]\n",
        "display(clean_zip.info())\n",
        "print(\" \")\n",
        "print(\" \")\n",
        "display(clean_zip.nunique())\n",
        "display(clean_zip.describe())"
      ],
      "metadata": {
        "colab": {
          "base_uri": "https://localhost:8080/",
          "height": 610
        },
        "id": "_wgqOuHTfw3k",
        "outputId": "7e302542-ff87-41d9-acb2-b5cde4edfc5c"
      },
      "execution_count": 6,
      "outputs": [
        {
          "output_type": "stream",
          "name": "stdout",
          "text": [
            "<class 'pandas.core.frame.DataFrame'>\n",
            "Int64Index: 27593 entries, 1 to 27693\n",
            "Data columns (total 3 columns):\n",
            " #   Column     Non-Null Count  Dtype \n",
            "---  ------     --------------  ----- \n",
            " 0   STATEFIPS  27593 non-null  int64 \n",
            " 1   STATE      27593 non-null  object\n",
            " 2   ZIPCODE    27593 non-null  int64 \n",
            "dtypes: int64(2), object(1)\n",
            "memory usage: 862.3+ KB\n"
          ]
        },
        {
          "output_type": "display_data",
          "data": {
            "text/plain": [
              "None"
            ]
          },
          "metadata": {}
        },
        {
          "output_type": "stream",
          "name": "stdout",
          "text": [
            " \n",
            " \n"
          ]
        },
        {
          "output_type": "display_data",
          "data": {
            "text/plain": [
              "STATEFIPS       51\n",
              "STATE           51\n",
              "ZIPCODE      27593\n",
              "dtype: int64"
            ]
          },
          "metadata": {}
        },
        {
          "output_type": "display_data",
          "data": {
            "text/plain": [
              "          STATEFIPS       ZIPCODE\n",
              "count  27593.000000  27593.000000\n",
              "mean      29.669663  48856.241474\n",
              "std       15.119769  27047.660765\n",
              "min        1.000000   1001.000000\n",
              "25%       18.000000  27105.000000\n",
              "50%       29.000000  48845.000000\n",
              "75%       42.000000  70578.000000\n",
              "max       56.000000  99901.000000"
            ],
            "text/html": [
              "\n",
              "  <div id=\"df-d0d7501e-f30d-40ae-b00c-387ac6855a47\">\n",
              "    <div class=\"colab-df-container\">\n",
              "      <div>\n",
              "<style scoped>\n",
              "    .dataframe tbody tr th:only-of-type {\n",
              "        vertical-align: middle;\n",
              "    }\n",
              "\n",
              "    .dataframe tbody tr th {\n",
              "        vertical-align: top;\n",
              "    }\n",
              "\n",
              "    .dataframe thead th {\n",
              "        text-align: right;\n",
              "    }\n",
              "</style>\n",
              "<table border=\"1\" class=\"dataframe\">\n",
              "  <thead>\n",
              "    <tr style=\"text-align: right;\">\n",
              "      <th></th>\n",
              "      <th>STATEFIPS</th>\n",
              "      <th>ZIPCODE</th>\n",
              "    </tr>\n",
              "  </thead>\n",
              "  <tbody>\n",
              "    <tr>\n",
              "      <th>count</th>\n",
              "      <td>27593.000000</td>\n",
              "      <td>27593.000000</td>\n",
              "    </tr>\n",
              "    <tr>\n",
              "      <th>mean</th>\n",
              "      <td>29.669663</td>\n",
              "      <td>48856.241474</td>\n",
              "    </tr>\n",
              "    <tr>\n",
              "      <th>std</th>\n",
              "      <td>15.119769</td>\n",
              "      <td>27047.660765</td>\n",
              "    </tr>\n",
              "    <tr>\n",
              "      <th>min</th>\n",
              "      <td>1.000000</td>\n",
              "      <td>1001.000000</td>\n",
              "    </tr>\n",
              "    <tr>\n",
              "      <th>25%</th>\n",
              "      <td>18.000000</td>\n",
              "      <td>27105.000000</td>\n",
              "    </tr>\n",
              "    <tr>\n",
              "      <th>50%</th>\n",
              "      <td>29.000000</td>\n",
              "      <td>48845.000000</td>\n",
              "    </tr>\n",
              "    <tr>\n",
              "      <th>75%</th>\n",
              "      <td>42.000000</td>\n",
              "      <td>70578.000000</td>\n",
              "    </tr>\n",
              "    <tr>\n",
              "      <th>max</th>\n",
              "      <td>56.000000</td>\n",
              "      <td>99901.000000</td>\n",
              "    </tr>\n",
              "  </tbody>\n",
              "</table>\n",
              "</div>\n",
              "      <button class=\"colab-df-convert\" onclick=\"convertToInteractive('df-d0d7501e-f30d-40ae-b00c-387ac6855a47')\"\n",
              "              title=\"Convert this dataframe to an interactive table.\"\n",
              "              style=\"display:none;\">\n",
              "        \n",
              "  <svg xmlns=\"http://www.w3.org/2000/svg\" height=\"24px\"viewBox=\"0 0 24 24\"\n",
              "       width=\"24px\">\n",
              "    <path d=\"M0 0h24v24H0V0z\" fill=\"none\"/>\n",
              "    <path d=\"M18.56 5.44l.94 2.06.94-2.06 2.06-.94-2.06-.94-.94-2.06-.94 2.06-2.06.94zm-11 1L8.5 8.5l.94-2.06 2.06-.94-2.06-.94L8.5 2.5l-.94 2.06-2.06.94zm10 10l.94 2.06.94-2.06 2.06-.94-2.06-.94-.94-2.06-.94 2.06-2.06.94z\"/><path d=\"M17.41 7.96l-1.37-1.37c-.4-.4-.92-.59-1.43-.59-.52 0-1.04.2-1.43.59L10.3 9.45l-7.72 7.72c-.78.78-.78 2.05 0 2.83L4 21.41c.39.39.9.59 1.41.59.51 0 1.02-.2 1.41-.59l7.78-7.78 2.81-2.81c.8-.78.8-2.07 0-2.86zM5.41 20L4 18.59l7.72-7.72 1.47 1.35L5.41 20z\"/>\n",
              "  </svg>\n",
              "      </button>\n",
              "      \n",
              "  <style>\n",
              "    .colab-df-container {\n",
              "      display:flex;\n",
              "      flex-wrap:wrap;\n",
              "      gap: 12px;\n",
              "    }\n",
              "\n",
              "    .colab-df-convert {\n",
              "      background-color: #E8F0FE;\n",
              "      border: none;\n",
              "      border-radius: 50%;\n",
              "      cursor: pointer;\n",
              "      display: none;\n",
              "      fill: #1967D2;\n",
              "      height: 32px;\n",
              "      padding: 0 0 0 0;\n",
              "      width: 32px;\n",
              "    }\n",
              "\n",
              "    .colab-df-convert:hover {\n",
              "      background-color: #E2EBFA;\n",
              "      box-shadow: 0px 1px 2px rgba(60, 64, 67, 0.3), 0px 1px 3px 1px rgba(60, 64, 67, 0.15);\n",
              "      fill: #174EA6;\n",
              "    }\n",
              "\n",
              "    [theme=dark] .colab-df-convert {\n",
              "      background-color: #3B4455;\n",
              "      fill: #D2E3FC;\n",
              "    }\n",
              "\n",
              "    [theme=dark] .colab-df-convert:hover {\n",
              "      background-color: #434B5C;\n",
              "      box-shadow: 0px 1px 3px 1px rgba(0, 0, 0, 0.15);\n",
              "      filter: drop-shadow(0px 1px 2px rgba(0, 0, 0, 0.3));\n",
              "      fill: #FFFFFF;\n",
              "    }\n",
              "  </style>\n",
              "\n",
              "      <script>\n",
              "        const buttonEl =\n",
              "          document.querySelector('#df-d0d7501e-f30d-40ae-b00c-387ac6855a47 button.colab-df-convert');\n",
              "        buttonEl.style.display =\n",
              "          google.colab.kernel.accessAllowed ? 'block' : 'none';\n",
              "\n",
              "        async function convertToInteractive(key) {\n",
              "          const element = document.querySelector('#df-d0d7501e-f30d-40ae-b00c-387ac6855a47');\n",
              "          const dataTable =\n",
              "            await google.colab.kernel.invokeFunction('convertToInteractive',\n",
              "                                                     [key], {});\n",
              "          if (!dataTable) return;\n",
              "\n",
              "          const docLinkHtml = 'Like what you see? Visit the ' +\n",
              "            '<a target=\"_blank\" href=https://colab.research.google.com/notebooks/data_table.ipynb>data table notebook</a>'\n",
              "            + ' to learn more about interactive tables.';\n",
              "          element.innerHTML = '';\n",
              "          dataTable['output_type'] = 'display_data';\n",
              "          await google.colab.output.renderOutput(dataTable, element);\n",
              "          const docLink = document.createElement('div');\n",
              "          docLink.innerHTML = docLinkHtml;\n",
              "          element.appendChild(docLink);\n",
              "        }\n",
              "      </script>\n",
              "    </div>\n",
              "  </div>\n",
              "  "
            ]
          },
          "metadata": {}
        }
      ]
    },
    {
      "cell_type": "markdown",
      "source": [
        "## Add States and Regions to Visits"
      ],
      "metadata": {
        "id": "c2owBvroI03F"
      }
    },
    {
      "cell_type": "code",
      "source": [
        "# functions to add states to visit df\n",
        "\n",
        "# Determine start and end zip codes by state\n",
        "def find_start_end_zip(current_state):\n",
        "  zipcodes_state = clean_zip[clean_zip['STATE'] == state]['ZIPCODE']\n",
        "  min_zip = zipcodes_state.min()\n",
        "  max_zip = zipcodes_state.max()\n",
        "\n",
        "  return min_zip, max_zip, current_state\n",
        "\n",
        "# Add appropriate state to visit df by index position of zip code\n",
        "def add_state(min_zip, max_zip, current_state):\n",
        "  state_zip_index = visits[(visits['zip_code'] >= min_zip) & (visits['zip_code'] <= max_zip)].index\n",
        "  visits.iloc[state_zip_index, -1] = current_state\n",
        "  # print(f'{current_state} min zip code = {min_zip}, \\n max zip code = {max_zip}')\n",
        "\n",
        "  return "
      ],
      "metadata": {
        "id": "E2jG-L5zjPCW"
      },
      "execution_count": 7,
      "outputs": []
    },
    {
      "cell_type": "code",
      "source": [
        "# list of all state abbreviations\n",
        "all_states_dc = list(clean_zip['STATE'].unique())\n",
        "\n",
        "# create new column for states\n",
        "visits['State'] = ''\n",
        "\n",
        "# add states to visit data and print zip code boundaries by state\n",
        "for state in all_states_dc:\n",
        "  state_min, state_max, current_state = find_start_end_zip(state)\n",
        "  add_state(state_min, state_max, current_state)\n"
      ],
      "metadata": {
        "id": "Dhg4P4UgvmG4"
      },
      "execution_count": 8,
      "outputs": []
    },
    {
      "cell_type": "code",
      "source": [
        "# Observe number of zipcodes labeled by state\n",
        "\n",
        "fig = px.bar(visits['State'].value_counts(), title='Number of Zipcodes by State',\n",
        "             labels={'value':'Zipcode Counts', 'index':'State'})\n",
        "fig.update_layout(template=\"plotly_white\",showlegend=False) \n",
        "fig.update_coloraxes(colorbar_orientation='h')\n",
        "fig.show()"
      ],
      "metadata": {
        "colab": {
          "base_uri": "https://localhost:8080/",
          "height": 542
        },
        "id": "UM5d9XmhzsZq",
        "outputId": "ccd0854e-0596-4bed-9884-79b5a2666a1e"
      },
      "execution_count": 9,
      "outputs": [
        {
          "output_type": "display_data",
          "data": {
            "text/html": [
              "<html>\n",
              "<head><meta charset=\"utf-8\" /></head>\n",
              "<body>\n",
              "    <div>            <script src=\"https://cdnjs.cloudflare.com/ajax/libs/mathjax/2.7.5/MathJax.js?config=TeX-AMS-MML_SVG\"></script><script type=\"text/javascript\">if (window.MathJax) {MathJax.Hub.Config({SVG: {font: \"STIX-Web\"}});}</script>                <script type=\"text/javascript\">window.PlotlyConfig = {MathJaxConfig: 'local'};</script>\n",
              "        <script src=\"https://cdn.plot.ly/plotly-2.8.3.min.js\"></script>                <div id=\"84eb6597-273f-44b5-aa25-778c24857fe2\" class=\"plotly-graph-div\" style=\"height:525px; width:100%;\"></div>            <script type=\"text/javascript\">                                    window.PLOTLYENV=window.PLOTLYENV || {};                                    if (document.getElementById(\"84eb6597-273f-44b5-aa25-778c24857fe2\")) {                    Plotly.newPlot(                        \"84eb6597-273f-44b5-aa25-778c24857fe2\",                        [{\"alignmentgroup\":\"True\",\"hovertemplate\":\"variable=State<br>State=%{x}<br>Zipcode Counts=%{y}<extra></extra>\",\"legendgroup\":\"State\",\"marker\":{\"color\":\"#636efa\",\"pattern\":{\"shape\":\"\"}},\"name\":\"State\",\"offsetgroup\":\"State\",\"orientation\":\"v\",\"showlegend\":true,\"textposition\":\"auto\",\"x\":[\"GA\",\"CA\",\"TX\",\"NY\",\"PA\",\"VA\",\"IL\",\"OH\",\"MO\",\"MI\",\"NC\",\"IA\",\"MN\",\"KY\",\"IN\",\"WV\",\"WI\",\"TN\",\"OK\",\"KS\",\"MA\",\"WA\",\"NJ\",\"LA\",\"AR\",\"CO\",\"NE\",\"AZ\",\"\",\"SC\",\"MS\",\"ME\",\"OR\",\"NM\",\"CT\",\"SD\",\"ND\",\"MT\",\"UT\",\"VT\",\"WY\",\"NH\",\"AK\",\"NV\",\"ID\",\"HI\",\"DE\",\"RI\",\"DC\"],\"xaxis\":\"x\",\"y\":[3402,2725,2604,2242,2242,2107,1629,1483,1192,1183,1102,1078,1044,1030,999,935,918,813,793,775,748,744,742,737,728,675,630,565,559,544,541,504,498,435,434,417,416,411,359,310,301,284,264,255,230,115,98,88,31],\"yaxis\":\"y\",\"type\":\"bar\"}],                        {\"template\":{\"data\":{\"barpolar\":[{\"marker\":{\"line\":{\"color\":\"white\",\"width\":0.5},\"pattern\":{\"fillmode\":\"overlay\",\"size\":10,\"solidity\":0.2}},\"type\":\"barpolar\"}],\"bar\":[{\"error_x\":{\"color\":\"#2a3f5f\"},\"error_y\":{\"color\":\"#2a3f5f\"},\"marker\":{\"line\":{\"color\":\"white\",\"width\":0.5},\"pattern\":{\"fillmode\":\"overlay\",\"size\":10,\"solidity\":0.2}},\"type\":\"bar\"}],\"carpet\":[{\"aaxis\":{\"endlinecolor\":\"#2a3f5f\",\"gridcolor\":\"#C8D4E3\",\"linecolor\":\"#C8D4E3\",\"minorgridcolor\":\"#C8D4E3\",\"startlinecolor\":\"#2a3f5f\"},\"baxis\":{\"endlinecolor\":\"#2a3f5f\",\"gridcolor\":\"#C8D4E3\",\"linecolor\":\"#C8D4E3\",\"minorgridcolor\":\"#C8D4E3\",\"startlinecolor\":\"#2a3f5f\"},\"type\":\"carpet\"}],\"choropleth\":[{\"colorbar\":{\"outlinewidth\":0,\"ticks\":\"\"},\"type\":\"choropleth\"}],\"contourcarpet\":[{\"colorbar\":{\"outlinewidth\":0,\"ticks\":\"\"},\"type\":\"contourcarpet\"}],\"contour\":[{\"colorbar\":{\"outlinewidth\":0,\"ticks\":\"\"},\"colorscale\":[[0.0,\"#0d0887\"],[0.1111111111111111,\"#46039f\"],[0.2222222222222222,\"#7201a8\"],[0.3333333333333333,\"#9c179e\"],[0.4444444444444444,\"#bd3786\"],[0.5555555555555556,\"#d8576b\"],[0.6666666666666666,\"#ed7953\"],[0.7777777777777778,\"#fb9f3a\"],[0.8888888888888888,\"#fdca26\"],[1.0,\"#f0f921\"]],\"type\":\"contour\"}],\"heatmapgl\":[{\"colorbar\":{\"outlinewidth\":0,\"ticks\":\"\"},\"colorscale\":[[0.0,\"#0d0887\"],[0.1111111111111111,\"#46039f\"],[0.2222222222222222,\"#7201a8\"],[0.3333333333333333,\"#9c179e\"],[0.4444444444444444,\"#bd3786\"],[0.5555555555555556,\"#d8576b\"],[0.6666666666666666,\"#ed7953\"],[0.7777777777777778,\"#fb9f3a\"],[0.8888888888888888,\"#fdca26\"],[1.0,\"#f0f921\"]],\"type\":\"heatmapgl\"}],\"heatmap\":[{\"colorbar\":{\"outlinewidth\":0,\"ticks\":\"\"},\"colorscale\":[[0.0,\"#0d0887\"],[0.1111111111111111,\"#46039f\"],[0.2222222222222222,\"#7201a8\"],[0.3333333333333333,\"#9c179e\"],[0.4444444444444444,\"#bd3786\"],[0.5555555555555556,\"#d8576b\"],[0.6666666666666666,\"#ed7953\"],[0.7777777777777778,\"#fb9f3a\"],[0.8888888888888888,\"#fdca26\"],[1.0,\"#f0f921\"]],\"type\":\"heatmap\"}],\"histogram2dcontour\":[{\"colorbar\":{\"outlinewidth\":0,\"ticks\":\"\"},\"colorscale\":[[0.0,\"#0d0887\"],[0.1111111111111111,\"#46039f\"],[0.2222222222222222,\"#7201a8\"],[0.3333333333333333,\"#9c179e\"],[0.4444444444444444,\"#bd3786\"],[0.5555555555555556,\"#d8576b\"],[0.6666666666666666,\"#ed7953\"],[0.7777777777777778,\"#fb9f3a\"],[0.8888888888888888,\"#fdca26\"],[1.0,\"#f0f921\"]],\"type\":\"histogram2dcontour\"}],\"histogram2d\":[{\"colorbar\":{\"outlinewidth\":0,\"ticks\":\"\"},\"colorscale\":[[0.0,\"#0d0887\"],[0.1111111111111111,\"#46039f\"],[0.2222222222222222,\"#7201a8\"],[0.3333333333333333,\"#9c179e\"],[0.4444444444444444,\"#bd3786\"],[0.5555555555555556,\"#d8576b\"],[0.6666666666666666,\"#ed7953\"],[0.7777777777777778,\"#fb9f3a\"],[0.8888888888888888,\"#fdca26\"],[1.0,\"#f0f921\"]],\"type\":\"histogram2d\"}],\"histogram\":[{\"marker\":{\"pattern\":{\"fillmode\":\"overlay\",\"size\":10,\"solidity\":0.2}},\"type\":\"histogram\"}],\"mesh3d\":[{\"colorbar\":{\"outlinewidth\":0,\"ticks\":\"\"},\"type\":\"mesh3d\"}],\"parcoords\":[{\"line\":{\"colorbar\":{\"outlinewidth\":0,\"ticks\":\"\"}},\"type\":\"parcoords\"}],\"pie\":[{\"automargin\":true,\"type\":\"pie\"}],\"scatter3d\":[{\"line\":{\"colorbar\":{\"outlinewidth\":0,\"ticks\":\"\"}},\"marker\":{\"colorbar\":{\"outlinewidth\":0,\"ticks\":\"\"}},\"type\":\"scatter3d\"}],\"scattercarpet\":[{\"marker\":{\"colorbar\":{\"outlinewidth\":0,\"ticks\":\"\"}},\"type\":\"scattercarpet\"}],\"scattergeo\":[{\"marker\":{\"colorbar\":{\"outlinewidth\":0,\"ticks\":\"\"}},\"type\":\"scattergeo\"}],\"scattergl\":[{\"marker\":{\"colorbar\":{\"outlinewidth\":0,\"ticks\":\"\"}},\"type\":\"scattergl\"}],\"scattermapbox\":[{\"marker\":{\"colorbar\":{\"outlinewidth\":0,\"ticks\":\"\"}},\"type\":\"scattermapbox\"}],\"scatterpolargl\":[{\"marker\":{\"colorbar\":{\"outlinewidth\":0,\"ticks\":\"\"}},\"type\":\"scatterpolargl\"}],\"scatterpolar\":[{\"marker\":{\"colorbar\":{\"outlinewidth\":0,\"ticks\":\"\"}},\"type\":\"scatterpolar\"}],\"scatter\":[{\"marker\":{\"colorbar\":{\"outlinewidth\":0,\"ticks\":\"\"}},\"type\":\"scatter\"}],\"scatterternary\":[{\"marker\":{\"colorbar\":{\"outlinewidth\":0,\"ticks\":\"\"}},\"type\":\"scatterternary\"}],\"surface\":[{\"colorbar\":{\"outlinewidth\":0,\"ticks\":\"\"},\"colorscale\":[[0.0,\"#0d0887\"],[0.1111111111111111,\"#46039f\"],[0.2222222222222222,\"#7201a8\"],[0.3333333333333333,\"#9c179e\"],[0.4444444444444444,\"#bd3786\"],[0.5555555555555556,\"#d8576b\"],[0.6666666666666666,\"#ed7953\"],[0.7777777777777778,\"#fb9f3a\"],[0.8888888888888888,\"#fdca26\"],[1.0,\"#f0f921\"]],\"type\":\"surface\"}],\"table\":[{\"cells\":{\"fill\":{\"color\":\"#EBF0F8\"},\"line\":{\"color\":\"white\"}},\"header\":{\"fill\":{\"color\":\"#C8D4E3\"},\"line\":{\"color\":\"white\"}},\"type\":\"table\"}]},\"layout\":{\"annotationdefaults\":{\"arrowcolor\":\"#2a3f5f\",\"arrowhead\":0,\"arrowwidth\":1},\"autotypenumbers\":\"strict\",\"coloraxis\":{\"colorbar\":{\"outlinewidth\":0,\"ticks\":\"\"}},\"colorscale\":{\"diverging\":[[0,\"#8e0152\"],[0.1,\"#c51b7d\"],[0.2,\"#de77ae\"],[0.3,\"#f1b6da\"],[0.4,\"#fde0ef\"],[0.5,\"#f7f7f7\"],[0.6,\"#e6f5d0\"],[0.7,\"#b8e186\"],[0.8,\"#7fbc41\"],[0.9,\"#4d9221\"],[1,\"#276419\"]],\"sequential\":[[0.0,\"#0d0887\"],[0.1111111111111111,\"#46039f\"],[0.2222222222222222,\"#7201a8\"],[0.3333333333333333,\"#9c179e\"],[0.4444444444444444,\"#bd3786\"],[0.5555555555555556,\"#d8576b\"],[0.6666666666666666,\"#ed7953\"],[0.7777777777777778,\"#fb9f3a\"],[0.8888888888888888,\"#fdca26\"],[1.0,\"#f0f921\"]],\"sequentialminus\":[[0.0,\"#0d0887\"],[0.1111111111111111,\"#46039f\"],[0.2222222222222222,\"#7201a8\"],[0.3333333333333333,\"#9c179e\"],[0.4444444444444444,\"#bd3786\"],[0.5555555555555556,\"#d8576b\"],[0.6666666666666666,\"#ed7953\"],[0.7777777777777778,\"#fb9f3a\"],[0.8888888888888888,\"#fdca26\"],[1.0,\"#f0f921\"]]},\"colorway\":[\"#636efa\",\"#EF553B\",\"#00cc96\",\"#ab63fa\",\"#FFA15A\",\"#19d3f3\",\"#FF6692\",\"#B6E880\",\"#FF97FF\",\"#FECB52\"],\"font\":{\"color\":\"#2a3f5f\"},\"geo\":{\"bgcolor\":\"white\",\"lakecolor\":\"white\",\"landcolor\":\"white\",\"showlakes\":true,\"showland\":true,\"subunitcolor\":\"#C8D4E3\"},\"hoverlabel\":{\"align\":\"left\"},\"hovermode\":\"closest\",\"mapbox\":{\"style\":\"light\"},\"paper_bgcolor\":\"white\",\"plot_bgcolor\":\"white\",\"polar\":{\"angularaxis\":{\"gridcolor\":\"#EBF0F8\",\"linecolor\":\"#EBF0F8\",\"ticks\":\"\"},\"bgcolor\":\"white\",\"radialaxis\":{\"gridcolor\":\"#EBF0F8\",\"linecolor\":\"#EBF0F8\",\"ticks\":\"\"}},\"scene\":{\"xaxis\":{\"backgroundcolor\":\"white\",\"gridcolor\":\"#DFE8F3\",\"gridwidth\":2,\"linecolor\":\"#EBF0F8\",\"showbackground\":true,\"ticks\":\"\",\"zerolinecolor\":\"#EBF0F8\"},\"yaxis\":{\"backgroundcolor\":\"white\",\"gridcolor\":\"#DFE8F3\",\"gridwidth\":2,\"linecolor\":\"#EBF0F8\",\"showbackground\":true,\"ticks\":\"\",\"zerolinecolor\":\"#EBF0F8\"},\"zaxis\":{\"backgroundcolor\":\"white\",\"gridcolor\":\"#DFE8F3\",\"gridwidth\":2,\"linecolor\":\"#EBF0F8\",\"showbackground\":true,\"ticks\":\"\",\"zerolinecolor\":\"#EBF0F8\"}},\"shapedefaults\":{\"line\":{\"color\":\"#2a3f5f\"}},\"ternary\":{\"aaxis\":{\"gridcolor\":\"#DFE8F3\",\"linecolor\":\"#A2B1C6\",\"ticks\":\"\"},\"baxis\":{\"gridcolor\":\"#DFE8F3\",\"linecolor\":\"#A2B1C6\",\"ticks\":\"\"},\"bgcolor\":\"white\",\"caxis\":{\"gridcolor\":\"#DFE8F3\",\"linecolor\":\"#A2B1C6\",\"ticks\":\"\"}},\"title\":{\"x\":0.05},\"xaxis\":{\"automargin\":true,\"gridcolor\":\"#EBF0F8\",\"linecolor\":\"#EBF0F8\",\"ticks\":\"\",\"title\":{\"standoff\":15},\"zerolinecolor\":\"#EBF0F8\",\"zerolinewidth\":2},\"yaxis\":{\"automargin\":true,\"gridcolor\":\"#EBF0F8\",\"linecolor\":\"#EBF0F8\",\"ticks\":\"\",\"title\":{\"standoff\":15},\"zerolinecolor\":\"#EBF0F8\",\"zerolinewidth\":2}}},\"xaxis\":{\"anchor\":\"y\",\"domain\":[0.0,1.0],\"title\":{\"text\":\"State\"}},\"yaxis\":{\"anchor\":\"x\",\"domain\":[0.0,1.0],\"title\":{\"text\":\"Zipcode Counts\"}},\"legend\":{\"title\":{\"text\":\"variable\"},\"tracegroupgap\":0},\"title\":{\"text\":\"Number of Zipcodes by State\"},\"barmode\":\"relative\",\"showlegend\":false,\"coloraxis\":{\"colorbar\":{\"orientation\":\"h\"}}},                        {\"responsive\": true}                    ).then(function(){\n",
              "                            \n",
              "var gd = document.getElementById('84eb6597-273f-44b5-aa25-778c24857fe2');\n",
              "var x = new MutationObserver(function (mutations, observer) {{\n",
              "        var display = window.getComputedStyle(gd).display;\n",
              "        if (!display || display === 'none') {{\n",
              "            console.log([gd, 'removed!']);\n",
              "            Plotly.purge(gd);\n",
              "            observer.disconnect();\n",
              "        }}\n",
              "}});\n",
              "\n",
              "// Listen for the removal of the full notebook cells\n",
              "var notebookContainer = gd.closest('#notebook-container');\n",
              "if (notebookContainer) {{\n",
              "    x.observe(notebookContainer, {childList: true});\n",
              "}}\n",
              "\n",
              "// Listen for the clearing of the current output cell\n",
              "var outputEl = gd.closest('.output');\n",
              "if (outputEl) {{\n",
              "    x.observe(outputEl, {childList: true});\n",
              "}}\n",
              "\n",
              "                        })                };                            </script>        </div>\n",
              "</body>\n",
              "</html>"
            ]
          },
          "metadata": {}
        }
      ]
    },
    {
      "cell_type": "code",
      "source": [
        "# Observe number of zipcodes labeled by state\n",
        "\n",
        "fig = px.bar(visits['Region'].value_counts(), title='Number of Zipcodes per Region',\n",
        "             labels={'value':'Zipcode Counts', 'index':'Region'})\n",
        "fig.update_layout(template=\"plotly_white\",showlegend=False) \n",
        "fig.update_coloraxes(colorbar_orientation='h')\n",
        "fig.show()"
      ],
      "metadata": {
        "id": "HIKbSIYbSLZq",
        "outputId": "c26b379e-d0d8-4e75-9d68-82fe92d8a6b2",
        "colab": {
          "base_uri": "https://localhost:8080/",
          "height": 542
        }
      },
      "execution_count": 21,
      "outputs": [
        {
          "output_type": "display_data",
          "data": {
            "text/html": [
              "<html>\n",
              "<head><meta charset=\"utf-8\" /></head>\n",
              "<body>\n",
              "    <div>            <script src=\"https://cdnjs.cloudflare.com/ajax/libs/mathjax/2.7.5/MathJax.js?config=TeX-AMS-MML_SVG\"></script><script type=\"text/javascript\">if (window.MathJax) {MathJax.Hub.Config({SVG: {font: \"STIX-Web\"}});}</script>                <script type=\"text/javascript\">window.PlotlyConfig = {MathJaxConfig: 'local'};</script>\n",
              "        <script src=\"https://cdn.plot.ly/plotly-2.8.3.min.js\"></script>                <div id=\"27070062-d1e0-479a-a9e3-35f2572a900b\" class=\"plotly-graph-div\" style=\"height:525px; width:100%;\"></div>            <script type=\"text/javascript\">                                    window.PLOTLYENV=window.PLOTLYENV || {};                                    if (document.getElementById(\"27070062-d1e0-479a-a9e3-35f2572a900b\")) {                    Plotly.newPlot(                        \"27070062-d1e0-479a-a9e3-35f2572a900b\",                        [{\"alignmentgroup\":\"True\",\"hovertemplate\":\"variable=Region<br>Region=%{x}<br>Zipcode Counts=%{y}<extra></extra>\",\"legendgroup\":\"Region\",\"marker\":{\"color\":\"#636efa\",\"pattern\":{\"shape\":\"\"}},\"name\":\"Region\",\"offsetgroup\":\"Region\",\"orientation\":\"v\",\"showlegend\":true,\"textposition\":\"auto\",\"x\":[\"South Atlantic\",\"East North Central\",\"West North Central\",\"Middle Atlantic\",\"Pacific\",\"West South Central\",\"Mountain\",\"East South Central\",\"New England\",\"\"],\"xaxis\":\"x\",\"y\":[8219,6212,5552,5226,4346,4134,3231,3112,2368,559],\"yaxis\":\"y\",\"type\":\"bar\"}],                        {\"template\":{\"data\":{\"barpolar\":[{\"marker\":{\"line\":{\"color\":\"white\",\"width\":0.5},\"pattern\":{\"fillmode\":\"overlay\",\"size\":10,\"solidity\":0.2}},\"type\":\"barpolar\"}],\"bar\":[{\"error_x\":{\"color\":\"#2a3f5f\"},\"error_y\":{\"color\":\"#2a3f5f\"},\"marker\":{\"line\":{\"color\":\"white\",\"width\":0.5},\"pattern\":{\"fillmode\":\"overlay\",\"size\":10,\"solidity\":0.2}},\"type\":\"bar\"}],\"carpet\":[{\"aaxis\":{\"endlinecolor\":\"#2a3f5f\",\"gridcolor\":\"#C8D4E3\",\"linecolor\":\"#C8D4E3\",\"minorgridcolor\":\"#C8D4E3\",\"startlinecolor\":\"#2a3f5f\"},\"baxis\":{\"endlinecolor\":\"#2a3f5f\",\"gridcolor\":\"#C8D4E3\",\"linecolor\":\"#C8D4E3\",\"minorgridcolor\":\"#C8D4E3\",\"startlinecolor\":\"#2a3f5f\"},\"type\":\"carpet\"}],\"choropleth\":[{\"colorbar\":{\"outlinewidth\":0,\"ticks\":\"\"},\"type\":\"choropleth\"}],\"contourcarpet\":[{\"colorbar\":{\"outlinewidth\":0,\"ticks\":\"\"},\"type\":\"contourcarpet\"}],\"contour\":[{\"colorbar\":{\"outlinewidth\":0,\"ticks\":\"\"},\"colorscale\":[[0.0,\"#0d0887\"],[0.1111111111111111,\"#46039f\"],[0.2222222222222222,\"#7201a8\"],[0.3333333333333333,\"#9c179e\"],[0.4444444444444444,\"#bd3786\"],[0.5555555555555556,\"#d8576b\"],[0.6666666666666666,\"#ed7953\"],[0.7777777777777778,\"#fb9f3a\"],[0.8888888888888888,\"#fdca26\"],[1.0,\"#f0f921\"]],\"type\":\"contour\"}],\"heatmapgl\":[{\"colorbar\":{\"outlinewidth\":0,\"ticks\":\"\"},\"colorscale\":[[0.0,\"#0d0887\"],[0.1111111111111111,\"#46039f\"],[0.2222222222222222,\"#7201a8\"],[0.3333333333333333,\"#9c179e\"],[0.4444444444444444,\"#bd3786\"],[0.5555555555555556,\"#d8576b\"],[0.6666666666666666,\"#ed7953\"],[0.7777777777777778,\"#fb9f3a\"],[0.8888888888888888,\"#fdca26\"],[1.0,\"#f0f921\"]],\"type\":\"heatmapgl\"}],\"heatmap\":[{\"colorbar\":{\"outlinewidth\":0,\"ticks\":\"\"},\"colorscale\":[[0.0,\"#0d0887\"],[0.1111111111111111,\"#46039f\"],[0.2222222222222222,\"#7201a8\"],[0.3333333333333333,\"#9c179e\"],[0.4444444444444444,\"#bd3786\"],[0.5555555555555556,\"#d8576b\"],[0.6666666666666666,\"#ed7953\"],[0.7777777777777778,\"#fb9f3a\"],[0.8888888888888888,\"#fdca26\"],[1.0,\"#f0f921\"]],\"type\":\"heatmap\"}],\"histogram2dcontour\":[{\"colorbar\":{\"outlinewidth\":0,\"ticks\":\"\"},\"colorscale\":[[0.0,\"#0d0887\"],[0.1111111111111111,\"#46039f\"],[0.2222222222222222,\"#7201a8\"],[0.3333333333333333,\"#9c179e\"],[0.4444444444444444,\"#bd3786\"],[0.5555555555555556,\"#d8576b\"],[0.6666666666666666,\"#ed7953\"],[0.7777777777777778,\"#fb9f3a\"],[0.8888888888888888,\"#fdca26\"],[1.0,\"#f0f921\"]],\"type\":\"histogram2dcontour\"}],\"histogram2d\":[{\"colorbar\":{\"outlinewidth\":0,\"ticks\":\"\"},\"colorscale\":[[0.0,\"#0d0887\"],[0.1111111111111111,\"#46039f\"],[0.2222222222222222,\"#7201a8\"],[0.3333333333333333,\"#9c179e\"],[0.4444444444444444,\"#bd3786\"],[0.5555555555555556,\"#d8576b\"],[0.6666666666666666,\"#ed7953\"],[0.7777777777777778,\"#fb9f3a\"],[0.8888888888888888,\"#fdca26\"],[1.0,\"#f0f921\"]],\"type\":\"histogram2d\"}],\"histogram\":[{\"marker\":{\"pattern\":{\"fillmode\":\"overlay\",\"size\":10,\"solidity\":0.2}},\"type\":\"histogram\"}],\"mesh3d\":[{\"colorbar\":{\"outlinewidth\":0,\"ticks\":\"\"},\"type\":\"mesh3d\"}],\"parcoords\":[{\"line\":{\"colorbar\":{\"outlinewidth\":0,\"ticks\":\"\"}},\"type\":\"parcoords\"}],\"pie\":[{\"automargin\":true,\"type\":\"pie\"}],\"scatter3d\":[{\"line\":{\"colorbar\":{\"outlinewidth\":0,\"ticks\":\"\"}},\"marker\":{\"colorbar\":{\"outlinewidth\":0,\"ticks\":\"\"}},\"type\":\"scatter3d\"}],\"scattercarpet\":[{\"marker\":{\"colorbar\":{\"outlinewidth\":0,\"ticks\":\"\"}},\"type\":\"scattercarpet\"}],\"scattergeo\":[{\"marker\":{\"colorbar\":{\"outlinewidth\":0,\"ticks\":\"\"}},\"type\":\"scattergeo\"}],\"scattergl\":[{\"marker\":{\"colorbar\":{\"outlinewidth\":0,\"ticks\":\"\"}},\"type\":\"scattergl\"}],\"scattermapbox\":[{\"marker\":{\"colorbar\":{\"outlinewidth\":0,\"ticks\":\"\"}},\"type\":\"scattermapbox\"}],\"scatterpolargl\":[{\"marker\":{\"colorbar\":{\"outlinewidth\":0,\"ticks\":\"\"}},\"type\":\"scatterpolargl\"}],\"scatterpolar\":[{\"marker\":{\"colorbar\":{\"outlinewidth\":0,\"ticks\":\"\"}},\"type\":\"scatterpolar\"}],\"scatter\":[{\"marker\":{\"colorbar\":{\"outlinewidth\":0,\"ticks\":\"\"}},\"type\":\"scatter\"}],\"scatterternary\":[{\"marker\":{\"colorbar\":{\"outlinewidth\":0,\"ticks\":\"\"}},\"type\":\"scatterternary\"}],\"surface\":[{\"colorbar\":{\"outlinewidth\":0,\"ticks\":\"\"},\"colorscale\":[[0.0,\"#0d0887\"],[0.1111111111111111,\"#46039f\"],[0.2222222222222222,\"#7201a8\"],[0.3333333333333333,\"#9c179e\"],[0.4444444444444444,\"#bd3786\"],[0.5555555555555556,\"#d8576b\"],[0.6666666666666666,\"#ed7953\"],[0.7777777777777778,\"#fb9f3a\"],[0.8888888888888888,\"#fdca26\"],[1.0,\"#f0f921\"]],\"type\":\"surface\"}],\"table\":[{\"cells\":{\"fill\":{\"color\":\"#EBF0F8\"},\"line\":{\"color\":\"white\"}},\"header\":{\"fill\":{\"color\":\"#C8D4E3\"},\"line\":{\"color\":\"white\"}},\"type\":\"table\"}]},\"layout\":{\"annotationdefaults\":{\"arrowcolor\":\"#2a3f5f\",\"arrowhead\":0,\"arrowwidth\":1},\"autotypenumbers\":\"strict\",\"coloraxis\":{\"colorbar\":{\"outlinewidth\":0,\"ticks\":\"\"}},\"colorscale\":{\"diverging\":[[0,\"#8e0152\"],[0.1,\"#c51b7d\"],[0.2,\"#de77ae\"],[0.3,\"#f1b6da\"],[0.4,\"#fde0ef\"],[0.5,\"#f7f7f7\"],[0.6,\"#e6f5d0\"],[0.7,\"#b8e186\"],[0.8,\"#7fbc41\"],[0.9,\"#4d9221\"],[1,\"#276419\"]],\"sequential\":[[0.0,\"#0d0887\"],[0.1111111111111111,\"#46039f\"],[0.2222222222222222,\"#7201a8\"],[0.3333333333333333,\"#9c179e\"],[0.4444444444444444,\"#bd3786\"],[0.5555555555555556,\"#d8576b\"],[0.6666666666666666,\"#ed7953\"],[0.7777777777777778,\"#fb9f3a\"],[0.8888888888888888,\"#fdca26\"],[1.0,\"#f0f921\"]],\"sequentialminus\":[[0.0,\"#0d0887\"],[0.1111111111111111,\"#46039f\"],[0.2222222222222222,\"#7201a8\"],[0.3333333333333333,\"#9c179e\"],[0.4444444444444444,\"#bd3786\"],[0.5555555555555556,\"#d8576b\"],[0.6666666666666666,\"#ed7953\"],[0.7777777777777778,\"#fb9f3a\"],[0.8888888888888888,\"#fdca26\"],[1.0,\"#f0f921\"]]},\"colorway\":[\"#636efa\",\"#EF553B\",\"#00cc96\",\"#ab63fa\",\"#FFA15A\",\"#19d3f3\",\"#FF6692\",\"#B6E880\",\"#FF97FF\",\"#FECB52\"],\"font\":{\"color\":\"#2a3f5f\"},\"geo\":{\"bgcolor\":\"white\",\"lakecolor\":\"white\",\"landcolor\":\"white\",\"showlakes\":true,\"showland\":true,\"subunitcolor\":\"#C8D4E3\"},\"hoverlabel\":{\"align\":\"left\"},\"hovermode\":\"closest\",\"mapbox\":{\"style\":\"light\"},\"paper_bgcolor\":\"white\",\"plot_bgcolor\":\"white\",\"polar\":{\"angularaxis\":{\"gridcolor\":\"#EBF0F8\",\"linecolor\":\"#EBF0F8\",\"ticks\":\"\"},\"bgcolor\":\"white\",\"radialaxis\":{\"gridcolor\":\"#EBF0F8\",\"linecolor\":\"#EBF0F8\",\"ticks\":\"\"}},\"scene\":{\"xaxis\":{\"backgroundcolor\":\"white\",\"gridcolor\":\"#DFE8F3\",\"gridwidth\":2,\"linecolor\":\"#EBF0F8\",\"showbackground\":true,\"ticks\":\"\",\"zerolinecolor\":\"#EBF0F8\"},\"yaxis\":{\"backgroundcolor\":\"white\",\"gridcolor\":\"#DFE8F3\",\"gridwidth\":2,\"linecolor\":\"#EBF0F8\",\"showbackground\":true,\"ticks\":\"\",\"zerolinecolor\":\"#EBF0F8\"},\"zaxis\":{\"backgroundcolor\":\"white\",\"gridcolor\":\"#DFE8F3\",\"gridwidth\":2,\"linecolor\":\"#EBF0F8\",\"showbackground\":true,\"ticks\":\"\",\"zerolinecolor\":\"#EBF0F8\"}},\"shapedefaults\":{\"line\":{\"color\":\"#2a3f5f\"}},\"ternary\":{\"aaxis\":{\"gridcolor\":\"#DFE8F3\",\"linecolor\":\"#A2B1C6\",\"ticks\":\"\"},\"baxis\":{\"gridcolor\":\"#DFE8F3\",\"linecolor\":\"#A2B1C6\",\"ticks\":\"\"},\"bgcolor\":\"white\",\"caxis\":{\"gridcolor\":\"#DFE8F3\",\"linecolor\":\"#A2B1C6\",\"ticks\":\"\"}},\"title\":{\"x\":0.05},\"xaxis\":{\"automargin\":true,\"gridcolor\":\"#EBF0F8\",\"linecolor\":\"#EBF0F8\",\"ticks\":\"\",\"title\":{\"standoff\":15},\"zerolinecolor\":\"#EBF0F8\",\"zerolinewidth\":2},\"yaxis\":{\"automargin\":true,\"gridcolor\":\"#EBF0F8\",\"linecolor\":\"#EBF0F8\",\"ticks\":\"\",\"title\":{\"standoff\":15},\"zerolinecolor\":\"#EBF0F8\",\"zerolinewidth\":2}}},\"xaxis\":{\"anchor\":\"y\",\"domain\":[0.0,1.0],\"title\":{\"text\":\"Region\"}},\"yaxis\":{\"anchor\":\"x\",\"domain\":[0.0,1.0],\"title\":{\"text\":\"Zipcode Counts\"}},\"legend\":{\"title\":{\"text\":\"variable\"},\"tracegroupgap\":0},\"title\":{\"text\":\"Number of Zipcodes per Region\"},\"barmode\":\"relative\",\"showlegend\":false,\"coloraxis\":{\"colorbar\":{\"orientation\":\"h\"}}},                        {\"responsive\": true}                    ).then(function(){\n",
              "                            \n",
              "var gd = document.getElementById('27070062-d1e0-479a-a9e3-35f2572a900b');\n",
              "var x = new MutationObserver(function (mutations, observer) {{\n",
              "        var display = window.getComputedStyle(gd).display;\n",
              "        if (!display || display === 'none') {{\n",
              "            console.log([gd, 'removed!']);\n",
              "            Plotly.purge(gd);\n",
              "            observer.disconnect();\n",
              "        }}\n",
              "}});\n",
              "\n",
              "// Listen for the removal of the full notebook cells\n",
              "var notebookContainer = gd.closest('#notebook-container');\n",
              "if (notebookContainer) {{\n",
              "    x.observe(notebookContainer, {childList: true});\n",
              "}}\n",
              "\n",
              "// Listen for the clearing of the current output cell\n",
              "var outputEl = gd.closest('.output');\n",
              "if (outputEl) {{\n",
              "    x.observe(outputEl, {childList: true});\n",
              "}}\n",
              "\n",
              "                        })                };                            </script>        </div>\n",
              "</body>\n",
              "</html>"
            ]
          },
          "metadata": {}
        }
      ]
    },
    {
      "cell_type": "markdown",
      "source": [
        "<h1>Zip Codes by State</h1>\n",
        "The zip code data used is from the 2019 Individual income tax statistics by zip code. There are 559 zip codes that were not assigned a state.\n",
        "2019 Individual income tax statistics by zip code. There are 559 zip codes that were not assigned a state."
      ],
      "metadata": {
        "id": "00tJ8EetMAs2"
      }
    },
    {
      "cell_type": "markdown",
      "source": [
        "## Adjust Zip_code in Visits"
      ],
      "metadata": {
        "id": "PEoGCbqpCpyN"
      }
    },
    {
      "cell_type": "code",
      "source": [
        "new_visits = visits[visits['Region'] != ''].copy()"
      ],
      "metadata": {
        "id": "_UIvI9xwTWM-"
      },
      "execution_count": 25,
      "outputs": []
    },
    {
      "cell_type": "code",
      "source": [
        "new_visits.iloc[:, 0] = new_visits['zip_code'].astype('string')\n",
        "new_visits.iloc[:, 7] = new_visits.iloc[:, 7].astype('string')\n",
        "new_visits.iloc[:, 14] = new_visits.iloc[:, 14].astype('string')"
      ],
      "metadata": {
        "id": "7dnTf2UVCKZX"
      },
      "execution_count": 26,
      "outputs": []
    },
    {
      "cell_type": "code",
      "source": [
        "new_visits.info()"
      ],
      "metadata": {
        "colab": {
          "base_uri": "https://localhost:8080/"
        },
        "id": "tRQ1eg0cCiXg",
        "outputId": "ebee1950-0ec0-4461-8000-752246654ae9"
      },
      "execution_count": 27,
      "outputs": [
        {
          "output_type": "stream",
          "name": "stdout",
          "text": [
            "<class 'pandas.core.frame.DataFrame'>\n",
            "Int64Index: 42400 entries, 559 to 42958\n",
            "Data columns (total 17 columns):\n",
            " #   Column                                                Non-Null Count  Dtype  \n",
            "---  ------                                                --------------  -----  \n",
            " 0   zip_code                                              42400 non-null  string \n",
            " 1   min_medicare_pricing_for_new_patient                  42400 non-null  float64\n",
            " 2   max_medicare_pricing_for_new_patient                  42400 non-null  float64\n",
            " 3   mode_medicare_pricing_for_new_patient                 42400 non-null  float64\n",
            " 4   min_copay_for_new_patient                             42400 non-null  float64\n",
            " 5   max_copay_for_new_patient                             42400 non-null  float64\n",
            " 6   mode_copay_for_new_patient                            42400 non-null  float64\n",
            " 7   most_utilized_procedure_code_for_new_patient          42400 non-null  string \n",
            " 8   min_medicare_pricing_for_established_patient          42400 non-null  float64\n",
            " 9   max_medicare_pricing_for_established_patient          42400 non-null  float64\n",
            " 10  mode_medicare_pricing_for_established_patient         42400 non-null  float64\n",
            " 11  min_copay_for_established_patient                     42400 non-null  float64\n",
            " 12  max_copay_for_established_patient                     42400 non-null  float64\n",
            " 13  mode_copay_for_established_patient                    42400 non-null  float64\n",
            " 14  most_utilized_procedure_code_for_established_patient  42400 non-null  string \n",
            " 15  State                                                 42400 non-null  object \n",
            " 16  Region                                                42400 non-null  object \n",
            "dtypes: float64(12), object(2), string(3)\n",
            "memory usage: 5.8+ MB\n"
          ]
        }
      ]
    },
    {
      "cell_type": "markdown",
      "source": [
        "## Add Regions"
      ],
      "metadata": {
        "id": "heXDAbOg3l2X"
      }
    },
    {
      "cell_type": "code",
      "source": [
        "# Create regions\n",
        "new_visits['Region'] = new_visits['State']\n",
        "new_visits['Region'].replace(['CT','ME','MA','NH','RI', 'VT'],\n",
        "                         'New England',inplace=True)\n",
        "\n",
        "new_visits['Region'].replace(['NJ','NY','PA'],\n",
        "                         'Middle Atlantic',inplace=True)\n",
        "\n",
        "new_visits['Region'].replace(['IN','IL', 'MI','OH', 'WI'],\n",
        "                         'East North Central',inplace=True)\n",
        "\n",
        "new_visits['Region'].replace(['IA', 'NE', 'KS', 'ND','MN', 'SD', 'MO'],\n",
        "                          'West North Central',inplace=True)\n",
        "\n",
        "new_visits['Region'].replace(['DE', 'DC', 'FL', 'GA', 'MD', 'NC','SC', 'VA', 'WV'],\n",
        "                          'South Atlantic',inplace=True)\n",
        "\n",
        "new_visits['Region'].replace(['AL', 'LA', 'OK','TX'],\n",
        "                          'West South Central',inplace=True)\n",
        "\n",
        "new_visits['Region'].replace(['AR', 'KY', 'MS','TN'],\n",
        "                          'East South Central',inplace=True)\n",
        "\n",
        "new_visits['Region'].replace(['AZ', 'CO', 'ID','NM','MT', 'UT', 'NV', 'WY'],\n",
        "                          'Mountain',inplace=True)\n",
        "\n",
        "new_visits['Region'].replace(['AK', 'CA', 'HI', 'OR','WA'],\n",
        "                          'Pacific',inplace=True)\n",
        "\n",
        "new_visits.reset_index(drop=True, inplace=True)"
      ],
      "metadata": {
        "id": "TZliirEy3oDV"
      },
      "execution_count": 31,
      "outputs": []
    },
    {
      "cell_type": "markdown",
      "source": [
        "# Graphs"
      ],
      "metadata": {
        "id": "xnIcyNLuGuRj"
      }
    },
    {
      "cell_type": "markdown",
      "source": [
        "## Treemap - Region"
      ],
      "metadata": {
        "id": "xs-GNuWPB-VG"
      }
    },
    {
      "cell_type": "code",
      "source": [
        "bins = pd.IntervalIndex.from_tuples([(95, 99.999999),\n",
        "                                     (100, 104.999999), (105, 109.999999),\n",
        "                                     (110, 114.999999), (115, 119.999999),\n",
        "                                     (120, 124.999999), (125, 129.999999),\n",
        "                                     (130, 134.999999), (135, 139.999999)])\n",
        "\n",
        "binned = pd.cut(new_visits['mode_medicare_pricing_for_established_patient'].copy(), bins)\n",
        "mod_bin = new_visits.rename(columns={'mode_medicare_pricing_for_established_patient':'orig_mode_med_estab'}).copy()\n",
        "bin_new_visits = pd.concat([mod_bin, binned], axis='columns')\n",
        "bin_new_visits.iloc[:,-1] = bin_new_visits.iloc[:,-1].astype(str).replace(to_replace={'(95.0, 99.999999]': '$95 to $99.9',\n",
        "                                                                                      '(100.0, 104.999999]': '$100 to $104.9',\n",
        "                                                                                      '(105.0, 109.999999]': '$105 to $109.9',\n",
        "                                                                                      '(110.0, 114.999999]': '$110 to $119.9',\n",
        "                                                                                      '(115.0, 119.999999]': '$115 to $119.9',\n",
        "                                                                                      '(120.0, 124.999999]': '$120 to $124.9',\n",
        "                                                                                      '(125.0, 129.999999]': '$125 to $129.9',\n",
        "                                                                                      '130.0, 139.999999]' : '$130 to $134.9',\n",
        "                                                                                      '135, 139.999999]': '$135 to $139.9'})\n",
        "grouped_visits = bin_new_visits.groupby(['Region','State','mode_medicare_pricing_for_established_patient']).count().reset_index().iloc[:,0:4]\n"
      ],
      "metadata": {
        "id": "lkxU3AsEgJ1Z"
      },
      "execution_count": 101,
      "outputs": []
    },
    {
      "cell_type": "code",
      "source": [
        "grouped_visits"
      ],
      "metadata": {
        "id": "xN_0ckMta2so",
        "outputId": "3d859e47-2a88-43c6-a3f6-118e2d0dee31",
        "colab": {
          "base_uri": "https://localhost:8080/",
          "height": 424
        }
      },
      "execution_count": 102,
      "outputs": [
        {
          "output_type": "execute_result",
          "data": {
            "text/plain": [
              "                Region State mode_medicare_pricing_for_established_patient  \\\n",
              "0   East North Central    IL                                $100 to $104.9   \n",
              "1   East North Central    IL                                $110 to $119.9   \n",
              "2   East North Central    IN                                  $95 to $99.9   \n",
              "3   East North Central    MI                                $100 to $104.9   \n",
              "4   East North Central    MI                                $105 to $109.9   \n",
              "..                 ...   ...                                           ...   \n",
              "71  West South Central    OK                                $100 to $104.9   \n",
              "72  West South Central    OK                                $105 to $109.9   \n",
              "73  West South Central    OK                                  $95 to $99.9   \n",
              "74  West South Central    TX                                $100 to $104.9   \n",
              "75  West South Central    TX                                $105 to $109.9   \n",
              "\n",
              "    zip_code  \n",
              "0       1246  \n",
              "1        383  \n",
              "2        999  \n",
              "3        934  \n",
              "4        249  \n",
              "..       ...  \n",
              "71         1  \n",
              "72         2  \n",
              "73       790  \n",
              "74      2044  \n",
              "75       560  \n",
              "\n",
              "[76 rows x 4 columns]"
            ],
            "text/html": [
              "\n",
              "  <div id=\"df-f42fb4c7-36e0-45e2-bdea-8f9fff74eff5\">\n",
              "    <div class=\"colab-df-container\">\n",
              "      <div>\n",
              "<style scoped>\n",
              "    .dataframe tbody tr th:only-of-type {\n",
              "        vertical-align: middle;\n",
              "    }\n",
              "\n",
              "    .dataframe tbody tr th {\n",
              "        vertical-align: top;\n",
              "    }\n",
              "\n",
              "    .dataframe thead th {\n",
              "        text-align: right;\n",
              "    }\n",
              "</style>\n",
              "<table border=\"1\" class=\"dataframe\">\n",
              "  <thead>\n",
              "    <tr style=\"text-align: right;\">\n",
              "      <th></th>\n",
              "      <th>Region</th>\n",
              "      <th>State</th>\n",
              "      <th>mode_medicare_pricing_for_established_patient</th>\n",
              "      <th>zip_code</th>\n",
              "    </tr>\n",
              "  </thead>\n",
              "  <tbody>\n",
              "    <tr>\n",
              "      <th>0</th>\n",
              "      <td>East North Central</td>\n",
              "      <td>IL</td>\n",
              "      <td>$100 to $104.9</td>\n",
              "      <td>1246</td>\n",
              "    </tr>\n",
              "    <tr>\n",
              "      <th>1</th>\n",
              "      <td>East North Central</td>\n",
              "      <td>IL</td>\n",
              "      <td>$110 to $119.9</td>\n",
              "      <td>383</td>\n",
              "    </tr>\n",
              "    <tr>\n",
              "      <th>2</th>\n",
              "      <td>East North Central</td>\n",
              "      <td>IN</td>\n",
              "      <td>$95 to $99.9</td>\n",
              "      <td>999</td>\n",
              "    </tr>\n",
              "    <tr>\n",
              "      <th>3</th>\n",
              "      <td>East North Central</td>\n",
              "      <td>MI</td>\n",
              "      <td>$100 to $104.9</td>\n",
              "      <td>934</td>\n",
              "    </tr>\n",
              "    <tr>\n",
              "      <th>4</th>\n",
              "      <td>East North Central</td>\n",
              "      <td>MI</td>\n",
              "      <td>$105 to $109.9</td>\n",
              "      <td>249</td>\n",
              "    </tr>\n",
              "    <tr>\n",
              "      <th>...</th>\n",
              "      <td>...</td>\n",
              "      <td>...</td>\n",
              "      <td>...</td>\n",
              "      <td>...</td>\n",
              "    </tr>\n",
              "    <tr>\n",
              "      <th>71</th>\n",
              "      <td>West South Central</td>\n",
              "      <td>OK</td>\n",
              "      <td>$100 to $104.9</td>\n",
              "      <td>1</td>\n",
              "    </tr>\n",
              "    <tr>\n",
              "      <th>72</th>\n",
              "      <td>West South Central</td>\n",
              "      <td>OK</td>\n",
              "      <td>$105 to $109.9</td>\n",
              "      <td>2</td>\n",
              "    </tr>\n",
              "    <tr>\n",
              "      <th>73</th>\n",
              "      <td>West South Central</td>\n",
              "      <td>OK</td>\n",
              "      <td>$95 to $99.9</td>\n",
              "      <td>790</td>\n",
              "    </tr>\n",
              "    <tr>\n",
              "      <th>74</th>\n",
              "      <td>West South Central</td>\n",
              "      <td>TX</td>\n",
              "      <td>$100 to $104.9</td>\n",
              "      <td>2044</td>\n",
              "    </tr>\n",
              "    <tr>\n",
              "      <th>75</th>\n",
              "      <td>West South Central</td>\n",
              "      <td>TX</td>\n",
              "      <td>$105 to $109.9</td>\n",
              "      <td>560</td>\n",
              "    </tr>\n",
              "  </tbody>\n",
              "</table>\n",
              "<p>76 rows × 4 columns</p>\n",
              "</div>\n",
              "      <button class=\"colab-df-convert\" onclick=\"convertToInteractive('df-f42fb4c7-36e0-45e2-bdea-8f9fff74eff5')\"\n",
              "              title=\"Convert this dataframe to an interactive table.\"\n",
              "              style=\"display:none;\">\n",
              "        \n",
              "  <svg xmlns=\"http://www.w3.org/2000/svg\" height=\"24px\"viewBox=\"0 0 24 24\"\n",
              "       width=\"24px\">\n",
              "    <path d=\"M0 0h24v24H0V0z\" fill=\"none\"/>\n",
              "    <path d=\"M18.56 5.44l.94 2.06.94-2.06 2.06-.94-2.06-.94-.94-2.06-.94 2.06-2.06.94zm-11 1L8.5 8.5l.94-2.06 2.06-.94-2.06-.94L8.5 2.5l-.94 2.06-2.06.94zm10 10l.94 2.06.94-2.06 2.06-.94-2.06-.94-.94-2.06-.94 2.06-2.06.94z\"/><path d=\"M17.41 7.96l-1.37-1.37c-.4-.4-.92-.59-1.43-.59-.52 0-1.04.2-1.43.59L10.3 9.45l-7.72 7.72c-.78.78-.78 2.05 0 2.83L4 21.41c.39.39.9.59 1.41.59.51 0 1.02-.2 1.41-.59l7.78-7.78 2.81-2.81c.8-.78.8-2.07 0-2.86zM5.41 20L4 18.59l7.72-7.72 1.47 1.35L5.41 20z\"/>\n",
              "  </svg>\n",
              "      </button>\n",
              "      \n",
              "  <style>\n",
              "    .colab-df-container {\n",
              "      display:flex;\n",
              "      flex-wrap:wrap;\n",
              "      gap: 12px;\n",
              "    }\n",
              "\n",
              "    .colab-df-convert {\n",
              "      background-color: #E8F0FE;\n",
              "      border: none;\n",
              "      border-radius: 50%;\n",
              "      cursor: pointer;\n",
              "      display: none;\n",
              "      fill: #1967D2;\n",
              "      height: 32px;\n",
              "      padding: 0 0 0 0;\n",
              "      width: 32px;\n",
              "    }\n",
              "\n",
              "    .colab-df-convert:hover {\n",
              "      background-color: #E2EBFA;\n",
              "      box-shadow: 0px 1px 2px rgba(60, 64, 67, 0.3), 0px 1px 3px 1px rgba(60, 64, 67, 0.15);\n",
              "      fill: #174EA6;\n",
              "    }\n",
              "\n",
              "    [theme=dark] .colab-df-convert {\n",
              "      background-color: #3B4455;\n",
              "      fill: #D2E3FC;\n",
              "    }\n",
              "\n",
              "    [theme=dark] .colab-df-convert:hover {\n",
              "      background-color: #434B5C;\n",
              "      box-shadow: 0px 1px 3px 1px rgba(0, 0, 0, 0.15);\n",
              "      filter: drop-shadow(0px 1px 2px rgba(0, 0, 0, 0.3));\n",
              "      fill: #FFFFFF;\n",
              "    }\n",
              "  </style>\n",
              "\n",
              "      <script>\n",
              "        const buttonEl =\n",
              "          document.querySelector('#df-f42fb4c7-36e0-45e2-bdea-8f9fff74eff5 button.colab-df-convert');\n",
              "        buttonEl.style.display =\n",
              "          google.colab.kernel.accessAllowed ? 'block' : 'none';\n",
              "\n",
              "        async function convertToInteractive(key) {\n",
              "          const element = document.querySelector('#df-f42fb4c7-36e0-45e2-bdea-8f9fff74eff5');\n",
              "          const dataTable =\n",
              "            await google.colab.kernel.invokeFunction('convertToInteractive',\n",
              "                                                     [key], {});\n",
              "          if (!dataTable) return;\n",
              "\n",
              "          const docLinkHtml = 'Like what you see? Visit the ' +\n",
              "            '<a target=\"_blank\" href=https://colab.research.google.com/notebooks/data_table.ipynb>data table notebook</a>'\n",
              "            + ' to learn more about interactive tables.';\n",
              "          element.innerHTML = '';\n",
              "          dataTable['output_type'] = 'display_data';\n",
              "          await google.colab.output.renderOutput(dataTable, element);\n",
              "          const docLink = document.createElement('div');\n",
              "          docLink.innerHTML = docLinkHtml;\n",
              "          element.appendChild(docLink);\n",
              "        }\n",
              "      </script>\n",
              "    </div>\n",
              "  </div>\n",
              "  "
            ]
          },
          "metadata": {},
          "execution_count": 102
        }
      ]
    },
    {
      "cell_type": "code",
      "source": [
        "fig = px.treemap(grouped_visits,\n",
        "                 path=['Region','State', 'mode_medicare_pricing_for_established_patient'],\n",
        "                 width=1000, height=1000)\n",
        "\n",
        "fig.update_layout(margin = dict(t=50, l=25, r=25, b=25))\n",
        "fig.update_coloraxes(colorbar_orientation='h')\n",
        "fig.update_traces(marker_line_width = 0.1)\n",
        "fig.show()"
      ],
      "metadata": {
        "colab": {
          "base_uri": "https://localhost:8080/",
          "height": 1000
        },
        "id": "HBsP3CtAlGRE",
        "outputId": "16224e6d-21a9-4aec-c957-19541aab5d84"
      },
      "execution_count": 103,
      "outputs": [
        {
          "output_type": "display_data",
          "data": {
            "text/html": [
              "<html>\n",
              "<head><meta charset=\"utf-8\" /></head>\n",
              "<body>\n",
              "    <div>            <script src=\"https://cdnjs.cloudflare.com/ajax/libs/mathjax/2.7.5/MathJax.js?config=TeX-AMS-MML_SVG\"></script><script type=\"text/javascript\">if (window.MathJax) {MathJax.Hub.Config({SVG: {font: \"STIX-Web\"}});}</script>                <script type=\"text/javascript\">window.PlotlyConfig = {MathJaxConfig: 'local'};</script>\n",
              "        <script src=\"https://cdn.plot.ly/plotly-2.8.3.min.js\"></script>                <div id=\"da5d77f0-478b-43c1-b139-a410fc14a9d9\" class=\"plotly-graph-div\" style=\"height:1000px; width:1000px;\"></div>            <script type=\"text/javascript\">                                    window.PLOTLYENV=window.PLOTLYENV || {};                                    if (document.getElementById(\"da5d77f0-478b-43c1-b139-a410fc14a9d9\")) {                    Plotly.newPlot(                        \"da5d77f0-478b-43c1-b139-a410fc14a9d9\",                        [{\"branchvalues\":\"total\",\"domain\":{\"x\":[0.0,1.0],\"y\":[0.0,1.0]},\"hovertemplate\":\"labels=%{label}<br>count=%{value}<br>parent=%{parent}<br>id=%{id}<extra></extra>\",\"ids\":[\"Mountain/AZ/$100 to $104.9\",\"South Atlantic/GA/$100 to $104.9\",\"East North Central/IL/$100 to $104.9\",\"West South Central/LA/$100 to $104.9\",\"New England/ME/$100 to $104.9\",\"East North Central/MI/$100 to $104.9\",\"West North Central/MN/$100 to $104.9\",\"West North Central/MO/$100 to $104.9\",\"Mountain/MT/$100 to $104.9\",\"South Atlantic/NC/$100 to $104.9\",\"West North Central/ND/$100 to $104.9\",\"Mountain/NM/$100 to $104.9\",\"Middle Atlantic/NY/$100 to $104.9\",\"East North Central/OH/$100 to $104.9\",\"West South Central/OK/$100 to $104.9\",\"Pacific/OR/$100 to $104.9\",\"Middle Atlantic/PA/$100 to $104.9\",\"West North Central/SD/$100 to $104.9\",\"West South Central/TX/$100 to $104.9\",\"Mountain/UT/$100 to $104.9\",\"South Atlantic/VA/$100 to $104.9\",\"New England/VT/$100 to $104.9\",\"Pacific/WA/$100 to $104.9\",\"Mountain/WY/$100 to $104.9\",\"Pacific/CA/$105 to $109.9\",\"Mountain/CO/$105 to $109.9\",\"South Atlantic/DE/$105 to $109.9\",\"South Atlantic/GA/$105 to $109.9\",\"New England/MA/$105 to $109.9\",\"East North Central/MI/$105 to $109.9\",\"New England/NH/$105 to $109.9\",\"Mountain/NV/$105 to $109.9\",\"West South Central/OK/$105 to $109.9\",\"Pacific/OR/$105 to $109.9\",\"New England/RI/$105 to $109.9\",\"West South Central/TX/$105 to $109.9\",\"South Atlantic/VA/$105 to $109.9\",\"New England/VT/$105 to $109.9\",\"Pacific/CA/$110 to $119.9\",\"New England/CT/$110 to $119.9\",\"South Atlantic/GA/$110 to $119.9\",\"Pacific/HI/$110 to $119.9\",\"East North Central/IL/$110 to $119.9\",\"Middle Atlantic/NJ/$110 to $119.9\",\"Middle Atlantic/NY/$110 to $119.9\",\"Middle Atlantic/PA/$110 to $119.9\",\"South Atlantic/VA/$110 to $119.9\",\"Pacific/CA/$115 to $119.9\",\"New England/MA/$115 to $119.9\",\"Middle Atlantic/NJ/$115 to $119.9\",\"Pacific/WA/$115 to $119.9\",\"Pacific/CA/$120 to $124.9\",\"New England/CT/$120 to $124.9\",\"South Atlantic/DC/$120 to $124.9\",\"Middle Atlantic/NY/$120 to $124.9\",\"South Atlantic/VA/$120 to $124.9\",\"Pacific/CA/$125 to $129.9\",\"Middle Atlantic/NY/$125 to $129.9\",\"East South Central/AR/$95 to $99.9\",\"South Atlantic/GA/$95 to $99.9\",\"West North Central/IA/$95 to $99.9\",\"Mountain/ID/$95 to $99.9\",\"East North Central/IN/$95 to $99.9\",\"West North Central/KS/$95 to $99.9\",\"East South Central/KY/$95 to $99.9\",\"New England/ME/$95 to $99.9\",\"West North Central/MO/$95 to $99.9\",\"East South Central/MS/$95 to $99.9\",\"West North Central/NE/$95 to $99.9\",\"West South Central/OK/$95 to $99.9\",\"South Atlantic/SC/$95 to $99.9\",\"East South Central/TN/$95 to $99.9\",\"East North Central/WI/$95 to $99.9\",\"South Atlantic/WV/$95 to $99.9\",\"Mountain/WY/$95 to $99.9\",\"Pacific/AK/(135.0, 139.999999]\",\"Pacific/AK\",\"East South Central/AR\",\"Mountain/AZ\",\"Pacific/CA\",\"Mountain/CO\",\"New England/CT\",\"South Atlantic/DC\",\"South Atlantic/DE\",\"South Atlantic/GA\",\"Pacific/HI\",\"West North Central/IA\",\"Mountain/ID\",\"East North Central/IL\",\"East North Central/IN\",\"West North Central/KS\",\"East South Central/KY\",\"West South Central/LA\",\"New England/MA\",\"New England/ME\",\"East North Central/MI\",\"West North Central/MN\",\"West North Central/MO\",\"East South Central/MS\",\"Mountain/MT\",\"South Atlantic/NC\",\"West North Central/ND\",\"West North Central/NE\",\"New England/NH\",\"Middle Atlantic/NJ\",\"Mountain/NM\",\"Mountain/NV\",\"Middle Atlantic/NY\",\"East North Central/OH\",\"West South Central/OK\",\"Pacific/OR\",\"Middle Atlantic/PA\",\"New England/RI\",\"South Atlantic/SC\",\"West North Central/SD\",\"East South Central/TN\",\"West South Central/TX\",\"Mountain/UT\",\"South Atlantic/VA\",\"New England/VT\",\"Pacific/WA\",\"East North Central/WI\",\"South Atlantic/WV\",\"Mountain/WY\",\"East North Central\",\"East South Central\",\"Middle Atlantic\",\"Mountain\",\"New England\",\"Pacific\",\"South Atlantic\",\"West North Central\",\"West South Central\"],\"labels\":[\"$100 to $104.9\",\"$100 to $104.9\",\"$100 to $104.9\",\"$100 to $104.9\",\"$100 to $104.9\",\"$100 to $104.9\",\"$100 to $104.9\",\"$100 to $104.9\",\"$100 to $104.9\",\"$100 to $104.9\",\"$100 to $104.9\",\"$100 to $104.9\",\"$100 to $104.9\",\"$100 to $104.9\",\"$100 to $104.9\",\"$100 to $104.9\",\"$100 to $104.9\",\"$100 to $104.9\",\"$100 to $104.9\",\"$100 to $104.9\",\"$100 to $104.9\",\"$100 to $104.9\",\"$100 to $104.9\",\"$100 to $104.9\",\"$105 to $109.9\",\"$105 to $109.9\",\"$105 to $109.9\",\"$105 to $109.9\",\"$105 to $109.9\",\"$105 to $109.9\",\"$105 to $109.9\",\"$105 to $109.9\",\"$105 to $109.9\",\"$105 to $109.9\",\"$105 to $109.9\",\"$105 to $109.9\",\"$105 to $109.9\",\"$105 to $109.9\",\"$110 to $119.9\",\"$110 to $119.9\",\"$110 to $119.9\",\"$110 to $119.9\",\"$110 to $119.9\",\"$110 to $119.9\",\"$110 to $119.9\",\"$110 to $119.9\",\"$110 to $119.9\",\"$115 to $119.9\",\"$115 to $119.9\",\"$115 to $119.9\",\"$115 to $119.9\",\"$120 to $124.9\",\"$120 to $124.9\",\"$120 to $124.9\",\"$120 to $124.9\",\"$120 to $124.9\",\"$125 to $129.9\",\"$125 to $129.9\",\"$95 to $99.9\",\"$95 to $99.9\",\"$95 to $99.9\",\"$95 to $99.9\",\"$95 to $99.9\",\"$95 to $99.9\",\"$95 to $99.9\",\"$95 to $99.9\",\"$95 to $99.9\",\"$95 to $99.9\",\"$95 to $99.9\",\"$95 to $99.9\",\"$95 to $99.9\",\"$95 to $99.9\",\"$95 to $99.9\",\"$95 to $99.9\",\"$95 to $99.9\",\"(135.0, 139.999999]\",\"AK\",\"AR\",\"AZ\",\"CA\",\"CO\",\"CT\",\"DC\",\"DE\",\"GA\",\"HI\",\"IA\",\"ID\",\"IL\",\"IN\",\"KS\",\"KY\",\"LA\",\"MA\",\"ME\",\"MI\",\"MN\",\"MO\",\"MS\",\"MT\",\"NC\",\"ND\",\"NE\",\"NH\",\"NJ\",\"NM\",\"NV\",\"NY\",\"OH\",\"OK\",\"OR\",\"PA\",\"RI\",\"SC\",\"SD\",\"TN\",\"TX\",\"UT\",\"VA\",\"VT\",\"WA\",\"WI\",\"WV\",\"WY\",\"East North Central\",\"East South Central\",\"Middle Atlantic\",\"Mountain\",\"New England\",\"Pacific\",\"South Atlantic\",\"West North Central\",\"West South Central\"],\"name\":\"\",\"parents\":[\"Mountain/AZ\",\"South Atlantic/GA\",\"East North Central/IL\",\"West South Central/LA\",\"New England/ME\",\"East North Central/MI\",\"West North Central/MN\",\"West North Central/MO\",\"Mountain/MT\",\"South Atlantic/NC\",\"West North Central/ND\",\"Mountain/NM\",\"Middle Atlantic/NY\",\"East North Central/OH\",\"West South Central/OK\",\"Pacific/OR\",\"Middle Atlantic/PA\",\"West North Central/SD\",\"West South Central/TX\",\"Mountain/UT\",\"South Atlantic/VA\",\"New England/VT\",\"Pacific/WA\",\"Mountain/WY\",\"Pacific/CA\",\"Mountain/CO\",\"South Atlantic/DE\",\"South Atlantic/GA\",\"New England/MA\",\"East North Central/MI\",\"New England/NH\",\"Mountain/NV\",\"West South Central/OK\",\"Pacific/OR\",\"New England/RI\",\"West South Central/TX\",\"South Atlantic/VA\",\"New England/VT\",\"Pacific/CA\",\"New England/CT\",\"South Atlantic/GA\",\"Pacific/HI\",\"East North Central/IL\",\"Middle Atlantic/NJ\",\"Middle Atlantic/NY\",\"Middle Atlantic/PA\",\"South Atlantic/VA\",\"Pacific/CA\",\"New England/MA\",\"Middle Atlantic/NJ\",\"Pacific/WA\",\"Pacific/CA\",\"New England/CT\",\"South Atlantic/DC\",\"Middle Atlantic/NY\",\"South Atlantic/VA\",\"Pacific/CA\",\"Middle Atlantic/NY\",\"East South Central/AR\",\"South Atlantic/GA\",\"West North Central/IA\",\"Mountain/ID\",\"East North Central/IN\",\"West North Central/KS\",\"East South Central/KY\",\"New England/ME\",\"West North Central/MO\",\"East South Central/MS\",\"West North Central/NE\",\"West South Central/OK\",\"South Atlantic/SC\",\"East South Central/TN\",\"East North Central/WI\",\"South Atlantic/WV\",\"Mountain/WY\",\"Pacific/AK\",\"Pacific\",\"East South Central\",\"Mountain\",\"Pacific\",\"Mountain\",\"New England\",\"South Atlantic\",\"South Atlantic\",\"South Atlantic\",\"Pacific\",\"West North Central\",\"Mountain\",\"East North Central\",\"East North Central\",\"West North Central\",\"East South Central\",\"West South Central\",\"New England\",\"New England\",\"East North Central\",\"West North Central\",\"West North Central\",\"East South Central\",\"Mountain\",\"South Atlantic\",\"West North Central\",\"West North Central\",\"New England\",\"Middle Atlantic\",\"Mountain\",\"Mountain\",\"Middle Atlantic\",\"East North Central\",\"West South Central\",\"Pacific\",\"Middle Atlantic\",\"New England\",\"South Atlantic\",\"West North Central\",\"East South Central\",\"West South Central\",\"Mountain\",\"South Atlantic\",\"New England\",\"Pacific\",\"East North Central\",\"South Atlantic\",\"Mountain\",\"\",\"\",\"\",\"\",\"\",\"\",\"\",\"\",\"\"],\"values\":[1,1,1,1,1,1,1,1,1,1,1,1,1,1,1,1,1,1,1,1,1,1,1,1,1,1,1,1,1,1,1,1,1,1,1,1,1,1,1,1,1,1,1,1,1,1,1,1,1,1,1,1,1,1,1,1,1,1,1,1,1,1,1,1,1,1,1,1,1,1,1,1,1,1,1,1,1,1,1,5,1,2,1,1,4,1,1,1,2,1,1,1,1,2,2,2,1,2,1,1,1,1,1,1,2,1,1,4,1,3,2,2,1,1,1,1,2,1,4,2,2,1,1,2,7,4,8,9,10,11,13,8,6],\"type\":\"treemap\",\"marker\":{\"line\":{\"width\":0.1}}}],                        {\"template\":{\"data\":{\"bar\":[{\"error_x\":{\"color\":\"#2a3f5f\"},\"error_y\":{\"color\":\"#2a3f5f\"},\"marker\":{\"line\":{\"color\":\"#E5ECF6\",\"width\":0.5},\"pattern\":{\"fillmode\":\"overlay\",\"size\":10,\"solidity\":0.2}},\"type\":\"bar\"}],\"barpolar\":[{\"marker\":{\"line\":{\"color\":\"#E5ECF6\",\"width\":0.5},\"pattern\":{\"fillmode\":\"overlay\",\"size\":10,\"solidity\":0.2}},\"type\":\"barpolar\"}],\"carpet\":[{\"aaxis\":{\"endlinecolor\":\"#2a3f5f\",\"gridcolor\":\"white\",\"linecolor\":\"white\",\"minorgridcolor\":\"white\",\"startlinecolor\":\"#2a3f5f\"},\"baxis\":{\"endlinecolor\":\"#2a3f5f\",\"gridcolor\":\"white\",\"linecolor\":\"white\",\"minorgridcolor\":\"white\",\"startlinecolor\":\"#2a3f5f\"},\"type\":\"carpet\"}],\"choropleth\":[{\"colorbar\":{\"outlinewidth\":0,\"ticks\":\"\"},\"type\":\"choropleth\"}],\"contour\":[{\"colorbar\":{\"outlinewidth\":0,\"ticks\":\"\"},\"colorscale\":[[0.0,\"#0d0887\"],[0.1111111111111111,\"#46039f\"],[0.2222222222222222,\"#7201a8\"],[0.3333333333333333,\"#9c179e\"],[0.4444444444444444,\"#bd3786\"],[0.5555555555555556,\"#d8576b\"],[0.6666666666666666,\"#ed7953\"],[0.7777777777777778,\"#fb9f3a\"],[0.8888888888888888,\"#fdca26\"],[1.0,\"#f0f921\"]],\"type\":\"contour\"}],\"contourcarpet\":[{\"colorbar\":{\"outlinewidth\":0,\"ticks\":\"\"},\"type\":\"contourcarpet\"}],\"heatmap\":[{\"colorbar\":{\"outlinewidth\":0,\"ticks\":\"\"},\"colorscale\":[[0.0,\"#0d0887\"],[0.1111111111111111,\"#46039f\"],[0.2222222222222222,\"#7201a8\"],[0.3333333333333333,\"#9c179e\"],[0.4444444444444444,\"#bd3786\"],[0.5555555555555556,\"#d8576b\"],[0.6666666666666666,\"#ed7953\"],[0.7777777777777778,\"#fb9f3a\"],[0.8888888888888888,\"#fdca26\"],[1.0,\"#f0f921\"]],\"type\":\"heatmap\"}],\"heatmapgl\":[{\"colorbar\":{\"outlinewidth\":0,\"ticks\":\"\"},\"colorscale\":[[0.0,\"#0d0887\"],[0.1111111111111111,\"#46039f\"],[0.2222222222222222,\"#7201a8\"],[0.3333333333333333,\"#9c179e\"],[0.4444444444444444,\"#bd3786\"],[0.5555555555555556,\"#d8576b\"],[0.6666666666666666,\"#ed7953\"],[0.7777777777777778,\"#fb9f3a\"],[0.8888888888888888,\"#fdca26\"],[1.0,\"#f0f921\"]],\"type\":\"heatmapgl\"}],\"histogram\":[{\"marker\":{\"pattern\":{\"fillmode\":\"overlay\",\"size\":10,\"solidity\":0.2}},\"type\":\"histogram\"}],\"histogram2d\":[{\"colorbar\":{\"outlinewidth\":0,\"ticks\":\"\"},\"colorscale\":[[0.0,\"#0d0887\"],[0.1111111111111111,\"#46039f\"],[0.2222222222222222,\"#7201a8\"],[0.3333333333333333,\"#9c179e\"],[0.4444444444444444,\"#bd3786\"],[0.5555555555555556,\"#d8576b\"],[0.6666666666666666,\"#ed7953\"],[0.7777777777777778,\"#fb9f3a\"],[0.8888888888888888,\"#fdca26\"],[1.0,\"#f0f921\"]],\"type\":\"histogram2d\"}],\"histogram2dcontour\":[{\"colorbar\":{\"outlinewidth\":0,\"ticks\":\"\"},\"colorscale\":[[0.0,\"#0d0887\"],[0.1111111111111111,\"#46039f\"],[0.2222222222222222,\"#7201a8\"],[0.3333333333333333,\"#9c179e\"],[0.4444444444444444,\"#bd3786\"],[0.5555555555555556,\"#d8576b\"],[0.6666666666666666,\"#ed7953\"],[0.7777777777777778,\"#fb9f3a\"],[0.8888888888888888,\"#fdca26\"],[1.0,\"#f0f921\"]],\"type\":\"histogram2dcontour\"}],\"mesh3d\":[{\"colorbar\":{\"outlinewidth\":0,\"ticks\":\"\"},\"type\":\"mesh3d\"}],\"parcoords\":[{\"line\":{\"colorbar\":{\"outlinewidth\":0,\"ticks\":\"\"}},\"type\":\"parcoords\"}],\"pie\":[{\"automargin\":true,\"type\":\"pie\"}],\"scatter\":[{\"marker\":{\"colorbar\":{\"outlinewidth\":0,\"ticks\":\"\"}},\"type\":\"scatter\"}],\"scatter3d\":[{\"line\":{\"colorbar\":{\"outlinewidth\":0,\"ticks\":\"\"}},\"marker\":{\"colorbar\":{\"outlinewidth\":0,\"ticks\":\"\"}},\"type\":\"scatter3d\"}],\"scattercarpet\":[{\"marker\":{\"colorbar\":{\"outlinewidth\":0,\"ticks\":\"\"}},\"type\":\"scattercarpet\"}],\"scattergeo\":[{\"marker\":{\"colorbar\":{\"outlinewidth\":0,\"ticks\":\"\"}},\"type\":\"scattergeo\"}],\"scattergl\":[{\"marker\":{\"colorbar\":{\"outlinewidth\":0,\"ticks\":\"\"}},\"type\":\"scattergl\"}],\"scattermapbox\":[{\"marker\":{\"colorbar\":{\"outlinewidth\":0,\"ticks\":\"\"}},\"type\":\"scattermapbox\"}],\"scatterpolar\":[{\"marker\":{\"colorbar\":{\"outlinewidth\":0,\"ticks\":\"\"}},\"type\":\"scatterpolar\"}],\"scatterpolargl\":[{\"marker\":{\"colorbar\":{\"outlinewidth\":0,\"ticks\":\"\"}},\"type\":\"scatterpolargl\"}],\"scatterternary\":[{\"marker\":{\"colorbar\":{\"outlinewidth\":0,\"ticks\":\"\"}},\"type\":\"scatterternary\"}],\"surface\":[{\"colorbar\":{\"outlinewidth\":0,\"ticks\":\"\"},\"colorscale\":[[0.0,\"#0d0887\"],[0.1111111111111111,\"#46039f\"],[0.2222222222222222,\"#7201a8\"],[0.3333333333333333,\"#9c179e\"],[0.4444444444444444,\"#bd3786\"],[0.5555555555555556,\"#d8576b\"],[0.6666666666666666,\"#ed7953\"],[0.7777777777777778,\"#fb9f3a\"],[0.8888888888888888,\"#fdca26\"],[1.0,\"#f0f921\"]],\"type\":\"surface\"}],\"table\":[{\"cells\":{\"fill\":{\"color\":\"#EBF0F8\"},\"line\":{\"color\":\"white\"}},\"header\":{\"fill\":{\"color\":\"#C8D4E3\"},\"line\":{\"color\":\"white\"}},\"type\":\"table\"}]},\"layout\":{\"annotationdefaults\":{\"arrowcolor\":\"#2a3f5f\",\"arrowhead\":0,\"arrowwidth\":1},\"autotypenumbers\":\"strict\",\"coloraxis\":{\"colorbar\":{\"outlinewidth\":0,\"ticks\":\"\"}},\"colorscale\":{\"diverging\":[[0,\"#8e0152\"],[0.1,\"#c51b7d\"],[0.2,\"#de77ae\"],[0.3,\"#f1b6da\"],[0.4,\"#fde0ef\"],[0.5,\"#f7f7f7\"],[0.6,\"#e6f5d0\"],[0.7,\"#b8e186\"],[0.8,\"#7fbc41\"],[0.9,\"#4d9221\"],[1,\"#276419\"]],\"sequential\":[[0.0,\"#0d0887\"],[0.1111111111111111,\"#46039f\"],[0.2222222222222222,\"#7201a8\"],[0.3333333333333333,\"#9c179e\"],[0.4444444444444444,\"#bd3786\"],[0.5555555555555556,\"#d8576b\"],[0.6666666666666666,\"#ed7953\"],[0.7777777777777778,\"#fb9f3a\"],[0.8888888888888888,\"#fdca26\"],[1.0,\"#f0f921\"]],\"sequentialminus\":[[0.0,\"#0d0887\"],[0.1111111111111111,\"#46039f\"],[0.2222222222222222,\"#7201a8\"],[0.3333333333333333,\"#9c179e\"],[0.4444444444444444,\"#bd3786\"],[0.5555555555555556,\"#d8576b\"],[0.6666666666666666,\"#ed7953\"],[0.7777777777777778,\"#fb9f3a\"],[0.8888888888888888,\"#fdca26\"],[1.0,\"#f0f921\"]]},\"colorway\":[\"#636efa\",\"#EF553B\",\"#00cc96\",\"#ab63fa\",\"#FFA15A\",\"#19d3f3\",\"#FF6692\",\"#B6E880\",\"#FF97FF\",\"#FECB52\"],\"font\":{\"color\":\"#2a3f5f\"},\"geo\":{\"bgcolor\":\"white\",\"lakecolor\":\"white\",\"landcolor\":\"#E5ECF6\",\"showlakes\":true,\"showland\":true,\"subunitcolor\":\"white\"},\"hoverlabel\":{\"align\":\"left\"},\"hovermode\":\"closest\",\"mapbox\":{\"style\":\"light\"},\"paper_bgcolor\":\"white\",\"plot_bgcolor\":\"#E5ECF6\",\"polar\":{\"angularaxis\":{\"gridcolor\":\"white\",\"linecolor\":\"white\",\"ticks\":\"\"},\"bgcolor\":\"#E5ECF6\",\"radialaxis\":{\"gridcolor\":\"white\",\"linecolor\":\"white\",\"ticks\":\"\"}},\"scene\":{\"xaxis\":{\"backgroundcolor\":\"#E5ECF6\",\"gridcolor\":\"white\",\"gridwidth\":2,\"linecolor\":\"white\",\"showbackground\":true,\"ticks\":\"\",\"zerolinecolor\":\"white\"},\"yaxis\":{\"backgroundcolor\":\"#E5ECF6\",\"gridcolor\":\"white\",\"gridwidth\":2,\"linecolor\":\"white\",\"showbackground\":true,\"ticks\":\"\",\"zerolinecolor\":\"white\"},\"zaxis\":{\"backgroundcolor\":\"#E5ECF6\",\"gridcolor\":\"white\",\"gridwidth\":2,\"linecolor\":\"white\",\"showbackground\":true,\"ticks\":\"\",\"zerolinecolor\":\"white\"}},\"shapedefaults\":{\"line\":{\"color\":\"#2a3f5f\"}},\"ternary\":{\"aaxis\":{\"gridcolor\":\"white\",\"linecolor\":\"white\",\"ticks\":\"\"},\"baxis\":{\"gridcolor\":\"white\",\"linecolor\":\"white\",\"ticks\":\"\"},\"bgcolor\":\"#E5ECF6\",\"caxis\":{\"gridcolor\":\"white\",\"linecolor\":\"white\",\"ticks\":\"\"}},\"title\":{\"x\":0.05},\"xaxis\":{\"automargin\":true,\"gridcolor\":\"white\",\"linecolor\":\"white\",\"ticks\":\"\",\"title\":{\"standoff\":15},\"zerolinecolor\":\"white\",\"zerolinewidth\":2},\"yaxis\":{\"automargin\":true,\"gridcolor\":\"white\",\"linecolor\":\"white\",\"ticks\":\"\",\"title\":{\"standoff\":15},\"zerolinecolor\":\"white\",\"zerolinewidth\":2}}},\"legend\":{\"tracegroupgap\":0},\"margin\":{\"t\":50,\"l\":25,\"r\":25,\"b\":25},\"height\":1000,\"width\":1000,\"coloraxis\":{\"colorbar\":{\"orientation\":\"h\"}}},                        {\"responsive\": true}                    ).then(function(){\n",
              "                            \n",
              "var gd = document.getElementById('da5d77f0-478b-43c1-b139-a410fc14a9d9');\n",
              "var x = new MutationObserver(function (mutations, observer) {{\n",
              "        var display = window.getComputedStyle(gd).display;\n",
              "        if (!display || display === 'none') {{\n",
              "            console.log([gd, 'removed!']);\n",
              "            Plotly.purge(gd);\n",
              "            observer.disconnect();\n",
              "        }}\n",
              "}});\n",
              "\n",
              "// Listen for the removal of the full notebook cells\n",
              "var notebookContainer = gd.closest('#notebook-container');\n",
              "if (notebookContainer) {{\n",
              "    x.observe(notebookContainer, {childList: true});\n",
              "}}\n",
              "\n",
              "// Listen for the clearing of the current output cell\n",
              "var outputEl = gd.closest('.output');\n",
              "if (outputEl) {{\n",
              "    x.observe(outputEl, {childList: true});\n",
              "}}\n",
              "\n",
              "                        })                };                            </script>        </div>\n",
              "</body>\n",
              "</html>"
            ]
          },
          "metadata": {}
        }
      ]
    },
    {
      "cell_type": "code",
      "source": [
        "\n",
        "fig = px.treemap(grouped,\n",
        "                 path=['State', 'mode_medicare_pricing_for_established_patient'],\n",
        "                 values='index',\n",
        "                 width=750, height=500)\n",
        "\n",
        "fig.update_layout(margin = dict(t=50, l=25, r=25, b=25))\n",
        "fig.update_coloraxes(colorbar_orientation='h')\n",
        "fig.update_traces(marker_line_width = 0.1)\n",
        "fig.show()"
      ],
      "metadata": {
        "id": "TtyJalcMMmra"
      },
      "execution_count": null,
      "outputs": []
    },
    {
      "cell_type": "code",
      "source": [
        ""
      ],
      "metadata": {
        "id": "DzacXi8rLXUs"
      },
      "execution_count": null,
      "outputs": []
    },
    {
      "cell_type": "markdown",
      "source": [
        "### Other Graphs"
      ],
      "metadata": {
        "id": "xx4a5Ncse8RZ"
      }
    },
    {
      "cell_type": "code",
      "source": [
        "SA = visits[(visits['Region'] == 'South Atlantic')]\n",
        "\n",
        "fig = px.treemap(SA,\n",
        "                 path=[px.Constant(\"South Atlantic\"), 'State', 'zip_code'],\n",
        "                  color='mode_copay_for_established_patient',\n",
        "                  color_continuous_scale='RdBu',\n",
        "                 color_continuous_midpoint=np.average(SA['mode_copay_for_established_patient']),\n",
        "                 width=1800, height=900)\n",
        "\n",
        "fig.update_layout(margin = dict(t=50, l=25, r=25, b=25))\n",
        "fig.show()"
      ],
      "metadata": {
        "id": "X1PeuoYUchII"
      },
      "execution_count": null,
      "outputs": []
    },
    {
      "cell_type": "code",
      "source": [
        "SA = visits[(visits['Region'] == 'South Atlantic')]\n",
        "\n",
        "fig = px.treemap(SA,\n",
        "                 path=[px.Constant(\"South Atlantic\"), 'State', 'zip_code'],\n",
        "                  color='mode_medicare_pricing_for_established_patient',\n",
        "                  color_continuous_scale='RdBu',\n",
        "                 color_continuous_midpoint=np.average(SA['mode_medicare_pricing_for_established_patient']),\n",
        "                 width=2000, height=1000)\n",
        "\n",
        "fig.update_layout(margin = dict(t=50, l=25, r=25, b=25))\n",
        "fig.show()"
      ],
      "metadata": {
        "id": "mtRdGG_vfscA"
      },
      "execution_count": null,
      "outputs": []
    },
    {
      "cell_type": "code",
      "source": [
        "SA = visits[(visits['Region'] == 'South Atlantic')]\n",
        "\n",
        "fig = px.treemap(SA,\n",
        "                 path=[px.Constant(\"South Atlantic\"), 'State', 'zip_code'],\n",
        "                  color='min_medicare_pricing_for_new_patient',\n",
        "                  color_continuous_scale='RdBu',\n",
        "                 color_continuous_midpoint=np.average(SA['min_medicare_pricing_for_new_patient']))\n",
        "\n",
        "fig.update_layout(margin = dict(t=50, l=25, r=25, b=25))\n",
        "fig.show()"
      ],
      "metadata": {
        "id": "vEQXI0UP3SyY"
      },
      "execution_count": null,
      "outputs": []
    },
    {
      "cell_type": "code",
      "source": [
        "fig = px.treemap(visits[(visits['Region'] == 'Middle Atlantic')],\n",
        "                 path=[px.Constant(\"Region\"), 'State', 'zip_code'],\n",
        "                 values='min_medicare_pricing_for_new_patient',\n",
        "                  color='min_medicare_pricing_for_new_patient',\n",
        "                  color_continuous_scale='RdBu')\n",
        "fig.update_layout(margin = dict(t=50, l=25, r=25, b=25))\n",
        "fig.show()"
      ],
      "metadata": {
        "id": "7Al2zYLY7RxV"
      },
      "execution_count": null,
      "outputs": []
    },
    {
      "cell_type": "code",
      "source": [
        "fig = px.treemap(visits[(visits['Region'] == 'Mountain')],\n",
        "                 path=[px.Constant(\"Region - Mountain\"), 'State', 'zip_code'],\n",
        "                  color='min_medicare_pricing_for_new_patient',\n",
        "                  color_continuous_scale='RdBu',\n",
        "                 color_continuous_midpoint=np.average(visits['min_medicare_pricing_for_new_patient']))\n",
        "fig.update_layout(margin = dict(t=50, l=25, r=25, b=25))\n",
        "fig.show()"
      ],
      "metadata": {
        "id": "LuXASdmBWA76"
      },
      "execution_count": null,
      "outputs": []
    },
    {
      "cell_type": "code",
      "source": [
        "fig = px.treemap(visits[(visits['Region'] == 'New England')],\n",
        "                 path=[px.Constant(\"Region\"), 'State', 'zip_code'],\n",
        "                 values='min_medicare_pricing_for_new_patient',\n",
        "                  color='min_medicare_pricing_for_new_patient',\n",
        "                  color_continuous_scale='RdBu',\n",
        "                 color_continuous_midpoint=np.average(visits['min_medicare_pricing_for_new_patient']))\n",
        "fig.update_layout(margin = dict(t=50, l=25, r=25, b=25))\n",
        "fig.show()"
      ],
      "metadata": {
        "id": "W2m1mQO3WIG9"
      },
      "execution_count": null,
      "outputs": []
    },
    {
      "cell_type": "code",
      "source": [
        "NE_Mt = visits[(visits['Region'] == 'New England') |\n",
        "                        (visits['Region'] == 'Mountain')]\n",
        "\n",
        "fig = px.treemap(NE_Mt,\n",
        "                 path=['Region', 'State', 'zip_code'],\n",
        "                 values='min_medicare_pricing_for_new_patient',\n",
        "                  color='min_medicare_pricing_for_new_patient',\n",
        "                  color_continuous_scale='RdBu',\n",
        "                 color_continuous_midpoint=np.average(NE_Mt['min_medicare_pricing_for_new_patient']))\n",
        "fig.update_layout(margin = dict(t=50, l=25, r=25, b=25))\n",
        "fig.show()"
      ],
      "metadata": {
        "id": "glY6akBMZvVc"
      },
      "execution_count": null,
      "outputs": []
    },
    {
      "cell_type": "markdown",
      "source": [
        "#### Treemap - Region, no value for color"
      ],
      "metadata": {
        "id": "aTvyNFWZCIaR"
      }
    },
    {
      "cell_type": "code",
      "source": [
        "fig = px.treemap(visits[(visits['Region'] == 'South Atlantic')],\n",
        "                 path=[px.Constant(\"South Atlantic\"), 'State', 'zip_code'],\n",
        "                 values='min_medicare_pricing_for_new_patient')\n",
        "fig.update_layout(margin = dict(t=50, l=25, r=25, b=25))\n",
        "fig.show()"
      ],
      "metadata": {
        "id": "lhuyD7lM83Cs"
      },
      "execution_count": null,
      "outputs": []
    },
    {
      "cell_type": "code",
      "source": [
        "fig = px.treemap(visits[(visits['Region'] == 'Middle Atlantic')],\n",
        "                 path=[px.Constant(\"Region\"), 'State', 'zip_code'],\n",
        "                 values='min_medicare_pricing_for_new_patient')\n",
        "fig.update_layout(margin = dict(t=50, l=25, r=25, b=25))\n",
        "fig.show()"
      ],
      "metadata": {
        "id": "sA9bpaEy89bH"
      },
      "execution_count": null,
      "outputs": []
    }
  ]
}